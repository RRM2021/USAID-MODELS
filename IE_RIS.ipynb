{
  "nbformat": 4,
  "nbformat_minor": 0,
  "metadata": {
    "colab": {
      "provenance": [],
      "authorship_tag": "ABX9TyMbfp1l7JvPQojd8ndHsDQH",
      "include_colab_link": true
    },
    "kernelspec": {
      "name": "python3",
      "display_name": "Python 3"
    },
    "language_info": {
      "name": "python"
    }
  },
  "cells": [
    {
      "cell_type": "markdown",
      "metadata": {
        "id": "view-in-github",
        "colab_type": "text"
      },
      "source": [
        "<a href=\"https://colab.research.google.com/github/RRM2021/USAID-MODELS/blob/main/IE_RIS.ipynb\" target=\"_parent\"><img src=\"https://colab.research.google.com/assets/colab-badge.svg\" alt=\"Open In Colab\"/></a>"
      ]
    },
    {
      "cell_type": "markdown",
      "source": [
        "# ESTRATEGIA DE INTEGRACIÓN REGIONAL RIS - USAID\n",
        "# INICIATIVAS INTEGRADORAS REGIONALES\n",
        "# RICARDO RAMÍREZ - ASESOR RIS"
      ],
      "metadata": {
        "id": "mq4qg6HjPsMn"
      }
    },
    {
      "cell_type": "markdown",
      "source": [
        "**OBJETIVO: Describir en forma cuantitativa y cualitativa las iniciativas integradoras regionales RIS.**\n",
        "\n",
        "PREGUNTAS:\n",
        "\n",
        "- ¿Cuántas y cuáles son las iniciativas integradoras de RIS en cada región?\n",
        "- ¿Cuáles y cuántas iniciativas apoyan iniciativas PDET?\n",
        "- ¿A cuántas y a cuáles iniciativas PDET apoyan las iniciativas integradoras RIS?\n",
        "- ¿Cuántas y cuáles iniciativas están asociadas al capítulo étnico del Acuerdo de Paz?\n",
        "- Cuántas y cuáles iniciativas integradoras RIS están alineadas con los planes de desarrollo departamentales?\n",
        "- ¿En cuántos y cuáles municipios de cada región están las iniciativas integradoras de RIS?\n",
        "- ¿Cuáles y cuántas Actividades de USAID participan en iniciativas integradoras de RIS?\n",
        "- ¿Cuáles y cuántos tipos de aliados tienen las iniciativas integradoras RIS?\n",
        "- ¿Cuáles y cuántos son los tipos de población objetivo de las iniciativas integradoras RIS?"
      ],
      "metadata": {
        "id": "BslIHfs7QIGs"
      }
    },
    {
      "cell_type": "markdown",
      "source": [
        "**SE INSTALA PYSPARK PARA PROCESAR LOS DATOS CON ESTA HERRAMIENTA DE PROCESAMIENTO DE BIG DATA**"
      ],
      "metadata": {
        "id": "pKcPWSsNVlou"
      }
    },
    {
      "cell_type": "code",
      "source": [
        "try:\n",
        "    import pyspark\n",
        "    print(\"PySpark is already installed.\")\n",
        "except ImportError:\n",
        "    print(\"PySpark is not installed. Installing now...\")\n",
        "    !pip install pyspark\n",
        "    print(\"PySpark installation complete.\")\n"
      ],
      "metadata": {
        "colab": {
          "base_uri": "https://localhost:8080/"
        },
        "id": "_DZi0WfvHMt4",
        "outputId": "10ddf862-82f5-475a-b848-4c192443413c"
      },
      "execution_count": null,
      "outputs": [
        {
          "output_type": "stream",
          "name": "stdout",
          "text": [
            "PySpark is not installed. Installing now...\n",
            "Collecting pyspark\n",
            "  Downloading pyspark-3.5.1.tar.gz (317.0 MB)\n",
            "\u001b[2K     \u001b[90m━━━━━━━━━━━━━━━━━━━━━━━━━━━━━━━━━━━━━━━━\u001b[0m \u001b[32m317.0/317.0 MB\u001b[0m \u001b[31m2.6 MB/s\u001b[0m eta \u001b[36m0:00:00\u001b[0m\n",
            "\u001b[?25h  Preparing metadata (setup.py) ... \u001b[?25l\u001b[?25hdone\n",
            "Requirement already satisfied: py4j==0.10.9.7 in /usr/local/lib/python3.10/dist-packages (from pyspark) (0.10.9.7)\n",
            "Building wheels for collected packages: pyspark\n",
            "  Building wheel for pyspark (setup.py) ... \u001b[?25l\u001b[?25hdone\n",
            "  Created wheel for pyspark: filename=pyspark-3.5.1-py2.py3-none-any.whl size=317488491 sha256=e72647a9b1f4efa6fbf9f1c212604d0e5c7101e77ae08e110f129a9149bc9962\n",
            "  Stored in directory: /root/.cache/pip/wheels/80/1d/60/2c256ed38dddce2fdd93be545214a63e02fbd8d74fb0b7f3a6\n",
            "Successfully built pyspark\n",
            "Installing collected packages: pyspark\n",
            "Successfully installed pyspark-3.5.1\n",
            "PySpark installation complete.\n"
          ]
        }
      ]
    },
    {
      "cell_type": "code",
      "source": [
        "try:\n",
        "    from pyspark import SparkContext, SparkConf\n",
        "    from pyspark.sql import SparkSession\n",
        "except ImportError as e:\n",
        "    printmd('<<<<<!!!!! Please restart your kernel after installing Apache Spark !!!!!>>>>>')"
      ],
      "metadata": {
        "id": "jdZYlphL4PHX"
      },
      "execution_count": null,
      "outputs": []
    },
    {
      "cell_type": "code",
      "source": [
        "sc = SparkContext.getOrCreate(SparkConf().setMaster(\"local[*]\"))\n",
        "\n",
        "spark = SparkSession \\\n",
        "    .builder \\\n",
        "    .getOrCreate()"
      ],
      "metadata": {
        "id": "txay1JQO4TW1"
      },
      "execution_count": null,
      "outputs": []
    },
    {
      "cell_type": "markdown",
      "source": [
        "**SE IMPORTAN LAS HERRAMIENTAS PARA DESCARGAR DATOS DESDE GOOGLE DRIVE**"
      ],
      "metadata": {
        "id": "iotY5rclVwzq"
      }
    },
    {
      "cell_type": "code",
      "source": [
        "import gspread\n",
        "from google.colab import auth"
      ],
      "metadata": {
        "id": "GJ3_CjyFxes5"
      },
      "execution_count": null,
      "outputs": []
    },
    {
      "cell_type": "code",
      "source": [
        "!pip install --upgrade google-api-python-client oauth2client"
      ],
      "metadata": {
        "colab": {
          "base_uri": "https://localhost:8080/"
        },
        "id": "wRh2_XHXzVac",
        "outputId": "9733ba38-5975-42e6-9cf9-f35229d34b65"
      },
      "execution_count": null,
      "outputs": [
        {
          "output_type": "stream",
          "name": "stdout",
          "text": [
            "Requirement already satisfied: google-api-python-client in /usr/local/lib/python3.10/dist-packages (2.84.0)\n",
            "Collecting google-api-python-client\n",
            "  Downloading google_api_python_client-2.137.0-py2.py3-none-any.whl (12.0 MB)\n",
            "\u001b[2K     \u001b[90m━━━━━━━━━━━━━━━━━━━━━━━━━━━━━━━━━━━━━━━━\u001b[0m \u001b[32m12.0/12.0 MB\u001b[0m \u001b[31m80.6 MB/s\u001b[0m eta \u001b[36m0:00:00\u001b[0m\n",
            "\u001b[?25hRequirement already satisfied: oauth2client in /usr/local/lib/python3.10/dist-packages (4.1.3)\n",
            "Requirement already satisfied: httplib2<1.dev0,>=0.19.0 in /usr/local/lib/python3.10/dist-packages (from google-api-python-client) (0.22.0)\n",
            "Requirement already satisfied: google-auth!=2.24.0,!=2.25.0,<3.0.0.dev0,>=1.32.0 in /usr/local/lib/python3.10/dist-packages (from google-api-python-client) (2.27.0)\n",
            "Collecting google-auth-httplib2<1.0.0,>=0.2.0 (from google-api-python-client)\n",
            "  Downloading google_auth_httplib2-0.2.0-py2.py3-none-any.whl (9.3 kB)\n",
            "Requirement already satisfied: google-api-core!=2.0.*,!=2.1.*,!=2.2.*,!=2.3.0,<3.0.0.dev0,>=1.31.5 in /usr/local/lib/python3.10/dist-packages (from google-api-python-client) (2.16.2)\n",
            "Requirement already satisfied: uritemplate<5,>=3.0.1 in /usr/local/lib/python3.10/dist-packages (from google-api-python-client) (4.1.1)\n",
            "Requirement already satisfied: pyasn1>=0.1.7 in /usr/local/lib/python3.10/dist-packages (from oauth2client) (0.6.0)\n",
            "Requirement already satisfied: pyasn1-modules>=0.0.5 in /usr/local/lib/python3.10/dist-packages (from oauth2client) (0.4.0)\n",
            "Requirement already satisfied: rsa>=3.1.4 in /usr/local/lib/python3.10/dist-packages (from oauth2client) (4.9)\n",
            "Requirement already satisfied: six>=1.6.1 in /usr/local/lib/python3.10/dist-packages (from oauth2client) (1.16.0)\n",
            "Requirement already satisfied: googleapis-common-protos<2.0.dev0,>=1.56.2 in /usr/local/lib/python3.10/dist-packages (from google-api-core!=2.0.*,!=2.1.*,!=2.2.*,!=2.3.0,<3.0.0.dev0,>=1.31.5->google-api-python-client) (1.63.2)\n",
            "Requirement already satisfied: protobuf!=3.20.0,!=3.20.1,!=4.21.0,!=4.21.1,!=4.21.2,!=4.21.3,!=4.21.4,!=4.21.5,<5.0.0.dev0,>=3.19.5 in /usr/local/lib/python3.10/dist-packages (from google-api-core!=2.0.*,!=2.1.*,!=2.2.*,!=2.3.0,<3.0.0.dev0,>=1.31.5->google-api-python-client) (3.20.3)\n",
            "Requirement already satisfied: requests<3.0.0.dev0,>=2.18.0 in /usr/local/lib/python3.10/dist-packages (from google-api-core!=2.0.*,!=2.1.*,!=2.2.*,!=2.3.0,<3.0.0.dev0,>=1.31.5->google-api-python-client) (2.31.0)\n",
            "Requirement already satisfied: cachetools<6.0,>=2.0.0 in /usr/local/lib/python3.10/dist-packages (from google-auth!=2.24.0,!=2.25.0,<3.0.0.dev0,>=1.32.0->google-api-python-client) (5.3.3)\n",
            "Requirement already satisfied: pyparsing!=3.0.0,!=3.0.1,!=3.0.2,!=3.0.3,<4,>=2.4.2 in /usr/local/lib/python3.10/dist-packages (from httplib2<1.dev0,>=0.19.0->google-api-python-client) (3.1.2)\n",
            "Requirement already satisfied: charset-normalizer<4,>=2 in /usr/local/lib/python3.10/dist-packages (from requests<3.0.0.dev0,>=2.18.0->google-api-core!=2.0.*,!=2.1.*,!=2.2.*,!=2.3.0,<3.0.0.dev0,>=1.31.5->google-api-python-client) (3.3.2)\n",
            "Requirement already satisfied: idna<4,>=2.5 in /usr/local/lib/python3.10/dist-packages (from requests<3.0.0.dev0,>=2.18.0->google-api-core!=2.0.*,!=2.1.*,!=2.2.*,!=2.3.0,<3.0.0.dev0,>=1.31.5->google-api-python-client) (3.7)\n",
            "Requirement already satisfied: urllib3<3,>=1.21.1 in /usr/local/lib/python3.10/dist-packages (from requests<3.0.0.dev0,>=2.18.0->google-api-core!=2.0.*,!=2.1.*,!=2.2.*,!=2.3.0,<3.0.0.dev0,>=1.31.5->google-api-python-client) (2.0.7)\n",
            "Requirement already satisfied: certifi>=2017.4.17 in /usr/local/lib/python3.10/dist-packages (from requests<3.0.0.dev0,>=2.18.0->google-api-core!=2.0.*,!=2.1.*,!=2.2.*,!=2.3.0,<3.0.0.dev0,>=1.31.5->google-api-python-client) (2024.7.4)\n",
            "Installing collected packages: google-auth-httplib2, google-api-python-client\n",
            "  Attempting uninstall: google-auth-httplib2\n",
            "    Found existing installation: google-auth-httplib2 0.1.1\n",
            "    Uninstalling google-auth-httplib2-0.1.1:\n",
            "      Successfully uninstalled google-auth-httplib2-0.1.1\n",
            "  Attempting uninstall: google-api-python-client\n",
            "    Found existing installation: google-api-python-client 2.84.0\n",
            "    Uninstalling google-api-python-client-2.84.0:\n",
            "      Successfully uninstalled google-api-python-client-2.84.0\n",
            "Successfully installed google-api-python-client-2.137.0 google-auth-httplib2-0.2.0\n"
          ]
        }
      ]
    },
    {
      "cell_type": "code",
      "source": [
        "auth.authenticate_user()"
      ],
      "metadata": {
        "id": "5OBCVBFIzc2n"
      },
      "execution_count": null,
      "outputs": []
    },
    {
      "cell_type": "code",
      "source": [
        "from google.colab import auth\n",
        "auth.authenticate_user()\n",
        "\n",
        "import gspread\n",
        "from google.auth import default\n",
        "creds, _ = default()\n",
        "\n",
        "gc = gspread.authorize(creds)"
      ],
      "metadata": {
        "id": "uOAj1YJtzoL9"
      },
      "execution_count": null,
      "outputs": []
    },
    {
      "cell_type": "markdown",
      "source": [
        "**SE DESCARGAN LOS DATOS DESDE GOOGLE DRIVE, Y SE CREAN DATA FRAMES DE PYSPARK**"
      ],
      "metadata": {
        "id": "3LNaUc_iV7CH"
      }
    },
    {
      "cell_type": "code",
      "source": [
        "spreadsheet = gc.open('Tablas de Base de Datos RIS_1_07_2024')\n",
        "worksheet = spreadsheet.worksheet('Iniciativas_RIS')\n",
        "\n",
        "# Retrieve all values from the worksheet\n",
        "data = worksheet.get_all_values()"
      ],
      "metadata": {
        "id": "C3NWL4j6z814"
      },
      "execution_count": null,
      "outputs": []
    },
    {
      "cell_type": "code",
      "source": [
        "# Extract column titles from the first row\n",
        "column_titles = data[0]\n",
        "\n",
        "# Extract data rows excluding the first row\n",
        "data_rows = data[1:]\n",
        "\n",
        "# Create DataFrame with column titles\n",
        "data_frame = spark.createDataFrame(data_rows, column_titles)"
      ],
      "metadata": {
        "id": "37burYIQ314G"
      },
      "execution_count": null,
      "outputs": []
    },
    {
      "cell_type": "code",
      "source": [
        "data_frame.createOrReplaceTempView(\"IE_RIS\")\n",
        "\n",
        "# Show DataFrame\n",
        "data_frame.show()"
      ],
      "metadata": {
        "colab": {
          "base_uri": "https://localhost:8080/"
        },
        "id": "8u0Khihy52xM",
        "outputId": "faa5b690-961f-4d4e-ae8d-8ca35d970418"
      },
      "execution_count": null,
      "outputs": [
        {
          "output_type": "stream",
          "name": "stdout",
          "text": [
            "+---------+--------+-------------+-------------+--------------------+--------------------+---------------+--------------------+-------------------+------------+---------------------+\n",
            "|ID_REGION|  ID_OIR|  ID_OBJETIVO|ID_INICIATIVA|        NOMBRE_CORTO|        NOMBRE_LARGO|INICIATIVA_PDET|    CODIGO_INIC_PDET|ASOCIADA_CAP_ETNICO|ASOCIADA_PDD|LINEA_ESTRATEGICA_PDD|\n",
            "+---------+--------+-------------+-------------+--------------------+--------------------+---------------+--------------------+-------------------+------------+---------------------+\n",
            "|      PCF|PCF_OIR1|PCF_OIR1_OBJ2|      PCF_IN1|Fortalecimiento d...|Fortalecimiento d...|             SÍ|1052473297579, 10...|                   |          SÍ| PROGRAMA 9. Parti...|\n",
            "|      PCF|PCF_OIR1|PCF_OIR1_OBJ1|      PCF_IN2|Fortalecer las ca...|Implementar una e...|             SÍ|1052390270120, 10...|                   |          SÍ| PROGRAMA 2. Forta...|\n",
            "|      PCF|PCF_OIR1|PCF_OIR1_OBJ2|      PCF_IN3|Proyecto de preve...|Implementa una ac...|             SÍ|1052612293066, 10...|                   |          SÍ| 5.1.1.4. PROGRAMA...|\n",
            "|      PCF|PCF_OIR2|PCF_OIR2_OBJ1|      PCF_IN4|Acompañar y forta...|Asistencia técnic...|             SÍ|105283525278512, ...|                   |          SÍ| 5.3.3.1. PROGRAMA...|\n",
            "|      PCF|PCF_OIR2|PCF_OIR2_OBJ2|      PCF_IN5|Fortalecimiento d...|Asistencia técnic...|             SÍ|1052612292775, 10...|                   |          SÍ| PROGRAMA 42. Ento...|\n",
            "|      PCF|PCF_OIR2|PCF_OIR2_OBJ2|      PCF_IN6|Apoyo a la implem...|Asistencia técnic...|             SÍ|1052835278611, 10...|                   |          SÍ| PROGRAMA 55. Orde...|\n",
            "|      PCF|PCF_OIR3|PCF_OIR3_OBJ1|      PCF_IN7|Fortalecer la ped...|Se implementarán ...|             SÍ|1052473297513, 10...|                   |          SÍ| CAPÍTULO DE PAZ: ...|\n",
            "|      PCF|PCF_OIR4|PCF_OIR4_OBJ1|      PCF_IN8|Promover el emple...|Se promueven acue...|             SÍ|1052612292789, 10...|                   |          SÍ| 5.3.3.1. PROGRAMA...|\n",
            "|      BCN|BCN_OIR1|BCN_OIR1_OBJ3|      BCN_IN1|      Alianza Anorí |Fortalecimiento o...|             SÍ|305040283545, 030...|                   |          SÍ| 2.2. Línea estrat...|\n",
            "|      BCN|BCN_OIR1|BCN_OIR1_OBJ2|      BCN_IN2|Educación Financi...|Fortalecimiento d...|             SÍ|0305107297005, 03...|                   |          SÍ|                     |\n",
            "|      BCN|BCN_OIR3|BCN_OIR3_OBJ2|      BCN_IN3|Lo que cuentan lo...|Estrategia articu...|             NO|                    |                   |          SÍ|                     |\n",
            "|      BCN|BCN_OIR4|BCN_OIR4_OBJ2|      BCN_IN4|Tejiendo Justicia...|Fortalecimiento d...|             SÍ|        305895297004|                   |          SÍ| Línea estratégica...|\n",
            "|      BCN|BCN_OIR4|BCN_OIR4_OBJ2|      BCN_IN5|Empoderamiento ju...|Fortalecer la par...|             SÍ|305120303371, 305...|                   |          SÍ| La articulación e...|\n",
            "|      SDC|SDC_OIR2|SDC_OIR2_OBJ1|      SDC_IN1|Lo que cuentan lo...|Estrategia articu...|             NO|                    |                   |          SÍ|                     |\n",
            "|      SDC|SDC_OIR2|SDC_OIR2_OBJ1|      SDC_IN2|Ciudadanía empode...|Fortalecer el Sub...|             SÍ|1423807174865, 14...|                   |          SÍ| El Plan de desarr...|\n",
            "|      CAT|CAT_OIR1|CAT_OIR1_OBJ1|      CAT_IN1|Fortalecimiento d...|Fortalecimiento d...|             SÍ|        454720199470|                 NO|          SÍ| PLAN DEPARTAMENTA...|\n",
            "|      CAT|CAT_OIR1|CAT_OIR1_OBJ2|      CAT_IN2|Fortalecer a las ...|Acompañamiento y ...|             SÍ|        454720202047|                 NO|          SÍ| PLAN DEPARTAMENTA...|\n",
            "|      CAT|CAT_OIR1|CAT_OIR1_OBJ3|      CAT_IN3|Fortalecimiento a...|Fortalecimiento d...|             NO|                    |                 NO|          SÍ| PLAN DEPARTAMENTA...|\n",
            "|      CAT|CAT_OIR2|CAT_OIR2_OBJ1|      CAT_IN4|Incidencia RIS en...|Apoyar el proceso...|             NO|                    |                 NO|          SÍ| PLAN DE DESARROLL...|\n",
            "|      CQT|CQT_OIR1|CQT_OIR1_OBJ1|      CQT_IN1|Fortalecimiento c...|Generar un encade...|             SÍ|618029337957\\n618...|                 NO|          SÍ| Línea Estratégica...|\n",
            "+---------+--------+-------------+-------------+--------------------+--------------------+---------------+--------------------+-------------------+------------+---------------------+\n",
            "only showing top 20 rows\n",
            "\n"
          ]
        }
      ]
    },
    {
      "cell_type": "code",
      "source": [
        "import pandas as pd\n",
        "from google.colab import files\n",
        "\n",
        "# Convert PySpark DataFrame to Pandas DataFrame\n",
        "df = data_frame.toPandas()"
      ],
      "metadata": {
        "id": "6b6kPynWD3Vf"
      },
      "execution_count": null,
      "outputs": []
    },
    {
      "cell_type": "markdown",
      "source": [
        "# **INICIATIVAS INTEGRADORAS POR REGION**"
      ],
      "metadata": {
        "id": "EB5RUeVwUxRG"
      }
    },
    {
      "cell_type": "code",
      "source": [
        "# Count unique values in 'SubCategory' and group by 'Category'\n",
        "grouped_df = df.groupby('ID_REGION')['ID_INICIATIVA'].nunique().reset_index()\n",
        "grouped_df.columns = ['ID_REGION', 'UniqueID_INICIATIVAS']\n",
        "\n",
        "print(grouped_df)\n"
      ],
      "metadata": {
        "colab": {
          "base_uri": "https://localhost:8080/"
        },
        "id": "Gvb29tBlh8Pb",
        "outputId": "81c78259-f4a0-4f16-e966-bf7f2cec329c"
      },
      "execution_count": null,
      "outputs": [
        {
          "output_type": "stream",
          "name": "stdout",
          "text": [
            "  ID_REGION  UniqueID_INICIATIVAS\n",
            "0       BCN                     5\n",
            "1       BOG                     6\n",
            "2       CAT                     4\n",
            "3       CQT                     9\n",
            "4       PCF                     8\n",
            "5       SDC                     2\n"
          ]
        }
      ]
    },
    {
      "cell_type": "code",
      "source": [
        "try:\n",
        "    import plotly\n",
        "    print(\"plotly openpyxl is already installed.\")\n",
        "except ImportError:\n",
        "    print(\"plotly openpyxl is not installed. Installing now...\")\n",
        "    !pip install plotly openpyxl\n",
        "    print(\"plotly openpyxl installation complete.\")"
      ],
      "metadata": {
        "colab": {
          "base_uri": "https://localhost:8080/"
        },
        "id": "kxheg9XBjBQP",
        "outputId": "11e15c63-414d-405d-878d-624ef4573aa4"
      },
      "execution_count": null,
      "outputs": [
        {
          "output_type": "stream",
          "name": "stdout",
          "text": [
            "plotly openpyxl is already installed.\n"
          ]
        }
      ]
    },
    {
      "cell_type": "code",
      "source": [
        "import pandas as pd\n",
        "import plotly.express as px"
      ],
      "metadata": {
        "id": "8EfwhkXcj9cB"
      },
      "execution_count": null,
      "outputs": []
    },
    {
      "cell_type": "code",
      "source": [
        "# Sort the DataFrame by 'UniqueID_INICIATIVAS' in descending order\n",
        "grouped_df_sorted = grouped_df.sort_values(by='UniqueID_INICIATIVAS', ascending=False)\n",
        "\n",
        "\n",
        "# Create the bar plot\n",
        "fig = px.bar(grouped_df_sorted, x='ID_REGION', y='UniqueID_INICIATIVAS', title='INICIATIVAS INTEGRADORAS POR REGION')\n",
        "\n",
        "# Customize the plot\n",
        "fig.update_layout(\n",
        "    xaxis_title='REGIÓN',\n",
        "    yaxis_title='NÚMERO DE INICIATIVAS',\n",
        "    title={\n",
        "        'text': 'INICIATIVAS INTEGRADORAS POR REGION',\n",
        "        'y':0.9,\n",
        "        'x':0.5,\n",
        "        'xanchor': 'center',\n",
        "        'yanchor': 'top'\n",
        "    },\n",
        "    font=dict(\n",
        "        family=\"Arial\",\n",
        "        size=15,\n",
        "        color=\"black\"\n",
        "    )\n",
        ")\n",
        "\n",
        "# Update the text position to be inside the bars\n",
        "fig.update_traces(texttemplate='%{y}', textposition='inside')\n",
        "\n",
        "# Show the plot\n",
        "fig.show()\n"
      ],
      "metadata": {
        "colab": {
          "base_uri": "https://localhost:8080/",
          "height": 542
        },
        "id": "2fPwOiQnilEZ",
        "outputId": "f69accc3-4655-4914-c183-ae07dbe79383"
      },
      "execution_count": null,
      "outputs": [
        {
          "output_type": "display_data",
          "data": {
            "text/html": [
              "<html>\n",
              "<head><meta charset=\"utf-8\" /></head>\n",
              "<body>\n",
              "    <div>            <script src=\"https://cdnjs.cloudflare.com/ajax/libs/mathjax/2.7.5/MathJax.js?config=TeX-AMS-MML_SVG\"></script><script type=\"text/javascript\">if (window.MathJax && window.MathJax.Hub && window.MathJax.Hub.Config) {window.MathJax.Hub.Config({SVG: {font: \"STIX-Web\"}});}</script>                <script type=\"text/javascript\">window.PlotlyConfig = {MathJaxConfig: 'local'};</script>\n",
              "        <script charset=\"utf-8\" src=\"https://cdn.plot.ly/plotly-2.24.1.min.js\"></script>                <div id=\"ad9f9d81-5f6c-45c2-b37d-1d123298a9a2\" class=\"plotly-graph-div\" style=\"height:525px; width:100%;\"></div>            <script type=\"text/javascript\">                                    window.PLOTLYENV=window.PLOTLYENV || {};                                    if (document.getElementById(\"ad9f9d81-5f6c-45c2-b37d-1d123298a9a2\")) {                    Plotly.newPlot(                        \"ad9f9d81-5f6c-45c2-b37d-1d123298a9a2\",                        [{\"alignmentgroup\":\"True\",\"hovertemplate\":\"ID_REGION=%{x}\\u003cbr\\u003eUniqueID_INICIATIVAS=%{y}\\u003cextra\\u003e\\u003c\\u002fextra\\u003e\",\"legendgroup\":\"\",\"marker\":{\"color\":\"#636efa\",\"pattern\":{\"shape\":\"\"}},\"name\":\"\",\"offsetgroup\":\"\",\"orientation\":\"v\",\"showlegend\":false,\"textposition\":\"inside\",\"x\":[\"CQT\",\"PCF\",\"BOG\",\"BCN\",\"CAT\",\"SDC\"],\"xaxis\":\"x\",\"y\":[9,8,6,5,4,2],\"yaxis\":\"y\",\"type\":\"bar\",\"texttemplate\":\"%{y}\"}],                        {\"template\":{\"data\":{\"histogram2dcontour\":[{\"type\":\"histogram2dcontour\",\"colorbar\":{\"outlinewidth\":0,\"ticks\":\"\"},\"colorscale\":[[0.0,\"#0d0887\"],[0.1111111111111111,\"#46039f\"],[0.2222222222222222,\"#7201a8\"],[0.3333333333333333,\"#9c179e\"],[0.4444444444444444,\"#bd3786\"],[0.5555555555555556,\"#d8576b\"],[0.6666666666666666,\"#ed7953\"],[0.7777777777777778,\"#fb9f3a\"],[0.8888888888888888,\"#fdca26\"],[1.0,\"#f0f921\"]]}],\"choropleth\":[{\"type\":\"choropleth\",\"colorbar\":{\"outlinewidth\":0,\"ticks\":\"\"}}],\"histogram2d\":[{\"type\":\"histogram2d\",\"colorbar\":{\"outlinewidth\":0,\"ticks\":\"\"},\"colorscale\":[[0.0,\"#0d0887\"],[0.1111111111111111,\"#46039f\"],[0.2222222222222222,\"#7201a8\"],[0.3333333333333333,\"#9c179e\"],[0.4444444444444444,\"#bd3786\"],[0.5555555555555556,\"#d8576b\"],[0.6666666666666666,\"#ed7953\"],[0.7777777777777778,\"#fb9f3a\"],[0.8888888888888888,\"#fdca26\"],[1.0,\"#f0f921\"]]}],\"heatmap\":[{\"type\":\"heatmap\",\"colorbar\":{\"outlinewidth\":0,\"ticks\":\"\"},\"colorscale\":[[0.0,\"#0d0887\"],[0.1111111111111111,\"#46039f\"],[0.2222222222222222,\"#7201a8\"],[0.3333333333333333,\"#9c179e\"],[0.4444444444444444,\"#bd3786\"],[0.5555555555555556,\"#d8576b\"],[0.6666666666666666,\"#ed7953\"],[0.7777777777777778,\"#fb9f3a\"],[0.8888888888888888,\"#fdca26\"],[1.0,\"#f0f921\"]]}],\"heatmapgl\":[{\"type\":\"heatmapgl\",\"colorbar\":{\"outlinewidth\":0,\"ticks\":\"\"},\"colorscale\":[[0.0,\"#0d0887\"],[0.1111111111111111,\"#46039f\"],[0.2222222222222222,\"#7201a8\"],[0.3333333333333333,\"#9c179e\"],[0.4444444444444444,\"#bd3786\"],[0.5555555555555556,\"#d8576b\"],[0.6666666666666666,\"#ed7953\"],[0.7777777777777778,\"#fb9f3a\"],[0.8888888888888888,\"#fdca26\"],[1.0,\"#f0f921\"]]}],\"contourcarpet\":[{\"type\":\"contourcarpet\",\"colorbar\":{\"outlinewidth\":0,\"ticks\":\"\"}}],\"contour\":[{\"type\":\"contour\",\"colorbar\":{\"outlinewidth\":0,\"ticks\":\"\"},\"colorscale\":[[0.0,\"#0d0887\"],[0.1111111111111111,\"#46039f\"],[0.2222222222222222,\"#7201a8\"],[0.3333333333333333,\"#9c179e\"],[0.4444444444444444,\"#bd3786\"],[0.5555555555555556,\"#d8576b\"],[0.6666666666666666,\"#ed7953\"],[0.7777777777777778,\"#fb9f3a\"],[0.8888888888888888,\"#fdca26\"],[1.0,\"#f0f921\"]]}],\"surface\":[{\"type\":\"surface\",\"colorbar\":{\"outlinewidth\":0,\"ticks\":\"\"},\"colorscale\":[[0.0,\"#0d0887\"],[0.1111111111111111,\"#46039f\"],[0.2222222222222222,\"#7201a8\"],[0.3333333333333333,\"#9c179e\"],[0.4444444444444444,\"#bd3786\"],[0.5555555555555556,\"#d8576b\"],[0.6666666666666666,\"#ed7953\"],[0.7777777777777778,\"#fb9f3a\"],[0.8888888888888888,\"#fdca26\"],[1.0,\"#f0f921\"]]}],\"mesh3d\":[{\"type\":\"mesh3d\",\"colorbar\":{\"outlinewidth\":0,\"ticks\":\"\"}}],\"scatter\":[{\"fillpattern\":{\"fillmode\":\"overlay\",\"size\":10,\"solidity\":0.2},\"type\":\"scatter\"}],\"parcoords\":[{\"type\":\"parcoords\",\"line\":{\"colorbar\":{\"outlinewidth\":0,\"ticks\":\"\"}}}],\"scatterpolargl\":[{\"type\":\"scatterpolargl\",\"marker\":{\"colorbar\":{\"outlinewidth\":0,\"ticks\":\"\"}}}],\"bar\":[{\"error_x\":{\"color\":\"#2a3f5f\"},\"error_y\":{\"color\":\"#2a3f5f\"},\"marker\":{\"line\":{\"color\":\"#E5ECF6\",\"width\":0.5},\"pattern\":{\"fillmode\":\"overlay\",\"size\":10,\"solidity\":0.2}},\"type\":\"bar\"}],\"scattergeo\":[{\"type\":\"scattergeo\",\"marker\":{\"colorbar\":{\"outlinewidth\":0,\"ticks\":\"\"}}}],\"scatterpolar\":[{\"type\":\"scatterpolar\",\"marker\":{\"colorbar\":{\"outlinewidth\":0,\"ticks\":\"\"}}}],\"histogram\":[{\"marker\":{\"pattern\":{\"fillmode\":\"overlay\",\"size\":10,\"solidity\":0.2}},\"type\":\"histogram\"}],\"scattergl\":[{\"type\":\"scattergl\",\"marker\":{\"colorbar\":{\"outlinewidth\":0,\"ticks\":\"\"}}}],\"scatter3d\":[{\"type\":\"scatter3d\",\"line\":{\"colorbar\":{\"outlinewidth\":0,\"ticks\":\"\"}},\"marker\":{\"colorbar\":{\"outlinewidth\":0,\"ticks\":\"\"}}}],\"scattermapbox\":[{\"type\":\"scattermapbox\",\"marker\":{\"colorbar\":{\"outlinewidth\":0,\"ticks\":\"\"}}}],\"scatterternary\":[{\"type\":\"scatterternary\",\"marker\":{\"colorbar\":{\"outlinewidth\":0,\"ticks\":\"\"}}}],\"scattercarpet\":[{\"type\":\"scattercarpet\",\"marker\":{\"colorbar\":{\"outlinewidth\":0,\"ticks\":\"\"}}}],\"carpet\":[{\"aaxis\":{\"endlinecolor\":\"#2a3f5f\",\"gridcolor\":\"white\",\"linecolor\":\"white\",\"minorgridcolor\":\"white\",\"startlinecolor\":\"#2a3f5f\"},\"baxis\":{\"endlinecolor\":\"#2a3f5f\",\"gridcolor\":\"white\",\"linecolor\":\"white\",\"minorgridcolor\":\"white\",\"startlinecolor\":\"#2a3f5f\"},\"type\":\"carpet\"}],\"table\":[{\"cells\":{\"fill\":{\"color\":\"#EBF0F8\"},\"line\":{\"color\":\"white\"}},\"header\":{\"fill\":{\"color\":\"#C8D4E3\"},\"line\":{\"color\":\"white\"}},\"type\":\"table\"}],\"barpolar\":[{\"marker\":{\"line\":{\"color\":\"#E5ECF6\",\"width\":0.5},\"pattern\":{\"fillmode\":\"overlay\",\"size\":10,\"solidity\":0.2}},\"type\":\"barpolar\"}],\"pie\":[{\"automargin\":true,\"type\":\"pie\"}]},\"layout\":{\"autotypenumbers\":\"strict\",\"colorway\":[\"#636efa\",\"#EF553B\",\"#00cc96\",\"#ab63fa\",\"#FFA15A\",\"#19d3f3\",\"#FF6692\",\"#B6E880\",\"#FF97FF\",\"#FECB52\"],\"font\":{\"color\":\"#2a3f5f\"},\"hovermode\":\"closest\",\"hoverlabel\":{\"align\":\"left\"},\"paper_bgcolor\":\"white\",\"plot_bgcolor\":\"#E5ECF6\",\"polar\":{\"bgcolor\":\"#E5ECF6\",\"angularaxis\":{\"gridcolor\":\"white\",\"linecolor\":\"white\",\"ticks\":\"\"},\"radialaxis\":{\"gridcolor\":\"white\",\"linecolor\":\"white\",\"ticks\":\"\"}},\"ternary\":{\"bgcolor\":\"#E5ECF6\",\"aaxis\":{\"gridcolor\":\"white\",\"linecolor\":\"white\",\"ticks\":\"\"},\"baxis\":{\"gridcolor\":\"white\",\"linecolor\":\"white\",\"ticks\":\"\"},\"caxis\":{\"gridcolor\":\"white\",\"linecolor\":\"white\",\"ticks\":\"\"}},\"coloraxis\":{\"colorbar\":{\"outlinewidth\":0,\"ticks\":\"\"}},\"colorscale\":{\"sequential\":[[0.0,\"#0d0887\"],[0.1111111111111111,\"#46039f\"],[0.2222222222222222,\"#7201a8\"],[0.3333333333333333,\"#9c179e\"],[0.4444444444444444,\"#bd3786\"],[0.5555555555555556,\"#d8576b\"],[0.6666666666666666,\"#ed7953\"],[0.7777777777777778,\"#fb9f3a\"],[0.8888888888888888,\"#fdca26\"],[1.0,\"#f0f921\"]],\"sequentialminus\":[[0.0,\"#0d0887\"],[0.1111111111111111,\"#46039f\"],[0.2222222222222222,\"#7201a8\"],[0.3333333333333333,\"#9c179e\"],[0.4444444444444444,\"#bd3786\"],[0.5555555555555556,\"#d8576b\"],[0.6666666666666666,\"#ed7953\"],[0.7777777777777778,\"#fb9f3a\"],[0.8888888888888888,\"#fdca26\"],[1.0,\"#f0f921\"]],\"diverging\":[[0,\"#8e0152\"],[0.1,\"#c51b7d\"],[0.2,\"#de77ae\"],[0.3,\"#f1b6da\"],[0.4,\"#fde0ef\"],[0.5,\"#f7f7f7\"],[0.6,\"#e6f5d0\"],[0.7,\"#b8e186\"],[0.8,\"#7fbc41\"],[0.9,\"#4d9221\"],[1,\"#276419\"]]},\"xaxis\":{\"gridcolor\":\"white\",\"linecolor\":\"white\",\"ticks\":\"\",\"title\":{\"standoff\":15},\"zerolinecolor\":\"white\",\"automargin\":true,\"zerolinewidth\":2},\"yaxis\":{\"gridcolor\":\"white\",\"linecolor\":\"white\",\"ticks\":\"\",\"title\":{\"standoff\":15},\"zerolinecolor\":\"white\",\"automargin\":true,\"zerolinewidth\":2},\"scene\":{\"xaxis\":{\"backgroundcolor\":\"#E5ECF6\",\"gridcolor\":\"white\",\"linecolor\":\"white\",\"showbackground\":true,\"ticks\":\"\",\"zerolinecolor\":\"white\",\"gridwidth\":2},\"yaxis\":{\"backgroundcolor\":\"#E5ECF6\",\"gridcolor\":\"white\",\"linecolor\":\"white\",\"showbackground\":true,\"ticks\":\"\",\"zerolinecolor\":\"white\",\"gridwidth\":2},\"zaxis\":{\"backgroundcolor\":\"#E5ECF6\",\"gridcolor\":\"white\",\"linecolor\":\"white\",\"showbackground\":true,\"ticks\":\"\",\"zerolinecolor\":\"white\",\"gridwidth\":2}},\"shapedefaults\":{\"line\":{\"color\":\"#2a3f5f\"}},\"annotationdefaults\":{\"arrowcolor\":\"#2a3f5f\",\"arrowhead\":0,\"arrowwidth\":1},\"geo\":{\"bgcolor\":\"white\",\"landcolor\":\"#E5ECF6\",\"subunitcolor\":\"white\",\"showland\":true,\"showlakes\":true,\"lakecolor\":\"white\"},\"title\":{\"x\":0.05},\"mapbox\":{\"style\":\"light\"}}},\"xaxis\":{\"anchor\":\"y\",\"domain\":[0.0,1.0],\"title\":{\"text\":\"REGI\\u00d3N\"}},\"yaxis\":{\"anchor\":\"x\",\"domain\":[0.0,1.0],\"title\":{\"text\":\"N\\u00daMERO DE INICIATIVAS\"}},\"legend\":{\"tracegroupgap\":0},\"title\":{\"text\":\"INICIATIVAS INTEGRADORAS POR REGION\",\"y\":0.9,\"x\":0.5,\"xanchor\":\"center\",\"yanchor\":\"top\"},\"barmode\":\"relative\",\"font\":{\"family\":\"Arial\",\"size\":15,\"color\":\"black\"}},                        {\"responsive\": true}                    ).then(function(){\n",
              "                            \n",
              "var gd = document.getElementById('ad9f9d81-5f6c-45c2-b37d-1d123298a9a2');\n",
              "var x = new MutationObserver(function (mutations, observer) {{\n",
              "        var display = window.getComputedStyle(gd).display;\n",
              "        if (!display || display === 'none') {{\n",
              "            console.log([gd, 'removed!']);\n",
              "            Plotly.purge(gd);\n",
              "            observer.disconnect();\n",
              "        }}\n",
              "}});\n",
              "\n",
              "// Listen for the removal of the full notebook cells\n",
              "var notebookContainer = gd.closest('#notebook-container');\n",
              "if (notebookContainer) {{\n",
              "    x.observe(notebookContainer, {childList: true});\n",
              "}}\n",
              "\n",
              "// Listen for the clearing of the current output cell\n",
              "var outputEl = gd.closest('.output');\n",
              "if (outputEl) {{\n",
              "    x.observe(outputEl, {childList: true});\n",
              "}}\n",
              "\n",
              "                        })                };                            </script>        </div>\n",
              "</body>\n",
              "</html>"
            ]
          },
          "metadata": {}
        }
      ]
    },
    {
      "cell_type": "code",
      "source": [
        "#spark.sql(\"SELECT COUNT(*) FROM IE_RIS\")\n",
        "# Write and execute the SQL query\n",
        "result = spark.sql(\"SELECT COUNT(DISTINCT ID_INICIATIVA) AS numero_iniciativas FROM IE_RIS\")\n",
        "\n",
        "# Show the result\n",
        "result.show()"
      ],
      "metadata": {
        "colab": {
          "base_uri": "https://localhost:8080/"
        },
        "id": "Gc3qT4WLUGX1",
        "outputId": "cd07ee1e-7de6-4c9f-d98f-0d57ac6cc0df"
      },
      "execution_count": null,
      "outputs": [
        {
          "output_type": "stream",
          "name": "stdout",
          "text": [
            "+------------------+\n",
            "|numero_iniciativas|\n",
            "+------------------+\n",
            "|                34|\n",
            "+------------------+\n",
            "\n"
          ]
        }
      ]
    },
    {
      "cell_type": "markdown",
      "source": [
        "# **INICIATIVAS INTEGRADORAS QUE APOYAN INICIATIVAS PDET POR REGION**"
      ],
      "metadata": {
        "id": "sXaxZGKjU4sU"
      }
    },
    {
      "cell_type": "code",
      "source": [
        "# Count categories in 'Category' and group by 'Group'\n",
        "grouped_df1 = df.groupby(['ID_REGION', 'INICIATIVA_PDET']).size().reset_index(name='Counts')\n",
        "\n",
        "print(grouped_df1)\n"
      ],
      "metadata": {
        "colab": {
          "base_uri": "https://localhost:8080/"
        },
        "id": "apm_3b1JmGf7",
        "outputId": "efa33858-efbd-45e1-ec73-cf8bf2189a6e"
      },
      "execution_count": null,
      "outputs": [
        {
          "output_type": "stream",
          "name": "stdout",
          "text": [
            "  ID_REGION INICIATIVA_PDET  Counts\n",
            "0       BCN              NO       1\n",
            "1       BCN              SÍ       4\n",
            "2       BOG              NO       6\n",
            "3       CAT              NO       2\n",
            "4       CAT              SÍ       2\n",
            "5       CQT              NO       5\n",
            "6       CQT              SÍ       4\n",
            "7       PCF              SÍ       8\n",
            "8       SDC              NO       1\n",
            "9       SDC              SÍ       1\n"
          ]
        }
      ]
    },
    {
      "cell_type": "code",
      "source": [
        "# Create the bar plot with permanent labels\n",
        "fig = px.bar(grouped_df1, x='ID_REGION', y='Counts', color='INICIATIVA_PDET', barmode='group', title='ALINEACIÓN INICIATIVAS INTEGRADORAS CON PDET')\n",
        "\n",
        "# Customize the plot\n",
        "fig.update_layout(\n",
        "    xaxis_title='REGIÓN',\n",
        "    yaxis_title='NÚMERO DE INICIATIVAS',\n",
        "    title={\n",
        "        'text': 'ALINEACIÓN INICIATIVAS INTEGRADORAS CON PDET',\n",
        "        'y':0.9,\n",
        "        'x':0.5,\n",
        "        'xanchor': 'center',\n",
        "        'yanchor': 'top'\n",
        "    },\n",
        "    font=dict(\n",
        "        family=\"Arial\",\n",
        "        size=15,\n",
        "        color=\"black\"\n",
        "    )\n",
        ")\n",
        "\n",
        "# Update the text position to be inside the bars\n",
        "fig.update_traces(texttemplate='%{y}', textposition='inside')\n",
        "\n",
        "\n",
        "# Show the plot\n",
        "fig.show()\n"
      ],
      "metadata": {
        "colab": {
          "base_uri": "https://localhost:8080/",
          "height": 542
        },
        "id": "oPa2f02yoerS",
        "outputId": "d326ebf6-a579-45dc-880d-4d598833c964"
      },
      "execution_count": null,
      "outputs": [
        {
          "output_type": "display_data",
          "data": {
            "text/html": [
              "<html>\n",
              "<head><meta charset=\"utf-8\" /></head>\n",
              "<body>\n",
              "    <div>            <script src=\"https://cdnjs.cloudflare.com/ajax/libs/mathjax/2.7.5/MathJax.js?config=TeX-AMS-MML_SVG\"></script><script type=\"text/javascript\">if (window.MathJax && window.MathJax.Hub && window.MathJax.Hub.Config) {window.MathJax.Hub.Config({SVG: {font: \"STIX-Web\"}});}</script>                <script type=\"text/javascript\">window.PlotlyConfig = {MathJaxConfig: 'local'};</script>\n",
              "        <script charset=\"utf-8\" src=\"https://cdn.plot.ly/plotly-2.24.1.min.js\"></script>                <div id=\"87847984-af4e-42a4-ae25-08c007a7dcf1\" class=\"plotly-graph-div\" style=\"height:525px; width:100%;\"></div>            <script type=\"text/javascript\">                                    window.PLOTLYENV=window.PLOTLYENV || {};                                    if (document.getElementById(\"87847984-af4e-42a4-ae25-08c007a7dcf1\")) {                    Plotly.newPlot(                        \"87847984-af4e-42a4-ae25-08c007a7dcf1\",                        [{\"alignmentgroup\":\"True\",\"hovertemplate\":\"INICIATIVA_PDET=NO\\u003cbr\\u003eID_REGION=%{x}\\u003cbr\\u003eCounts=%{y}\\u003cextra\\u003e\\u003c\\u002fextra\\u003e\",\"legendgroup\":\"NO\",\"marker\":{\"color\":\"#636efa\",\"pattern\":{\"shape\":\"\"}},\"name\":\"NO\",\"offsetgroup\":\"NO\",\"orientation\":\"v\",\"showlegend\":true,\"textposition\":\"inside\",\"x\":[\"BCN\",\"BOG\",\"CAT\",\"CQT\",\"SDC\"],\"xaxis\":\"x\",\"y\":[1,6,2,5,1],\"yaxis\":\"y\",\"type\":\"bar\",\"texttemplate\":\"%{y}\"},{\"alignmentgroup\":\"True\",\"hovertemplate\":\"INICIATIVA_PDET=S\\u00cd\\u003cbr\\u003eID_REGION=%{x}\\u003cbr\\u003eCounts=%{y}\\u003cextra\\u003e\\u003c\\u002fextra\\u003e\",\"legendgroup\":\"S\\u00cd\",\"marker\":{\"color\":\"#EF553B\",\"pattern\":{\"shape\":\"\"}},\"name\":\"S\\u00cd\",\"offsetgroup\":\"S\\u00cd\",\"orientation\":\"v\",\"showlegend\":true,\"textposition\":\"inside\",\"x\":[\"BCN\",\"CAT\",\"CQT\",\"PCF\",\"SDC\"],\"xaxis\":\"x\",\"y\":[4,2,4,8,1],\"yaxis\":\"y\",\"type\":\"bar\",\"texttemplate\":\"%{y}\"}],                        {\"template\":{\"data\":{\"histogram2dcontour\":[{\"type\":\"histogram2dcontour\",\"colorbar\":{\"outlinewidth\":0,\"ticks\":\"\"},\"colorscale\":[[0.0,\"#0d0887\"],[0.1111111111111111,\"#46039f\"],[0.2222222222222222,\"#7201a8\"],[0.3333333333333333,\"#9c179e\"],[0.4444444444444444,\"#bd3786\"],[0.5555555555555556,\"#d8576b\"],[0.6666666666666666,\"#ed7953\"],[0.7777777777777778,\"#fb9f3a\"],[0.8888888888888888,\"#fdca26\"],[1.0,\"#f0f921\"]]}],\"choropleth\":[{\"type\":\"choropleth\",\"colorbar\":{\"outlinewidth\":0,\"ticks\":\"\"}}],\"histogram2d\":[{\"type\":\"histogram2d\",\"colorbar\":{\"outlinewidth\":0,\"ticks\":\"\"},\"colorscale\":[[0.0,\"#0d0887\"],[0.1111111111111111,\"#46039f\"],[0.2222222222222222,\"#7201a8\"],[0.3333333333333333,\"#9c179e\"],[0.4444444444444444,\"#bd3786\"],[0.5555555555555556,\"#d8576b\"],[0.6666666666666666,\"#ed7953\"],[0.7777777777777778,\"#fb9f3a\"],[0.8888888888888888,\"#fdca26\"],[1.0,\"#f0f921\"]]}],\"heatmap\":[{\"type\":\"heatmap\",\"colorbar\":{\"outlinewidth\":0,\"ticks\":\"\"},\"colorscale\":[[0.0,\"#0d0887\"],[0.1111111111111111,\"#46039f\"],[0.2222222222222222,\"#7201a8\"],[0.3333333333333333,\"#9c179e\"],[0.4444444444444444,\"#bd3786\"],[0.5555555555555556,\"#d8576b\"],[0.6666666666666666,\"#ed7953\"],[0.7777777777777778,\"#fb9f3a\"],[0.8888888888888888,\"#fdca26\"],[1.0,\"#f0f921\"]]}],\"heatmapgl\":[{\"type\":\"heatmapgl\",\"colorbar\":{\"outlinewidth\":0,\"ticks\":\"\"},\"colorscale\":[[0.0,\"#0d0887\"],[0.1111111111111111,\"#46039f\"],[0.2222222222222222,\"#7201a8\"],[0.3333333333333333,\"#9c179e\"],[0.4444444444444444,\"#bd3786\"],[0.5555555555555556,\"#d8576b\"],[0.6666666666666666,\"#ed7953\"],[0.7777777777777778,\"#fb9f3a\"],[0.8888888888888888,\"#fdca26\"],[1.0,\"#f0f921\"]]}],\"contourcarpet\":[{\"type\":\"contourcarpet\",\"colorbar\":{\"outlinewidth\":0,\"ticks\":\"\"}}],\"contour\":[{\"type\":\"contour\",\"colorbar\":{\"outlinewidth\":0,\"ticks\":\"\"},\"colorscale\":[[0.0,\"#0d0887\"],[0.1111111111111111,\"#46039f\"],[0.2222222222222222,\"#7201a8\"],[0.3333333333333333,\"#9c179e\"],[0.4444444444444444,\"#bd3786\"],[0.5555555555555556,\"#d8576b\"],[0.6666666666666666,\"#ed7953\"],[0.7777777777777778,\"#fb9f3a\"],[0.8888888888888888,\"#fdca26\"],[1.0,\"#f0f921\"]]}],\"surface\":[{\"type\":\"surface\",\"colorbar\":{\"outlinewidth\":0,\"ticks\":\"\"},\"colorscale\":[[0.0,\"#0d0887\"],[0.1111111111111111,\"#46039f\"],[0.2222222222222222,\"#7201a8\"],[0.3333333333333333,\"#9c179e\"],[0.4444444444444444,\"#bd3786\"],[0.5555555555555556,\"#d8576b\"],[0.6666666666666666,\"#ed7953\"],[0.7777777777777778,\"#fb9f3a\"],[0.8888888888888888,\"#fdca26\"],[1.0,\"#f0f921\"]]}],\"mesh3d\":[{\"type\":\"mesh3d\",\"colorbar\":{\"outlinewidth\":0,\"ticks\":\"\"}}],\"scatter\":[{\"fillpattern\":{\"fillmode\":\"overlay\",\"size\":10,\"solidity\":0.2},\"type\":\"scatter\"}],\"parcoords\":[{\"type\":\"parcoords\",\"line\":{\"colorbar\":{\"outlinewidth\":0,\"ticks\":\"\"}}}],\"scatterpolargl\":[{\"type\":\"scatterpolargl\",\"marker\":{\"colorbar\":{\"outlinewidth\":0,\"ticks\":\"\"}}}],\"bar\":[{\"error_x\":{\"color\":\"#2a3f5f\"},\"error_y\":{\"color\":\"#2a3f5f\"},\"marker\":{\"line\":{\"color\":\"#E5ECF6\",\"width\":0.5},\"pattern\":{\"fillmode\":\"overlay\",\"size\":10,\"solidity\":0.2}},\"type\":\"bar\"}],\"scattergeo\":[{\"type\":\"scattergeo\",\"marker\":{\"colorbar\":{\"outlinewidth\":0,\"ticks\":\"\"}}}],\"scatterpolar\":[{\"type\":\"scatterpolar\",\"marker\":{\"colorbar\":{\"outlinewidth\":0,\"ticks\":\"\"}}}],\"histogram\":[{\"marker\":{\"pattern\":{\"fillmode\":\"overlay\",\"size\":10,\"solidity\":0.2}},\"type\":\"histogram\"}],\"scattergl\":[{\"type\":\"scattergl\",\"marker\":{\"colorbar\":{\"outlinewidth\":0,\"ticks\":\"\"}}}],\"scatter3d\":[{\"type\":\"scatter3d\",\"line\":{\"colorbar\":{\"outlinewidth\":0,\"ticks\":\"\"}},\"marker\":{\"colorbar\":{\"outlinewidth\":0,\"ticks\":\"\"}}}],\"scattermapbox\":[{\"type\":\"scattermapbox\",\"marker\":{\"colorbar\":{\"outlinewidth\":0,\"ticks\":\"\"}}}],\"scatterternary\":[{\"type\":\"scatterternary\",\"marker\":{\"colorbar\":{\"outlinewidth\":0,\"ticks\":\"\"}}}],\"scattercarpet\":[{\"type\":\"scattercarpet\",\"marker\":{\"colorbar\":{\"outlinewidth\":0,\"ticks\":\"\"}}}],\"carpet\":[{\"aaxis\":{\"endlinecolor\":\"#2a3f5f\",\"gridcolor\":\"white\",\"linecolor\":\"white\",\"minorgridcolor\":\"white\",\"startlinecolor\":\"#2a3f5f\"},\"baxis\":{\"endlinecolor\":\"#2a3f5f\",\"gridcolor\":\"white\",\"linecolor\":\"white\",\"minorgridcolor\":\"white\",\"startlinecolor\":\"#2a3f5f\"},\"type\":\"carpet\"}],\"table\":[{\"cells\":{\"fill\":{\"color\":\"#EBF0F8\"},\"line\":{\"color\":\"white\"}},\"header\":{\"fill\":{\"color\":\"#C8D4E3\"},\"line\":{\"color\":\"white\"}},\"type\":\"table\"}],\"barpolar\":[{\"marker\":{\"line\":{\"color\":\"#E5ECF6\",\"width\":0.5},\"pattern\":{\"fillmode\":\"overlay\",\"size\":10,\"solidity\":0.2}},\"type\":\"barpolar\"}],\"pie\":[{\"automargin\":true,\"type\":\"pie\"}]},\"layout\":{\"autotypenumbers\":\"strict\",\"colorway\":[\"#636efa\",\"#EF553B\",\"#00cc96\",\"#ab63fa\",\"#FFA15A\",\"#19d3f3\",\"#FF6692\",\"#B6E880\",\"#FF97FF\",\"#FECB52\"],\"font\":{\"color\":\"#2a3f5f\"},\"hovermode\":\"closest\",\"hoverlabel\":{\"align\":\"left\"},\"paper_bgcolor\":\"white\",\"plot_bgcolor\":\"#E5ECF6\",\"polar\":{\"bgcolor\":\"#E5ECF6\",\"angularaxis\":{\"gridcolor\":\"white\",\"linecolor\":\"white\",\"ticks\":\"\"},\"radialaxis\":{\"gridcolor\":\"white\",\"linecolor\":\"white\",\"ticks\":\"\"}},\"ternary\":{\"bgcolor\":\"#E5ECF6\",\"aaxis\":{\"gridcolor\":\"white\",\"linecolor\":\"white\",\"ticks\":\"\"},\"baxis\":{\"gridcolor\":\"white\",\"linecolor\":\"white\",\"ticks\":\"\"},\"caxis\":{\"gridcolor\":\"white\",\"linecolor\":\"white\",\"ticks\":\"\"}},\"coloraxis\":{\"colorbar\":{\"outlinewidth\":0,\"ticks\":\"\"}},\"colorscale\":{\"sequential\":[[0.0,\"#0d0887\"],[0.1111111111111111,\"#46039f\"],[0.2222222222222222,\"#7201a8\"],[0.3333333333333333,\"#9c179e\"],[0.4444444444444444,\"#bd3786\"],[0.5555555555555556,\"#d8576b\"],[0.6666666666666666,\"#ed7953\"],[0.7777777777777778,\"#fb9f3a\"],[0.8888888888888888,\"#fdca26\"],[1.0,\"#f0f921\"]],\"sequentialminus\":[[0.0,\"#0d0887\"],[0.1111111111111111,\"#46039f\"],[0.2222222222222222,\"#7201a8\"],[0.3333333333333333,\"#9c179e\"],[0.4444444444444444,\"#bd3786\"],[0.5555555555555556,\"#d8576b\"],[0.6666666666666666,\"#ed7953\"],[0.7777777777777778,\"#fb9f3a\"],[0.8888888888888888,\"#fdca26\"],[1.0,\"#f0f921\"]],\"diverging\":[[0,\"#8e0152\"],[0.1,\"#c51b7d\"],[0.2,\"#de77ae\"],[0.3,\"#f1b6da\"],[0.4,\"#fde0ef\"],[0.5,\"#f7f7f7\"],[0.6,\"#e6f5d0\"],[0.7,\"#b8e186\"],[0.8,\"#7fbc41\"],[0.9,\"#4d9221\"],[1,\"#276419\"]]},\"xaxis\":{\"gridcolor\":\"white\",\"linecolor\":\"white\",\"ticks\":\"\",\"title\":{\"standoff\":15},\"zerolinecolor\":\"white\",\"automargin\":true,\"zerolinewidth\":2},\"yaxis\":{\"gridcolor\":\"white\",\"linecolor\":\"white\",\"ticks\":\"\",\"title\":{\"standoff\":15},\"zerolinecolor\":\"white\",\"automargin\":true,\"zerolinewidth\":2},\"scene\":{\"xaxis\":{\"backgroundcolor\":\"#E5ECF6\",\"gridcolor\":\"white\",\"linecolor\":\"white\",\"showbackground\":true,\"ticks\":\"\",\"zerolinecolor\":\"white\",\"gridwidth\":2},\"yaxis\":{\"backgroundcolor\":\"#E5ECF6\",\"gridcolor\":\"white\",\"linecolor\":\"white\",\"showbackground\":true,\"ticks\":\"\",\"zerolinecolor\":\"white\",\"gridwidth\":2},\"zaxis\":{\"backgroundcolor\":\"#E5ECF6\",\"gridcolor\":\"white\",\"linecolor\":\"white\",\"showbackground\":true,\"ticks\":\"\",\"zerolinecolor\":\"white\",\"gridwidth\":2}},\"shapedefaults\":{\"line\":{\"color\":\"#2a3f5f\"}},\"annotationdefaults\":{\"arrowcolor\":\"#2a3f5f\",\"arrowhead\":0,\"arrowwidth\":1},\"geo\":{\"bgcolor\":\"white\",\"landcolor\":\"#E5ECF6\",\"subunitcolor\":\"white\",\"showland\":true,\"showlakes\":true,\"lakecolor\":\"white\"},\"title\":{\"x\":0.05},\"mapbox\":{\"style\":\"light\"}}},\"xaxis\":{\"anchor\":\"y\",\"domain\":[0.0,1.0],\"title\":{\"text\":\"REGI\\u00d3N\"}},\"yaxis\":{\"anchor\":\"x\",\"domain\":[0.0,1.0],\"title\":{\"text\":\"N\\u00daMERO DE INICIATIVAS\"}},\"legend\":{\"title\":{\"text\":\"INICIATIVA_PDET\"},\"tracegroupgap\":0},\"title\":{\"text\":\"ALINEACI\\u00d3N INICIATIVAS INTEGRADORAS CON PDET\",\"y\":0.9,\"x\":0.5,\"xanchor\":\"center\",\"yanchor\":\"top\"},\"barmode\":\"group\",\"font\":{\"family\":\"Arial\",\"size\":15,\"color\":\"black\"}},                        {\"responsive\": true}                    ).then(function(){\n",
              "                            \n",
              "var gd = document.getElementById('87847984-af4e-42a4-ae25-08c007a7dcf1');\n",
              "var x = new MutationObserver(function (mutations, observer) {{\n",
              "        var display = window.getComputedStyle(gd).display;\n",
              "        if (!display || display === 'none') {{\n",
              "            console.log([gd, 'removed!']);\n",
              "            Plotly.purge(gd);\n",
              "            observer.disconnect();\n",
              "        }}\n",
              "}});\n",
              "\n",
              "// Listen for the removal of the full notebook cells\n",
              "var notebookContainer = gd.closest('#notebook-container');\n",
              "if (notebookContainer) {{\n",
              "    x.observe(notebookContainer, {childList: true});\n",
              "}}\n",
              "\n",
              "// Listen for the clearing of the current output cell\n",
              "var outputEl = gd.closest('.output');\n",
              "if (outputEl) {{\n",
              "    x.observe(outputEl, {childList: true});\n",
              "}}\n",
              "\n",
              "                        })                };                            </script>        </div>\n",
              "</body>\n",
              "</html>"
            ]
          },
          "metadata": {}
        }
      ]
    },
    {
      "cell_type": "code",
      "source": [
        "# Write and execute the SQL query to count occurrences of each unique value\n",
        "result = spark.sql(\"SELECT INICIATIVA_PDET, COUNT(*) AS count FROM IE_RIS GROUP BY INICIATIVA_PDET\")\n",
        "\n",
        "# Show the result\n",
        "result.show()\n"
      ],
      "metadata": {
        "colab": {
          "base_uri": "https://localhost:8080/"
        },
        "id": "_lxFLThxXe0W",
        "outputId": "6f4994e6-25d8-4328-c1ab-4e9da85042f8"
      },
      "execution_count": null,
      "outputs": [
        {
          "output_type": "stream",
          "name": "stdout",
          "text": [
            "+---------------+-----+\n",
            "|INICIATIVA_PDET|count|\n",
            "+---------------+-----+\n",
            "|             SÍ|   19|\n",
            "|             NO|   15|\n",
            "+---------------+-----+\n",
            "\n"
          ]
        }
      ]
    },
    {
      "cell_type": "markdown",
      "source": [
        "# **NÚMERO Y CÓDIGO DE INICIATIVAS PDET APOYADAS POR INICIATIVAS INTEGRADORAS**"
      ],
      "metadata": {
        "id": "5M8PENG0ExA3"
      }
    },
    {
      "cell_type": "code",
      "source": [
        "# SQL query to count the number of elements in the 'COD_INIC_PDET' column\n",
        "query = \"\"\"\n",
        "SELECT\n",
        "    ID_INICIATIVA,\n",
        "    CODIGO_INIC_PDET,\n",
        "    size(split(CODIGO_INIC_PDET, ',')) AS inic_count\n",
        "FROM IE_RIS\n",
        "\"\"\"\n",
        "\n",
        "result = spark.sql(query)\n",
        "\n",
        "# Show the result\n",
        "result.show()"
      ],
      "metadata": {
        "colab": {
          "base_uri": "https://localhost:8080/"
        },
        "id": "hr2hLVjqX7tY",
        "outputId": "bb656dcc-43c2-4e54-b199-bf0ba222443c"
      },
      "execution_count": null,
      "outputs": [
        {
          "output_type": "stream",
          "name": "stdout",
          "text": [
            "+-------------+--------------------+----------+\n",
            "|ID_INICIATIVA|    CODIGO_INIC_PDET|inic_count|\n",
            "+-------------+--------------------+----------+\n",
            "|      PCF_IN1|1052473297579, 10...|         6|\n",
            "|      PCF_IN2|1052390270120, 10...|         9|\n",
            "|      PCF_IN3|1052612293066, 10...|         2|\n",
            "|      PCF_IN4|105283525278512, ...|         2|\n",
            "|      PCF_IN5|1052612292775, 10...|         4|\n",
            "|      PCF_IN6|1052835278611, 10...|         2|\n",
            "|      PCF_IN7|1052473297513, 10...|         2|\n",
            "|      PCF_IN8|1052612292789, 10...|         4|\n",
            "|      BCN_IN1|305040283545, 030...|        10|\n",
            "|      BCN_IN2|0305107297005, 03...|         3|\n",
            "|      BCN_IN3|                    |         1|\n",
            "|      BCN_IN4|        305895297004|         1|\n",
            "|      BCN_IN5|305120303371, 305...|         8|\n",
            "|      SDC_IN1|                    |         1|\n",
            "|      SDC_IN2|1423807174865, 14...|         5|\n",
            "|      CAT_IN1|        454720199470|         1|\n",
            "|      CAT_IN2|        454720202047|         1|\n",
            "|      CAT_IN3|                    |         1|\n",
            "|      CAT_IN4|                    |         1|\n",
            "|      CQT_IN1|618029337957\\n618...|         1|\n",
            "+-------------+--------------------+----------+\n",
            "only showing top 20 rows\n",
            "\n"
          ]
        }
      ]
    },
    {
      "cell_type": "code",
      "source": [
        "from pyspark.sql.functions import split, size\n",
        "\n",
        "# Split the column and count the number of elements in each row\n",
        "data_frame_split = data_frame.withColumn(\"inic_count\", size(split(data_frame[\"CODIGO_INIC_PDET\"], \",\")))\n",
        "\n",
        "# Sum the counts\n",
        "total_inic_count = data_frame_split.agg({'inic_count': 'sum'}).collect()[0][0]\n",
        "print(f\"Total count of elements in 'CODIGO_INIC_PDET': {total_inic_count}\")"
      ],
      "metadata": {
        "colab": {
          "base_uri": "https://localhost:8080/"
        },
        "id": "Z1LTK4OMYBAd",
        "outputId": "ecfde027-71ae-468a-c970-aebe2298fd8b"
      },
      "execution_count": null,
      "outputs": [
        {
          "output_type": "stream",
          "name": "stdout",
          "text": [
            "Total count of elements in 'CODIGO_INIC_PDET': 79\n"
          ]
        }
      ]
    },
    {
      "cell_type": "markdown",
      "source": [
        "79 Iniciativas PDET, con su respectivo código, son apoyadas por Iniciativas Integradoras de RIS"
      ],
      "metadata": {
        "id": "R5RSNwCmFoRR"
      }
    },
    {
      "cell_type": "markdown",
      "source": [
        "# **ALINEACIÓN DE INICIATIVAS PDET CON PLANES DE DESARROLLO DEPARTAMENTAL**"
      ],
      "metadata": {
        "id": "8aHOhyLrZL8z"
      }
    },
    {
      "cell_type": "code",
      "source": [
        "# Write and execute the SQL query to count occurrences of each unique value\n",
        "result = spark.sql(\"SELECT ASOCIADA_PDD, COUNT(*) AS count FROM IE_RIS GROUP BY ASOCIADA_PDD\")\n",
        "\n",
        "# Show the result\n",
        "result.show()"
      ],
      "metadata": {
        "colab": {
          "base_uri": "https://localhost:8080/"
        },
        "id": "Mv6oRLUrZXqQ",
        "outputId": "fde0a37a-17a8-4f96-af46-ddd269376021"
      },
      "execution_count": null,
      "outputs": [
        {
          "output_type": "stream",
          "name": "stdout",
          "text": [
            "+------------+-----+\n",
            "|ASOCIADA_PDD|count|\n",
            "+------------+-----+\n",
            "|          SÍ|   34|\n",
            "+------------+-----+\n",
            "\n"
          ]
        }
      ]
    },
    {
      "cell_type": "markdown",
      "source": [
        "Todas las Iniciativas Integradoras de RIS están alineadas con los Planes de Desarrollo Departamentales, en sus regiones."
      ],
      "metadata": {
        "id": "6cvwZ92mF_pa"
      }
    },
    {
      "cell_type": "markdown",
      "source": [
        "# **MUNICIPIOS EN INICIATIVAS INTEGRADORAS**"
      ],
      "metadata": {
        "id": "Ki5V5eeIVU6C"
      }
    },
    {
      "cell_type": "code",
      "source": [
        "spreadsheet = gc.open('Tablas de Base de Datos RIS_1_07_2024')\n",
        "worksheet = spreadsheet.worksheet('INIC_MPIOS')\n",
        "\n",
        "# Retrieve all values from the worksheet\n",
        "data_1 = worksheet.get_all_values()\n",
        "\n",
        "# Extract column titles from the first row\n",
        "column_titles_1 = data_1[0]\n",
        "\n",
        "# Extract data rows excluding the first row\n",
        "data_rows_1 = data_1[1:]\n",
        "\n",
        "# Create DataFrame with column titles\n",
        "data_frame_1 = spark.createDataFrame(data_rows_1, column_titles_1)\n",
        "\n",
        "data_frame_1.createOrReplaceTempView(\"IE_MPIOS\")\n",
        "\n",
        "# Show DataFrame\n",
        "data_frame_1.show()"
      ],
      "metadata": {
        "colab": {
          "base_uri": "https://localhost:8080/"
        },
        "id": "UqCg4K906Aby",
        "outputId": "194441ca-de7c-487a-84ea-97534b367fe6"
      },
      "execution_count": null,
      "outputs": [
        {
          "output_type": "stream",
          "name": "stdout",
          "text": [
            "+-------------+--------------------+\n",
            "|ID_INICIATIVA|          MUNICIPIOS|\n",
            "+-------------+--------------------+\n",
            "|      PCF_IN1|           BARBACOAS|\n",
            "|      PCF_IN1|           EL CHARCO|\n",
            "|      PCF_IN1|         MAGÜI PAYAN|\n",
            "|      PCF_IN1|            RICAURTE|\n",
            "|      PCF_IN1|       ROBERTO PAYÁN|\n",
            "|      PCF_IN1|SAN ANDRES DE TUMACO|\n",
            "|      PCF_IN2|           BARBACOAS|\n",
            "|      PCF_IN2|           EL CHARCO|\n",
            "|      PCF_IN2|   FRANCISCO PIZARRO|\n",
            "|      PCF_IN2|             LA TOLA|\n",
            "|      PCF_IN2|            MOSQUERA|\n",
            "|      PCF_IN2|         MAGÜI PAYAN|\n",
            "|      PCF_IN2|       OLAYA HERRERA|\n",
            "|      PCF_IN2|            RICAURTE|\n",
            "|      PCF_IN2|       ROBERTO PAYÁN|\n",
            "|      PCF_IN2|SAN ANDRES DE TUMACO|\n",
            "|      PCF_IN2|       SANTA BÁRBARA|\n",
            "|      PCF_IN3|           BARBACOAS|\n",
            "|      PCF_IN3|           EL CHARCO|\n",
            "|      PCF_IN3|         MAGÜI PAYAN|\n",
            "+-------------+--------------------+\n",
            "only showing top 20 rows\n",
            "\n"
          ]
        }
      ]
    },
    {
      "cell_type": "code",
      "source": [
        "data_frame_5 = spark.sql(\"SELECT ier.ID_REGION, iem.ID_INICIATIVA, ier.NOMBRE_CORTO, MUNICIPIOS FROM IE_RIS AS ier, IE_MPIOS AS iem WHERE ier.ID_INICIATIVA = iem.ID_INICIATIVA\")\n",
        "data_frame_5.show()\n"
      ],
      "metadata": {
        "colab": {
          "base_uri": "https://localhost:8080/"
        },
        "id": "QFXfABFobsat",
        "outputId": "5e739dae-e64c-4c58-b208-5671c5addde2"
      },
      "execution_count": null,
      "outputs": [
        {
          "output_type": "stream",
          "name": "stdout",
          "text": [
            "+---------+-------------+--------------------+----------+\n",
            "|ID_REGION|ID_INICIATIVA|        NOMBRE_CORTO|MUNICIPIOS|\n",
            "+---------+-------------+--------------------+----------+\n",
            "|      BCN|      BCN_IN1|      Alianza Anorí |     ANORÍ|\n",
            "|      BCN|      BCN_IN2|Educación Financi...|   BRICEÑO|\n",
            "|      BCN|      BCN_IN2|Educación Financi...|   ITUANGO|\n",
            "|      BCN|      BCN_IN2|Educación Financi...|  VALDIVIA|\n",
            "|      BCN|      BCN_IN3|Lo que cuentan lo...|     NECHÍ|\n",
            "|      BCN|      BCN_IN3|Lo que cuentan lo...|   CÁCERES|\n",
            "|      BCN|      BCN_IN3|Lo que cuentan lo...|    TARAZÁ|\n",
            "|      BCN|      BCN_IN3|Lo que cuentan lo...|  CAUCASIA|\n",
            "|      BCN|      BCN_IN3|Lo que cuentan lo...|  EL BAGRE|\n",
            "|      BCN|      BCN_IN3|Lo que cuentan lo...|  ZARAGOZA|\n",
            "|      BCN|      BCN_IN4|Tejiendo Justicia...|  CAUCASIA|\n",
            "|      BCN|      BCN_IN4|Tejiendo Justicia...|  EL BAGRE|\n",
            "|      BCN|      BCN_IN4|Tejiendo Justicia...|    TARAZÁ|\n",
            "|      BCN|      BCN_IN4|Tejiendo Justicia...|   CÁCERES|\n",
            "|      BCN|      BCN_IN4|Tejiendo Justicia...|  ZARAGOZA|\n",
            "|      BCN|      BCN_IN5|Empoderamiento ju...|  EL BAGRE|\n",
            "|      BCN|      BCN_IN5|Empoderamiento ju...|   CÁCERES|\n",
            "|      BCN|      BCN_IN5|Empoderamiento ju...|  CAUCASIA|\n",
            "|      BCN|      BCN_IN5|Empoderamiento ju...|     NECHÍ|\n",
            "|      BCN|      BCN_IN5|Empoderamiento ju...|    TARAZÁ|\n",
            "+---------+-------------+--------------------+----------+\n",
            "only showing top 20 rows\n",
            "\n"
          ]
        }
      ]
    },
    {
      "cell_type": "code",
      "source": [
        "# Convert PySpark DataFrame to Pandas DataFrame\n",
        "df_2 = data_frame_5.toPandas()\n",
        "\n",
        "# Count unique values in 'SubCategory' and group by 'Category'\n",
        "grouped_df_mpios = df_2.groupby('ID_REGION')['MUNICIPIOS'].nunique().reset_index()\n",
        "grouped_df_mpios.columns = ['ID_REGION', 'Uniquemunicipios']\n",
        "\n",
        "print(grouped_df_mpios)"
      ],
      "metadata": {
        "colab": {
          "base_uri": "https://localhost:8080/"
        },
        "id": "6Ytt4inHbw4q",
        "outputId": "29a3a652-95d1-4bd5-c2c5-dea8208dd72b"
      },
      "execution_count": null,
      "outputs": [
        {
          "output_type": "stream",
          "name": "stdout",
          "text": [
            "  ID_REGION  Uniquemunicipios\n",
            "0       BCN                10\n",
            "1       BOG                 2\n",
            "2       CAT                 8\n",
            "3       CQT                16\n",
            "4       PCF                11\n",
            "5       SDC                 5\n"
          ]
        }
      ]
    },
    {
      "cell_type": "code",
      "source": [
        "# Sort the DataFrame by 'UniqueID_INICIATIVAS' in descending order\n",
        "grouped_df_mpios_sorted = grouped_df_mpios.sort_values(by='Uniquemunicipios', ascending=False)\n",
        "\n",
        "\n",
        "# Create the bar plot\n",
        "fig = px.bar(grouped_df_mpios_sorted, x='ID_REGION', y='Uniquemunicipios', title='MUNICIPIOS EN INICIATIVAS POR REGION')\n",
        "\n",
        "# Customize the plot\n",
        "fig.update_layout(\n",
        "    xaxis_title='REGIÓN',\n",
        "    yaxis_title='NÚMERO DE MUNICIPIOS',\n",
        "    title={\n",
        "        'text': 'MUNICIPIOS EN INICIATIVAS INTEGRADORAS POR REGION',\n",
        "        'y':0.9,\n",
        "        'x':0.5,\n",
        "        'xanchor': 'center',\n",
        "        'yanchor': 'top'\n",
        "    },\n",
        "    font=dict(\n",
        "        family=\"Arial\",\n",
        "        size=15,\n",
        "        color=\"black\"\n",
        "    )\n",
        ")\n",
        "\n",
        "# Update the text position to be inside the bars\n",
        "fig.update_traces(texttemplate='%{y}', textposition='inside')\n",
        "\n",
        "# Show the plot\n",
        "fig.show()\n"
      ],
      "metadata": {
        "colab": {
          "base_uri": "https://localhost:8080/",
          "height": 542
        },
        "id": "7EOKlyjGbYmx",
        "outputId": "2a1d4787-63e3-426a-fbfc-ea3305cb68e1"
      },
      "execution_count": null,
      "outputs": [
        {
          "output_type": "display_data",
          "data": {
            "text/html": [
              "<html>\n",
              "<head><meta charset=\"utf-8\" /></head>\n",
              "<body>\n",
              "    <div>            <script src=\"https://cdnjs.cloudflare.com/ajax/libs/mathjax/2.7.5/MathJax.js?config=TeX-AMS-MML_SVG\"></script><script type=\"text/javascript\">if (window.MathJax && window.MathJax.Hub && window.MathJax.Hub.Config) {window.MathJax.Hub.Config({SVG: {font: \"STIX-Web\"}});}</script>                <script type=\"text/javascript\">window.PlotlyConfig = {MathJaxConfig: 'local'};</script>\n",
              "        <script charset=\"utf-8\" src=\"https://cdn.plot.ly/plotly-2.24.1.min.js\"></script>                <div id=\"fcd22ee3-1ebb-4488-a5c1-24fabedc87a3\" class=\"plotly-graph-div\" style=\"height:525px; width:100%;\"></div>            <script type=\"text/javascript\">                                    window.PLOTLYENV=window.PLOTLYENV || {};                                    if (document.getElementById(\"fcd22ee3-1ebb-4488-a5c1-24fabedc87a3\")) {                    Plotly.newPlot(                        \"fcd22ee3-1ebb-4488-a5c1-24fabedc87a3\",                        [{\"alignmentgroup\":\"True\",\"hovertemplate\":\"ID_REGION=%{x}\\u003cbr\\u003eUniquemunicipios=%{y}\\u003cextra\\u003e\\u003c\\u002fextra\\u003e\",\"legendgroup\":\"\",\"marker\":{\"color\":\"#636efa\",\"pattern\":{\"shape\":\"\"}},\"name\":\"\",\"offsetgroup\":\"\",\"orientation\":\"v\",\"showlegend\":false,\"textposition\":\"inside\",\"x\":[\"CQT\",\"PCF\",\"BCN\",\"CAT\",\"SDC\",\"BOG\"],\"xaxis\":\"x\",\"y\":[16,11,10,8,5,2],\"yaxis\":\"y\",\"type\":\"bar\",\"texttemplate\":\"%{y}\"}],                        {\"template\":{\"data\":{\"histogram2dcontour\":[{\"type\":\"histogram2dcontour\",\"colorbar\":{\"outlinewidth\":0,\"ticks\":\"\"},\"colorscale\":[[0.0,\"#0d0887\"],[0.1111111111111111,\"#46039f\"],[0.2222222222222222,\"#7201a8\"],[0.3333333333333333,\"#9c179e\"],[0.4444444444444444,\"#bd3786\"],[0.5555555555555556,\"#d8576b\"],[0.6666666666666666,\"#ed7953\"],[0.7777777777777778,\"#fb9f3a\"],[0.8888888888888888,\"#fdca26\"],[1.0,\"#f0f921\"]]}],\"choropleth\":[{\"type\":\"choropleth\",\"colorbar\":{\"outlinewidth\":0,\"ticks\":\"\"}}],\"histogram2d\":[{\"type\":\"histogram2d\",\"colorbar\":{\"outlinewidth\":0,\"ticks\":\"\"},\"colorscale\":[[0.0,\"#0d0887\"],[0.1111111111111111,\"#46039f\"],[0.2222222222222222,\"#7201a8\"],[0.3333333333333333,\"#9c179e\"],[0.4444444444444444,\"#bd3786\"],[0.5555555555555556,\"#d8576b\"],[0.6666666666666666,\"#ed7953\"],[0.7777777777777778,\"#fb9f3a\"],[0.8888888888888888,\"#fdca26\"],[1.0,\"#f0f921\"]]}],\"heatmap\":[{\"type\":\"heatmap\",\"colorbar\":{\"outlinewidth\":0,\"ticks\":\"\"},\"colorscale\":[[0.0,\"#0d0887\"],[0.1111111111111111,\"#46039f\"],[0.2222222222222222,\"#7201a8\"],[0.3333333333333333,\"#9c179e\"],[0.4444444444444444,\"#bd3786\"],[0.5555555555555556,\"#d8576b\"],[0.6666666666666666,\"#ed7953\"],[0.7777777777777778,\"#fb9f3a\"],[0.8888888888888888,\"#fdca26\"],[1.0,\"#f0f921\"]]}],\"heatmapgl\":[{\"type\":\"heatmapgl\",\"colorbar\":{\"outlinewidth\":0,\"ticks\":\"\"},\"colorscale\":[[0.0,\"#0d0887\"],[0.1111111111111111,\"#46039f\"],[0.2222222222222222,\"#7201a8\"],[0.3333333333333333,\"#9c179e\"],[0.4444444444444444,\"#bd3786\"],[0.5555555555555556,\"#d8576b\"],[0.6666666666666666,\"#ed7953\"],[0.7777777777777778,\"#fb9f3a\"],[0.8888888888888888,\"#fdca26\"],[1.0,\"#f0f921\"]]}],\"contourcarpet\":[{\"type\":\"contourcarpet\",\"colorbar\":{\"outlinewidth\":0,\"ticks\":\"\"}}],\"contour\":[{\"type\":\"contour\",\"colorbar\":{\"outlinewidth\":0,\"ticks\":\"\"},\"colorscale\":[[0.0,\"#0d0887\"],[0.1111111111111111,\"#46039f\"],[0.2222222222222222,\"#7201a8\"],[0.3333333333333333,\"#9c179e\"],[0.4444444444444444,\"#bd3786\"],[0.5555555555555556,\"#d8576b\"],[0.6666666666666666,\"#ed7953\"],[0.7777777777777778,\"#fb9f3a\"],[0.8888888888888888,\"#fdca26\"],[1.0,\"#f0f921\"]]}],\"surface\":[{\"type\":\"surface\",\"colorbar\":{\"outlinewidth\":0,\"ticks\":\"\"},\"colorscale\":[[0.0,\"#0d0887\"],[0.1111111111111111,\"#46039f\"],[0.2222222222222222,\"#7201a8\"],[0.3333333333333333,\"#9c179e\"],[0.4444444444444444,\"#bd3786\"],[0.5555555555555556,\"#d8576b\"],[0.6666666666666666,\"#ed7953\"],[0.7777777777777778,\"#fb9f3a\"],[0.8888888888888888,\"#fdca26\"],[1.0,\"#f0f921\"]]}],\"mesh3d\":[{\"type\":\"mesh3d\",\"colorbar\":{\"outlinewidth\":0,\"ticks\":\"\"}}],\"scatter\":[{\"fillpattern\":{\"fillmode\":\"overlay\",\"size\":10,\"solidity\":0.2},\"type\":\"scatter\"}],\"parcoords\":[{\"type\":\"parcoords\",\"line\":{\"colorbar\":{\"outlinewidth\":0,\"ticks\":\"\"}}}],\"scatterpolargl\":[{\"type\":\"scatterpolargl\",\"marker\":{\"colorbar\":{\"outlinewidth\":0,\"ticks\":\"\"}}}],\"bar\":[{\"error_x\":{\"color\":\"#2a3f5f\"},\"error_y\":{\"color\":\"#2a3f5f\"},\"marker\":{\"line\":{\"color\":\"#E5ECF6\",\"width\":0.5},\"pattern\":{\"fillmode\":\"overlay\",\"size\":10,\"solidity\":0.2}},\"type\":\"bar\"}],\"scattergeo\":[{\"type\":\"scattergeo\",\"marker\":{\"colorbar\":{\"outlinewidth\":0,\"ticks\":\"\"}}}],\"scatterpolar\":[{\"type\":\"scatterpolar\",\"marker\":{\"colorbar\":{\"outlinewidth\":0,\"ticks\":\"\"}}}],\"histogram\":[{\"marker\":{\"pattern\":{\"fillmode\":\"overlay\",\"size\":10,\"solidity\":0.2}},\"type\":\"histogram\"}],\"scattergl\":[{\"type\":\"scattergl\",\"marker\":{\"colorbar\":{\"outlinewidth\":0,\"ticks\":\"\"}}}],\"scatter3d\":[{\"type\":\"scatter3d\",\"line\":{\"colorbar\":{\"outlinewidth\":0,\"ticks\":\"\"}},\"marker\":{\"colorbar\":{\"outlinewidth\":0,\"ticks\":\"\"}}}],\"scattermapbox\":[{\"type\":\"scattermapbox\",\"marker\":{\"colorbar\":{\"outlinewidth\":0,\"ticks\":\"\"}}}],\"scatterternary\":[{\"type\":\"scatterternary\",\"marker\":{\"colorbar\":{\"outlinewidth\":0,\"ticks\":\"\"}}}],\"scattercarpet\":[{\"type\":\"scattercarpet\",\"marker\":{\"colorbar\":{\"outlinewidth\":0,\"ticks\":\"\"}}}],\"carpet\":[{\"aaxis\":{\"endlinecolor\":\"#2a3f5f\",\"gridcolor\":\"white\",\"linecolor\":\"white\",\"minorgridcolor\":\"white\",\"startlinecolor\":\"#2a3f5f\"},\"baxis\":{\"endlinecolor\":\"#2a3f5f\",\"gridcolor\":\"white\",\"linecolor\":\"white\",\"minorgridcolor\":\"white\",\"startlinecolor\":\"#2a3f5f\"},\"type\":\"carpet\"}],\"table\":[{\"cells\":{\"fill\":{\"color\":\"#EBF0F8\"},\"line\":{\"color\":\"white\"}},\"header\":{\"fill\":{\"color\":\"#C8D4E3\"},\"line\":{\"color\":\"white\"}},\"type\":\"table\"}],\"barpolar\":[{\"marker\":{\"line\":{\"color\":\"#E5ECF6\",\"width\":0.5},\"pattern\":{\"fillmode\":\"overlay\",\"size\":10,\"solidity\":0.2}},\"type\":\"barpolar\"}],\"pie\":[{\"automargin\":true,\"type\":\"pie\"}]},\"layout\":{\"autotypenumbers\":\"strict\",\"colorway\":[\"#636efa\",\"#EF553B\",\"#00cc96\",\"#ab63fa\",\"#FFA15A\",\"#19d3f3\",\"#FF6692\",\"#B6E880\",\"#FF97FF\",\"#FECB52\"],\"font\":{\"color\":\"#2a3f5f\"},\"hovermode\":\"closest\",\"hoverlabel\":{\"align\":\"left\"},\"paper_bgcolor\":\"white\",\"plot_bgcolor\":\"#E5ECF6\",\"polar\":{\"bgcolor\":\"#E5ECF6\",\"angularaxis\":{\"gridcolor\":\"white\",\"linecolor\":\"white\",\"ticks\":\"\"},\"radialaxis\":{\"gridcolor\":\"white\",\"linecolor\":\"white\",\"ticks\":\"\"}},\"ternary\":{\"bgcolor\":\"#E5ECF6\",\"aaxis\":{\"gridcolor\":\"white\",\"linecolor\":\"white\",\"ticks\":\"\"},\"baxis\":{\"gridcolor\":\"white\",\"linecolor\":\"white\",\"ticks\":\"\"},\"caxis\":{\"gridcolor\":\"white\",\"linecolor\":\"white\",\"ticks\":\"\"}},\"coloraxis\":{\"colorbar\":{\"outlinewidth\":0,\"ticks\":\"\"}},\"colorscale\":{\"sequential\":[[0.0,\"#0d0887\"],[0.1111111111111111,\"#46039f\"],[0.2222222222222222,\"#7201a8\"],[0.3333333333333333,\"#9c179e\"],[0.4444444444444444,\"#bd3786\"],[0.5555555555555556,\"#d8576b\"],[0.6666666666666666,\"#ed7953\"],[0.7777777777777778,\"#fb9f3a\"],[0.8888888888888888,\"#fdca26\"],[1.0,\"#f0f921\"]],\"sequentialminus\":[[0.0,\"#0d0887\"],[0.1111111111111111,\"#46039f\"],[0.2222222222222222,\"#7201a8\"],[0.3333333333333333,\"#9c179e\"],[0.4444444444444444,\"#bd3786\"],[0.5555555555555556,\"#d8576b\"],[0.6666666666666666,\"#ed7953\"],[0.7777777777777778,\"#fb9f3a\"],[0.8888888888888888,\"#fdca26\"],[1.0,\"#f0f921\"]],\"diverging\":[[0,\"#8e0152\"],[0.1,\"#c51b7d\"],[0.2,\"#de77ae\"],[0.3,\"#f1b6da\"],[0.4,\"#fde0ef\"],[0.5,\"#f7f7f7\"],[0.6,\"#e6f5d0\"],[0.7,\"#b8e186\"],[0.8,\"#7fbc41\"],[0.9,\"#4d9221\"],[1,\"#276419\"]]},\"xaxis\":{\"gridcolor\":\"white\",\"linecolor\":\"white\",\"ticks\":\"\",\"title\":{\"standoff\":15},\"zerolinecolor\":\"white\",\"automargin\":true,\"zerolinewidth\":2},\"yaxis\":{\"gridcolor\":\"white\",\"linecolor\":\"white\",\"ticks\":\"\",\"title\":{\"standoff\":15},\"zerolinecolor\":\"white\",\"automargin\":true,\"zerolinewidth\":2},\"scene\":{\"xaxis\":{\"backgroundcolor\":\"#E5ECF6\",\"gridcolor\":\"white\",\"linecolor\":\"white\",\"showbackground\":true,\"ticks\":\"\",\"zerolinecolor\":\"white\",\"gridwidth\":2},\"yaxis\":{\"backgroundcolor\":\"#E5ECF6\",\"gridcolor\":\"white\",\"linecolor\":\"white\",\"showbackground\":true,\"ticks\":\"\",\"zerolinecolor\":\"white\",\"gridwidth\":2},\"zaxis\":{\"backgroundcolor\":\"#E5ECF6\",\"gridcolor\":\"white\",\"linecolor\":\"white\",\"showbackground\":true,\"ticks\":\"\",\"zerolinecolor\":\"white\",\"gridwidth\":2}},\"shapedefaults\":{\"line\":{\"color\":\"#2a3f5f\"}},\"annotationdefaults\":{\"arrowcolor\":\"#2a3f5f\",\"arrowhead\":0,\"arrowwidth\":1},\"geo\":{\"bgcolor\":\"white\",\"landcolor\":\"#E5ECF6\",\"subunitcolor\":\"white\",\"showland\":true,\"showlakes\":true,\"lakecolor\":\"white\"},\"title\":{\"x\":0.05},\"mapbox\":{\"style\":\"light\"}}},\"xaxis\":{\"anchor\":\"y\",\"domain\":[0.0,1.0],\"title\":{\"text\":\"REGI\\u00d3N\"}},\"yaxis\":{\"anchor\":\"x\",\"domain\":[0.0,1.0],\"title\":{\"text\":\"N\\u00daMERO DE MUNICIPIOS\"}},\"legend\":{\"tracegroupgap\":0},\"title\":{\"text\":\"MUNICIPIOS EN INICIATIVAS INTEGRADORAS POR REGION\",\"y\":0.9,\"x\":0.5,\"xanchor\":\"center\",\"yanchor\":\"top\"},\"barmode\":\"relative\",\"font\":{\"family\":\"Arial\",\"size\":15,\"color\":\"black\"}},                        {\"responsive\": true}                    ).then(function(){\n",
              "                            \n",
              "var gd = document.getElementById('fcd22ee3-1ebb-4488-a5c1-24fabedc87a3');\n",
              "var x = new MutationObserver(function (mutations, observer) {{\n",
              "        var display = window.getComputedStyle(gd).display;\n",
              "        if (!display || display === 'none') {{\n",
              "            console.log([gd, 'removed!']);\n",
              "            Plotly.purge(gd);\n",
              "            observer.disconnect();\n",
              "        }}\n",
              "}});\n",
              "\n",
              "// Listen for the removal of the full notebook cells\n",
              "var notebookContainer = gd.closest('#notebook-container');\n",
              "if (notebookContainer) {{\n",
              "    x.observe(notebookContainer, {childList: true});\n",
              "}}\n",
              "\n",
              "// Listen for the clearing of the current output cell\n",
              "var outputEl = gd.closest('.output');\n",
              "if (outputEl) {{\n",
              "    x.observe(outputEl, {childList: true});\n",
              "}}\n",
              "\n",
              "                        })                };                            </script>        </div>\n",
              "</body>\n",
              "</html>"
            ]
          },
          "metadata": {}
        }
      ]
    },
    {
      "cell_type": "code",
      "source": [
        "#spark.sql(\"SELECT COUNT(*) FROM IE_RIS\")\n",
        "# Write and execute the SQL query\n",
        "result = spark.sql(\"SELECT COUNT(DISTINCT MUNICIPIOS) AS numero_municipios FROM IE_MPIOS\")\n",
        "\n",
        "# Show the result\n",
        "result.show()"
      ],
      "metadata": {
        "id": "hPmhCKGXcHXa",
        "colab": {
          "base_uri": "https://localhost:8080/"
        },
        "outputId": "c42eb835-c9e4-4fd5-e959-642ae5f894b7"
      },
      "execution_count": null,
      "outputs": [
        {
          "output_type": "stream",
          "name": "stdout",
          "text": [
            "+-----------------+\n",
            "|numero_municipios|\n",
            "+-----------------+\n",
            "|               52|\n",
            "+-----------------+\n",
            "\n"
          ]
        }
      ]
    },
    {
      "cell_type": "markdown",
      "source": [
        "Las 34 Iniciativas Integradoras están localizadas en 52 municipios de la geografía de USAID, en seis regiones de Colombia"
      ],
      "metadata": {
        "id": "rznFfC7gGo6i"
      }
    },
    {
      "cell_type": "markdown",
      "source": [
        "# **ACTIVIDADES DE USAID EN INICIATIVAS INTEGRADORAS**"
      ],
      "metadata": {
        "id": "yVlxHNjIVsxG"
      }
    },
    {
      "cell_type": "code",
      "source": [
        "spreadsheet = gc.open('Tablas de Base de Datos RIS_1_07_2024')\n",
        "worksheet = spreadsheet.worksheet('INIC_ACT_USAID')\n",
        "\n",
        "# Retrieve all values from the worksheet\n",
        "data_2 = worksheet.get_all_values()\n",
        "\n",
        "# Extract column titles from the first row\n",
        "column_titles_2 = data_2[0]\n",
        "\n",
        "# Extract data rows excluding the first row\n",
        "data_rows_2 = data_2[1:]\n",
        "\n",
        "# Create DataFrame with column titles\n",
        "data_frame_2 = spark.createDataFrame(data_rows_2, column_titles_2)\n",
        "\n",
        "data_frame_2.createOrReplaceTempView(\"ACTIV\")\n",
        "\n",
        "# Show DataFrame\n",
        "data_frame_2.show()"
      ],
      "metadata": {
        "colab": {
          "base_uri": "https://localhost:8080/"
        },
        "id": "YB5prfPK7UXq",
        "outputId": "56911af3-1eef-46d4-8929-c7704cf499fd"
      },
      "execution_count": null,
      "outputs": [
        {
          "output_type": "stream",
          "name": "stdout",
          "text": [
            "+-------------+--------------------+------------+\n",
            "|ID_INICIATIVA|    NOMBRE_ACTIVIDAD|ID_ACTIVIDAD|\n",
            "+-------------+--------------------+------------+\n",
            "|      PCF_IN1|Programa Justicia...|          JI|\n",
            "|      PCF_IN1|Colombia Transfor...|         OTI|\n",
            "|      PCF_IN1|         Inspira Paz| INSPIRA PAZ|\n",
            "|      PCF_IN1|Restaurando Nuest...|         ROF|\n",
            "|      PCF_IN2|Generando Equidad...|         GEP|\n",
            "|      PCF_IN2|Colombia Transfor...|         OTI|\n",
            "|      PCF_IN2|Programa de Jóven...|         YRA|\n",
            "|      PCF_IN2|Destino Naturalez...|          DN|\n",
            "|      PCF_IN2|Programa Justicia...|          JI|\n",
            "|      PCF_IN2|         Inspira Paz| INSPIRA PAZ|\n",
            "|      PCF_IN2|Restaurando Nuest...|         ROF|\n",
            "|      PCF_IN2|Somos Comunidad -...|          RC|\n",
            "|      PCF_IN2|Gobernabilidad Re...|          RG|\n",
            "|      PCF_IN3|Somos Comunidad -...|          RC|\n",
            "|      PCF_IN3|Restaurando Nuest...|         ROF|\n",
            "|      PCF_IN3|Generando Equidad...|         GEP|\n",
            "|      PCF_IN4|Generando Equidad...|         GEP|\n",
            "|      PCF_IN4|Programa Nuestra ...|         LFP|\n",
            "|      PCF_IN4|Programa Justicia...|          JI|\n",
            "|      PCF_IN4|     Juntanza Étnica|       IPACE|\n",
            "+-------------+--------------------+------------+\n",
            "only showing top 20 rows\n",
            "\n"
          ]
        }
      ]
    },
    {
      "cell_type": "code",
      "source": [
        "data_frame_6 = spark.sql(\"SELECT ier.ID_REGION, act.ID_INICIATIVA, act.ID_ACTIVIDAD FROM IE_RIS AS ier, ACTIV AS act WHERE ier.ID_INICIATIVA = act.ID_INICIATIVA\")\n",
        "data_frame_6.show()"
      ],
      "metadata": {
        "colab": {
          "base_uri": "https://localhost:8080/"
        },
        "id": "Y1BHRNqGHfE7",
        "outputId": "510d426a-fef8-41c8-8c60-ec14c332b615"
      },
      "execution_count": null,
      "outputs": [
        {
          "output_type": "stream",
          "name": "stdout",
          "text": [
            "+---------+-------------+------------+\n",
            "|ID_REGION|ID_INICIATIVA|ID_ACTIVIDAD|\n",
            "+---------+-------------+------------+\n",
            "|      BCN|      BCN_IN1|         TDA|\n",
            "|      BCN|      BCN_IN1|         WLH|\n",
            "|      BCN|      BCN_IN1|         SAA|\n",
            "|      BCN|      BCN_IN1|         GEP|\n",
            "|      BCN|      BCN_IN1|          FE|\n",
            "|      BCN|      BCN_IN2|         GEP|\n",
            "|      BCN|      BCN_IN2|          FE|\n",
            "|      BCN|      BCN_IN2|         SAA|\n",
            "|      BCN|      BCN_IN3|         JXT|\n",
            "|      BCN|      BCN_IN3|          RG|\n",
            "|      BCN|      BCN_IN3|         OTI|\n",
            "|      BCN|      BCN_IN4|         OTI|\n",
            "|      BCN|      BCN_IN4|          JI|\n",
            "|      BCN|      BCN_IN4|         GEP|\n",
            "|      BCN|      BCN_IN4|          RC|\n",
            "|      BCN|      BCN_IN4|        HR4P|\n",
            "|      BCN|      BCN_IN4|          RG|\n",
            "|      BCN|      BCN_IN5|         OTI|\n",
            "|      BCN|      BCN_IN5|         GEP|\n",
            "|      BCN|      BCN_IN5|        HR4P|\n",
            "+---------+-------------+------------+\n",
            "only showing top 20 rows\n",
            "\n"
          ]
        }
      ]
    },
    {
      "cell_type": "code",
      "source": [
        "# Convert PySpark DataFrame to Pandas DataFrame\n",
        "df_3 = data_frame_6.toPandas()\n",
        "\n",
        "# Count unique values in 'SubCategory' and group by 'Category'\n",
        "grouped_df_act = df_3.groupby('ID_REGION')['ID_ACTIVIDAD'].nunique().reset_index()\n",
        "grouped_df_act.columns = ['ID_REGION', 'UniqueACTIVIDAD']\n",
        "\n",
        "print(grouped_df_act)"
      ],
      "metadata": {
        "colab": {
          "base_uri": "https://localhost:8080/"
        },
        "id": "BgvbVlhwJEHn",
        "outputId": "7b875984-46bb-47a4-8bb8-36b6aaaa642b"
      },
      "execution_count": null,
      "outputs": [
        {
          "output_type": "stream",
          "name": "stdout",
          "text": [
            "  ID_REGION  UniqueACTIVIDAD\n",
            "0       BCN               12\n",
            "1       BOG                7\n",
            "2       CAT                9\n",
            "3       CQT               12\n",
            "4       PCF               12\n",
            "5       SDC                8\n"
          ]
        }
      ]
    },
    {
      "cell_type": "code",
      "source": [
        "# Sort the DataFrame by 'UniqueID_INICIATIVAS' in descending order\n",
        "grouped_df_act_sorted = grouped_df_act.sort_values(by='UniqueACTIVIDAD', ascending=False)\n",
        "\n",
        "\n",
        "# Create the bar plot\n",
        "fig = px.bar(grouped_df_act_sorted, x='ID_REGION', y='UniqueACTIVIDAD', title='ACTIVIDADES DE USAID EN INICIATIVAS')\n",
        "\n",
        "# Customize the plot\n",
        "fig.update_layout(\n",
        "    xaxis_title='REGIÓN',\n",
        "    yaxis_title='NÚMERO DE ACTIVIDADES',\n",
        "    title={\n",
        "        'text': 'ACTIVIDADES DE USAID EN INICIATIVAS INTEGRADORAS POR REGION',\n",
        "        'y':0.9,\n",
        "        'x':0.5,\n",
        "        'xanchor': 'center',\n",
        "        'yanchor': 'top'\n",
        "    },\n",
        "    font=dict(\n",
        "        family=\"Arial\",\n",
        "        size=15,\n",
        "        color=\"black\"\n",
        "    )\n",
        ")\n",
        "\n",
        "# Update the text position to be inside the bars\n",
        "fig.update_traces(texttemplate='%{y}', textposition='inside')\n",
        "\n",
        "# Show the plot\n",
        "fig.show()"
      ],
      "metadata": {
        "colab": {
          "base_uri": "https://localhost:8080/",
          "height": 542
        },
        "id": "42uG2y-zJGyq",
        "outputId": "ae8c3554-fd4d-419a-ac62-09d43221c5a4"
      },
      "execution_count": null,
      "outputs": [
        {
          "output_type": "display_data",
          "data": {
            "text/html": [
              "<html>\n",
              "<head><meta charset=\"utf-8\" /></head>\n",
              "<body>\n",
              "    <div>            <script src=\"https://cdnjs.cloudflare.com/ajax/libs/mathjax/2.7.5/MathJax.js?config=TeX-AMS-MML_SVG\"></script><script type=\"text/javascript\">if (window.MathJax && window.MathJax.Hub && window.MathJax.Hub.Config) {window.MathJax.Hub.Config({SVG: {font: \"STIX-Web\"}});}</script>                <script type=\"text/javascript\">window.PlotlyConfig = {MathJaxConfig: 'local'};</script>\n",
              "        <script charset=\"utf-8\" src=\"https://cdn.plot.ly/plotly-2.24.1.min.js\"></script>                <div id=\"7f702443-2a40-446e-a0ff-4b34af01e5ec\" class=\"plotly-graph-div\" style=\"height:525px; width:100%;\"></div>            <script type=\"text/javascript\">                                    window.PLOTLYENV=window.PLOTLYENV || {};                                    if (document.getElementById(\"7f702443-2a40-446e-a0ff-4b34af01e5ec\")) {                    Plotly.newPlot(                        \"7f702443-2a40-446e-a0ff-4b34af01e5ec\",                        [{\"alignmentgroup\":\"True\",\"hovertemplate\":\"ID_REGION=%{x}\\u003cbr\\u003eUniqueACTIVIDAD=%{y}\\u003cextra\\u003e\\u003c\\u002fextra\\u003e\",\"legendgroup\":\"\",\"marker\":{\"color\":\"#636efa\",\"pattern\":{\"shape\":\"\"}},\"name\":\"\",\"offsetgroup\":\"\",\"orientation\":\"v\",\"showlegend\":false,\"textposition\":\"inside\",\"x\":[\"BCN\",\"CQT\",\"PCF\",\"CAT\",\"SDC\",\"BOG\"],\"xaxis\":\"x\",\"y\":[12,12,12,9,8,7],\"yaxis\":\"y\",\"type\":\"bar\",\"texttemplate\":\"%{y}\"}],                        {\"template\":{\"data\":{\"histogram2dcontour\":[{\"type\":\"histogram2dcontour\",\"colorbar\":{\"outlinewidth\":0,\"ticks\":\"\"},\"colorscale\":[[0.0,\"#0d0887\"],[0.1111111111111111,\"#46039f\"],[0.2222222222222222,\"#7201a8\"],[0.3333333333333333,\"#9c179e\"],[0.4444444444444444,\"#bd3786\"],[0.5555555555555556,\"#d8576b\"],[0.6666666666666666,\"#ed7953\"],[0.7777777777777778,\"#fb9f3a\"],[0.8888888888888888,\"#fdca26\"],[1.0,\"#f0f921\"]]}],\"choropleth\":[{\"type\":\"choropleth\",\"colorbar\":{\"outlinewidth\":0,\"ticks\":\"\"}}],\"histogram2d\":[{\"type\":\"histogram2d\",\"colorbar\":{\"outlinewidth\":0,\"ticks\":\"\"},\"colorscale\":[[0.0,\"#0d0887\"],[0.1111111111111111,\"#46039f\"],[0.2222222222222222,\"#7201a8\"],[0.3333333333333333,\"#9c179e\"],[0.4444444444444444,\"#bd3786\"],[0.5555555555555556,\"#d8576b\"],[0.6666666666666666,\"#ed7953\"],[0.7777777777777778,\"#fb9f3a\"],[0.8888888888888888,\"#fdca26\"],[1.0,\"#f0f921\"]]}],\"heatmap\":[{\"type\":\"heatmap\",\"colorbar\":{\"outlinewidth\":0,\"ticks\":\"\"},\"colorscale\":[[0.0,\"#0d0887\"],[0.1111111111111111,\"#46039f\"],[0.2222222222222222,\"#7201a8\"],[0.3333333333333333,\"#9c179e\"],[0.4444444444444444,\"#bd3786\"],[0.5555555555555556,\"#d8576b\"],[0.6666666666666666,\"#ed7953\"],[0.7777777777777778,\"#fb9f3a\"],[0.8888888888888888,\"#fdca26\"],[1.0,\"#f0f921\"]]}],\"heatmapgl\":[{\"type\":\"heatmapgl\",\"colorbar\":{\"outlinewidth\":0,\"ticks\":\"\"},\"colorscale\":[[0.0,\"#0d0887\"],[0.1111111111111111,\"#46039f\"],[0.2222222222222222,\"#7201a8\"],[0.3333333333333333,\"#9c179e\"],[0.4444444444444444,\"#bd3786\"],[0.5555555555555556,\"#d8576b\"],[0.6666666666666666,\"#ed7953\"],[0.7777777777777778,\"#fb9f3a\"],[0.8888888888888888,\"#fdca26\"],[1.0,\"#f0f921\"]]}],\"contourcarpet\":[{\"type\":\"contourcarpet\",\"colorbar\":{\"outlinewidth\":0,\"ticks\":\"\"}}],\"contour\":[{\"type\":\"contour\",\"colorbar\":{\"outlinewidth\":0,\"ticks\":\"\"},\"colorscale\":[[0.0,\"#0d0887\"],[0.1111111111111111,\"#46039f\"],[0.2222222222222222,\"#7201a8\"],[0.3333333333333333,\"#9c179e\"],[0.4444444444444444,\"#bd3786\"],[0.5555555555555556,\"#d8576b\"],[0.6666666666666666,\"#ed7953\"],[0.7777777777777778,\"#fb9f3a\"],[0.8888888888888888,\"#fdca26\"],[1.0,\"#f0f921\"]]}],\"surface\":[{\"type\":\"surface\",\"colorbar\":{\"outlinewidth\":0,\"ticks\":\"\"},\"colorscale\":[[0.0,\"#0d0887\"],[0.1111111111111111,\"#46039f\"],[0.2222222222222222,\"#7201a8\"],[0.3333333333333333,\"#9c179e\"],[0.4444444444444444,\"#bd3786\"],[0.5555555555555556,\"#d8576b\"],[0.6666666666666666,\"#ed7953\"],[0.7777777777777778,\"#fb9f3a\"],[0.8888888888888888,\"#fdca26\"],[1.0,\"#f0f921\"]]}],\"mesh3d\":[{\"type\":\"mesh3d\",\"colorbar\":{\"outlinewidth\":0,\"ticks\":\"\"}}],\"scatter\":[{\"fillpattern\":{\"fillmode\":\"overlay\",\"size\":10,\"solidity\":0.2},\"type\":\"scatter\"}],\"parcoords\":[{\"type\":\"parcoords\",\"line\":{\"colorbar\":{\"outlinewidth\":0,\"ticks\":\"\"}}}],\"scatterpolargl\":[{\"type\":\"scatterpolargl\",\"marker\":{\"colorbar\":{\"outlinewidth\":0,\"ticks\":\"\"}}}],\"bar\":[{\"error_x\":{\"color\":\"#2a3f5f\"},\"error_y\":{\"color\":\"#2a3f5f\"},\"marker\":{\"line\":{\"color\":\"#E5ECF6\",\"width\":0.5},\"pattern\":{\"fillmode\":\"overlay\",\"size\":10,\"solidity\":0.2}},\"type\":\"bar\"}],\"scattergeo\":[{\"type\":\"scattergeo\",\"marker\":{\"colorbar\":{\"outlinewidth\":0,\"ticks\":\"\"}}}],\"scatterpolar\":[{\"type\":\"scatterpolar\",\"marker\":{\"colorbar\":{\"outlinewidth\":0,\"ticks\":\"\"}}}],\"histogram\":[{\"marker\":{\"pattern\":{\"fillmode\":\"overlay\",\"size\":10,\"solidity\":0.2}},\"type\":\"histogram\"}],\"scattergl\":[{\"type\":\"scattergl\",\"marker\":{\"colorbar\":{\"outlinewidth\":0,\"ticks\":\"\"}}}],\"scatter3d\":[{\"type\":\"scatter3d\",\"line\":{\"colorbar\":{\"outlinewidth\":0,\"ticks\":\"\"}},\"marker\":{\"colorbar\":{\"outlinewidth\":0,\"ticks\":\"\"}}}],\"scattermapbox\":[{\"type\":\"scattermapbox\",\"marker\":{\"colorbar\":{\"outlinewidth\":0,\"ticks\":\"\"}}}],\"scatterternary\":[{\"type\":\"scatterternary\",\"marker\":{\"colorbar\":{\"outlinewidth\":0,\"ticks\":\"\"}}}],\"scattercarpet\":[{\"type\":\"scattercarpet\",\"marker\":{\"colorbar\":{\"outlinewidth\":0,\"ticks\":\"\"}}}],\"carpet\":[{\"aaxis\":{\"endlinecolor\":\"#2a3f5f\",\"gridcolor\":\"white\",\"linecolor\":\"white\",\"minorgridcolor\":\"white\",\"startlinecolor\":\"#2a3f5f\"},\"baxis\":{\"endlinecolor\":\"#2a3f5f\",\"gridcolor\":\"white\",\"linecolor\":\"white\",\"minorgridcolor\":\"white\",\"startlinecolor\":\"#2a3f5f\"},\"type\":\"carpet\"}],\"table\":[{\"cells\":{\"fill\":{\"color\":\"#EBF0F8\"},\"line\":{\"color\":\"white\"}},\"header\":{\"fill\":{\"color\":\"#C8D4E3\"},\"line\":{\"color\":\"white\"}},\"type\":\"table\"}],\"barpolar\":[{\"marker\":{\"line\":{\"color\":\"#E5ECF6\",\"width\":0.5},\"pattern\":{\"fillmode\":\"overlay\",\"size\":10,\"solidity\":0.2}},\"type\":\"barpolar\"}],\"pie\":[{\"automargin\":true,\"type\":\"pie\"}]},\"layout\":{\"autotypenumbers\":\"strict\",\"colorway\":[\"#636efa\",\"#EF553B\",\"#00cc96\",\"#ab63fa\",\"#FFA15A\",\"#19d3f3\",\"#FF6692\",\"#B6E880\",\"#FF97FF\",\"#FECB52\"],\"font\":{\"color\":\"#2a3f5f\"},\"hovermode\":\"closest\",\"hoverlabel\":{\"align\":\"left\"},\"paper_bgcolor\":\"white\",\"plot_bgcolor\":\"#E5ECF6\",\"polar\":{\"bgcolor\":\"#E5ECF6\",\"angularaxis\":{\"gridcolor\":\"white\",\"linecolor\":\"white\",\"ticks\":\"\"},\"radialaxis\":{\"gridcolor\":\"white\",\"linecolor\":\"white\",\"ticks\":\"\"}},\"ternary\":{\"bgcolor\":\"#E5ECF6\",\"aaxis\":{\"gridcolor\":\"white\",\"linecolor\":\"white\",\"ticks\":\"\"},\"baxis\":{\"gridcolor\":\"white\",\"linecolor\":\"white\",\"ticks\":\"\"},\"caxis\":{\"gridcolor\":\"white\",\"linecolor\":\"white\",\"ticks\":\"\"}},\"coloraxis\":{\"colorbar\":{\"outlinewidth\":0,\"ticks\":\"\"}},\"colorscale\":{\"sequential\":[[0.0,\"#0d0887\"],[0.1111111111111111,\"#46039f\"],[0.2222222222222222,\"#7201a8\"],[0.3333333333333333,\"#9c179e\"],[0.4444444444444444,\"#bd3786\"],[0.5555555555555556,\"#d8576b\"],[0.6666666666666666,\"#ed7953\"],[0.7777777777777778,\"#fb9f3a\"],[0.8888888888888888,\"#fdca26\"],[1.0,\"#f0f921\"]],\"sequentialminus\":[[0.0,\"#0d0887\"],[0.1111111111111111,\"#46039f\"],[0.2222222222222222,\"#7201a8\"],[0.3333333333333333,\"#9c179e\"],[0.4444444444444444,\"#bd3786\"],[0.5555555555555556,\"#d8576b\"],[0.6666666666666666,\"#ed7953\"],[0.7777777777777778,\"#fb9f3a\"],[0.8888888888888888,\"#fdca26\"],[1.0,\"#f0f921\"]],\"diverging\":[[0,\"#8e0152\"],[0.1,\"#c51b7d\"],[0.2,\"#de77ae\"],[0.3,\"#f1b6da\"],[0.4,\"#fde0ef\"],[0.5,\"#f7f7f7\"],[0.6,\"#e6f5d0\"],[0.7,\"#b8e186\"],[0.8,\"#7fbc41\"],[0.9,\"#4d9221\"],[1,\"#276419\"]]},\"xaxis\":{\"gridcolor\":\"white\",\"linecolor\":\"white\",\"ticks\":\"\",\"title\":{\"standoff\":15},\"zerolinecolor\":\"white\",\"automargin\":true,\"zerolinewidth\":2},\"yaxis\":{\"gridcolor\":\"white\",\"linecolor\":\"white\",\"ticks\":\"\",\"title\":{\"standoff\":15},\"zerolinecolor\":\"white\",\"automargin\":true,\"zerolinewidth\":2},\"scene\":{\"xaxis\":{\"backgroundcolor\":\"#E5ECF6\",\"gridcolor\":\"white\",\"linecolor\":\"white\",\"showbackground\":true,\"ticks\":\"\",\"zerolinecolor\":\"white\",\"gridwidth\":2},\"yaxis\":{\"backgroundcolor\":\"#E5ECF6\",\"gridcolor\":\"white\",\"linecolor\":\"white\",\"showbackground\":true,\"ticks\":\"\",\"zerolinecolor\":\"white\",\"gridwidth\":2},\"zaxis\":{\"backgroundcolor\":\"#E5ECF6\",\"gridcolor\":\"white\",\"linecolor\":\"white\",\"showbackground\":true,\"ticks\":\"\",\"zerolinecolor\":\"white\",\"gridwidth\":2}},\"shapedefaults\":{\"line\":{\"color\":\"#2a3f5f\"}},\"annotationdefaults\":{\"arrowcolor\":\"#2a3f5f\",\"arrowhead\":0,\"arrowwidth\":1},\"geo\":{\"bgcolor\":\"white\",\"landcolor\":\"#E5ECF6\",\"subunitcolor\":\"white\",\"showland\":true,\"showlakes\":true,\"lakecolor\":\"white\"},\"title\":{\"x\":0.05},\"mapbox\":{\"style\":\"light\"}}},\"xaxis\":{\"anchor\":\"y\",\"domain\":[0.0,1.0],\"title\":{\"text\":\"REGI\\u00d3N\"}},\"yaxis\":{\"anchor\":\"x\",\"domain\":[0.0,1.0],\"title\":{\"text\":\"N\\u00daMERO DE ACTIVIDADES\"}},\"legend\":{\"tracegroupgap\":0},\"title\":{\"text\":\"ACTIVIDADES DE USAID EN INICIATIVAS INTEGRADORAS POR REGION\",\"y\":0.9,\"x\":0.5,\"xanchor\":\"center\",\"yanchor\":\"top\"},\"barmode\":\"relative\",\"font\":{\"family\":\"Arial\",\"size\":15,\"color\":\"black\"}},                        {\"responsive\": true}                    ).then(function(){\n",
              "                            \n",
              "var gd = document.getElementById('7f702443-2a40-446e-a0ff-4b34af01e5ec');\n",
              "var x = new MutationObserver(function (mutations, observer) {{\n",
              "        var display = window.getComputedStyle(gd).display;\n",
              "        if (!display || display === 'none') {{\n",
              "            console.log([gd, 'removed!']);\n",
              "            Plotly.purge(gd);\n",
              "            observer.disconnect();\n",
              "        }}\n",
              "}});\n",
              "\n",
              "// Listen for the removal of the full notebook cells\n",
              "var notebookContainer = gd.closest('#notebook-container');\n",
              "if (notebookContainer) {{\n",
              "    x.observe(notebookContainer, {childList: true});\n",
              "}}\n",
              "\n",
              "// Listen for the clearing of the current output cell\n",
              "var outputEl = gd.closest('.output');\n",
              "if (outputEl) {{\n",
              "    x.observe(outputEl, {childList: true});\n",
              "}}\n",
              "\n",
              "                        })                };                            </script>        </div>\n",
              "</body>\n",
              "</html>"
            ]
          },
          "metadata": {}
        }
      ]
    },
    {
      "cell_type": "code",
      "source": [
        "#spark.sql(\"SELECT COUNT(*) FROM IE_RIS\")\n",
        "# Write and execute the SQL query\n",
        "result = spark.sql(\"SELECT COUNT(DISTINCT ID_ACTIVIDAD) AS numero_actividades FROM ACTIV\")\n",
        "\n",
        "# Show the result\n",
        "result.show()"
      ],
      "metadata": {
        "colab": {
          "base_uri": "https://localhost:8080/"
        },
        "id": "9T7veCehJlaA",
        "outputId": "81c0f0fc-7da8-4a37-e811-06085f28b531"
      },
      "execution_count": null,
      "outputs": [
        {
          "output_type": "stream",
          "name": "stdout",
          "text": [
            "+------------------+\n",
            "|numero_actividades|\n",
            "+------------------+\n",
            "|                28|\n",
            "+------------------+\n",
            "\n"
          ]
        }
      ]
    },
    {
      "cell_type": "code",
      "source": [
        "# Create the treemap\n",
        "fig = px.treemap(df_3, path=[px.Constant(\"\"), 'ID_REGION', 'ID_ACTIVIDAD'],\n",
        "                 hover_name='ID_REGION', color='ID_ACTIVIDAD', color_discrete_sequence=px.colors.qualitative.Pastel)\n",
        "fig.update_traces(root_color=\"lightgray\")\n",
        "fig.update_layout(margin=dict(t=40, l=25, r=25, b=25))\n",
        "fig.update_layout(title='INICIATIVAS INTEGRADORAS - ACTIVIDADES USAID')\n",
        "fig.update_layout(title_font_color='red')\n",
        "fig.update_layout(title_font_family=\"Arial\")\n",
        "fig.update_layout(title_font_size=15)\n",
        "fig.update_layout(width=1100, height=600)\n",
        "fig.update_traces(maxdepth=6, selector=dict(type='treemap'))\n",
        "fig.update_traces(hoverinfo=\"current path\", selector=dict(type='treemap'))\n",
        "# Enlarge text size for all labels in the treemap\n",
        "fig.update_traces(textfont=dict(size=25))\n",
        "# Display the plot\n",
        "fig.show()"
      ],
      "metadata": {
        "colab": {
          "base_uri": "https://localhost:8080/",
          "height": 617
        },
        "id": "9FZYLKhRcb9d",
        "outputId": "dc15702c-67ac-4aa4-b35e-cdd8914466ba"
      },
      "execution_count": null,
      "outputs": [
        {
          "output_type": "display_data",
          "data": {
            "text/html": [
              "<html>\n",
              "<head><meta charset=\"utf-8\" /></head>\n",
              "<body>\n",
              "    <div>            <script src=\"https://cdnjs.cloudflare.com/ajax/libs/mathjax/2.7.5/MathJax.js?config=TeX-AMS-MML_SVG\"></script><script type=\"text/javascript\">if (window.MathJax && window.MathJax.Hub && window.MathJax.Hub.Config) {window.MathJax.Hub.Config({SVG: {font: \"STIX-Web\"}});}</script>                <script type=\"text/javascript\">window.PlotlyConfig = {MathJaxConfig: 'local'};</script>\n",
              "        <script charset=\"utf-8\" src=\"https://cdn.plot.ly/plotly-2.24.1.min.js\"></script>                <div id=\"da766d20-486b-48fc-ac70-c565f911b4f1\" class=\"plotly-graph-div\" style=\"height:600px; width:1100px;\"></div>            <script type=\"text/javascript\">                                    window.PLOTLYENV=window.PLOTLYENV || {};                                    if (document.getElementById(\"da766d20-486b-48fc-ac70-c565f911b4f1\")) {                    Plotly.newPlot(                        \"da766d20-486b-48fc-ac70-c565f911b4f1\",                        [{\"branchvalues\":\"total\",\"customdata\":[[\"IPACE\"],[\"(?)\"],[\"YRA\"],[\"SAA\"],[\"RG\"],[\"DN\"],[\"EMPROPAZ\"],[\"RC\"],[\"RC\"],[\"Pasos Seguros\"],[\"LFP\"],[\"LFP\"],[\"INSPIRA PAZ\"],[\"OTI\"],[\"BC\"],[\"DN\"],[\"GEP\"],[\"HR4P\"],[\"INTEGRA\"],[\"YRA\"],[\"(?)\"],[\"RG\"],[\"SAA\"],[\"OTI\"],[\"LHSS\"],[\"RC\"],[\"JI\"],[\"JI\"],[\"GEP\"],[\"JI\"],[\"FE\"],[\"ROF\"],[\"(?)\"],[\"LFP\"],[\"JXT\"],[\"RAP\"],[\"OTI\"],[\"(?)\"],[\"INSPIRA PAZ\"],[\"RG\"],[\"FE\"],[\"WLH\"],[\"FE\"],[\"ROF\"],[\"SAA\"],[\"RG\"],[\"YRA\"],[\"OTI\"],[\"(?)\"],[\"GEP\"],[\"RG\"],[\"ROF\"],[\"(?)\"],[\"FE\"],[\"INSPIRA PAZ\"],[\"RC\"],[\"Pasos Seguros\"],[\"OSF\"],[\"JXT\"],[\"FE\"],[\"AM\"],[\"SAA\"],[\"(?)\"],[\"ABC\"],[\"JA\"],[\"AC\"],[\"TDA\"]],\"domain\":{\"x\":[0.0,1.0],\"y\":[0.0,1.0]},\"hovertemplate\":\"\\u003cb\\u003e%{hovertext}\\u003c\\u002fb\\u003e\\u003cbr\\u003e\\u003cbr\\u003elabels=%{label}\\u003cbr\\u003ecount=%{value}\\u003cbr\\u003eparent=%{parent}\\u003cbr\\u003eid=%{id}\\u003cbr\\u003eID_ACTIVIDAD=%{customdata[0]}\\u003cextra\\u003e\\u003c\\u002fextra\\u003e\",\"hovertext\":[\"PCF\",\"(?)\",\"CQT\",\"CQT\",\"PCF\",\"CQT\",\"CQT\",\"PCF\",\"BCN\",\"CAT\",\"PCF\",\"CAT\",\"PCF\",\"CAT\",\"CQT\",\"PCF\",\"BOG\",\"BCN\",\"BOG\",\"CAT\",\"CAT\",\"CQT\",\"CAT\",\"SDC\",\"BOG\",\"CAT\",\"PCF\",\"SDC\",\"BCN\",\"BCN\",\"CAT\",\"PCF\",\"SDC\",\"CQT\",\"BCN\",\"BOG\",\"BCN\",\"BCN\",\"CQT\",\"BCN\",\"SDC\",\"BCN\",\"PCF\",\"CQT\",\"BCN\",\"CAT\",\"PCF\",\"PCF\",\"BOG\",\"PCF\",\"SDC\",\"BOG\",\"PCF\",\"CQT\",\"CAT\",\"SDC\",\"SDC\",\"BOG\",\"SDC\",\"BCN\",\"CQT\",\"SDC\",\"CQT\",\"BCN\",\"BOG\",\"CQT\",\"BCN\"],\"ids\":[\"\\u002fPCF\\u002fIPACE\",\"\",\"\\u002fCQT\\u002fYRA\",\"\\u002fCQT\\u002fSAA\",\"\\u002fPCF\\u002fRG\",\"\\u002fCQT\\u002fDN\",\"\\u002fCQT\\u002fEMPROPAZ\",\"\\u002fPCF\\u002fRC\",\"\\u002fBCN\\u002fRC\",\"\\u002fCAT\\u002fPasos Seguros\",\"\\u002fPCF\\u002fLFP\",\"\\u002fCAT\\u002fLFP\",\"\\u002fPCF\\u002fINSPIRA PAZ\",\"\\u002fCAT\\u002fOTI\",\"\\u002fCQT\\u002fBC\",\"\\u002fPCF\\u002fDN\",\"\\u002fBOG\\u002fGEP\",\"\\u002fBCN\\u002fHR4P\",\"\\u002fBOG\\u002fINTEGRA\",\"\\u002fCAT\\u002fYRA\",\"\\u002fCAT\",\"\\u002fCQT\\u002fRG\",\"\\u002fCAT\\u002fSAA\",\"\\u002fSDC\\u002fOTI\",\"\\u002fBOG\\u002fLHSS\",\"\\u002fCAT\\u002fRC\",\"\\u002fPCF\\u002fJI\",\"\\u002fSDC\\u002fJI\",\"\\u002fBCN\\u002fGEP\",\"\\u002fBCN\\u002fJI\",\"\\u002fCAT\\u002fFE\",\"\\u002fPCF\\u002fROF\",\"\\u002fSDC\",\"\\u002fCQT\\u002fLFP\",\"\\u002fBCN\\u002fJXT\",\"\\u002fBOG\\u002fRAP\",\"\\u002fBCN\\u002fOTI\",\"\\u002fBCN\",\"\\u002fCQT\\u002fINSPIRA PAZ\",\"\\u002fBCN\\u002fRG\",\"\\u002fSDC\\u002fFE\",\"\\u002fBCN\\u002fWLH\",\"\\u002fPCF\\u002fFE\",\"\\u002fCQT\\u002fROF\",\"\\u002fBCN\\u002fSAA\",\"\\u002fCAT\\u002fRG\",\"\\u002fPCF\\u002fYRA\",\"\\u002fPCF\\u002fOTI\",\"\\u002fBOG\",\"\\u002fPCF\\u002fGEP\",\"\\u002fSDC\\u002fRG\",\"\\u002fBOG\\u002fROF\",\"\\u002fPCF\",\"\\u002fCQT\\u002fFE\",\"\\u002fCAT\\u002fINSPIRA PAZ\",\"\\u002fSDC\\u002fRC\",\"\\u002fSDC\\u002fPasos Seguros\",\"\\u002fBOG\\u002fOSF\",\"\\u002fSDC\\u002fJXT\",\"\\u002fBCN\\u002fFE\",\"\\u002fCQT\\u002fAM\",\"\\u002fSDC\\u002fSAA\",\"\\u002fCQT\",\"\\u002fBCN\\u002fABC\",\"\\u002fBOG\\u002fJA\",\"\\u002fCQT\\u002fAC\",\"\\u002fBCN\\u002fTDA\"],\"labels\":[\"IPACE\",\"\",\"YRA\",\"SAA\",\"RG\",\"DN\",\"EMPROPAZ\",\"RC\",\"RC\",\"Pasos Seguros\",\"LFP\",\"LFP\",\"INSPIRA PAZ\",\"OTI\",\"BC\",\"DN\",\"GEP\",\"HR4P\",\"INTEGRA\",\"YRA\",\"CAT\",\"RG\",\"SAA\",\"OTI\",\"LHSS\",\"RC\",\"JI\",\"JI\",\"GEP\",\"JI\",\"FE\",\"ROF\",\"SDC\",\"LFP\",\"JXT\",\"RAP\",\"OTI\",\"BCN\",\"INSPIRA PAZ\",\"RG\",\"FE\",\"WLH\",\"FE\",\"ROF\",\"SAA\",\"RG\",\"YRA\",\"OTI\",\"BOG\",\"GEP\",\"RG\",\"ROF\",\"PCF\",\"FE\",\"INSPIRA PAZ\",\"RC\",\"Pasos Seguros\",\"OSF\",\"JXT\",\"FE\",\"AM\",\"SAA\",\"CQT\",\"ABC\",\"JA\",\"AC\",\"TDA\"],\"marker\":{\"colors\":[\"rgb(102, 197, 204)\",\"rgb(246, 207, 113)\",\"rgb(248, 156, 116)\",\"rgb(220, 176, 242)\",\"rgb(135, 197, 95)\",\"rgb(158, 185, 243)\",\"rgb(254, 136, 177)\",\"rgb(201, 219, 116)\",\"rgb(201, 219, 116)\",\"rgb(139, 224, 164)\",\"rgb(180, 151, 231)\",\"rgb(180, 151, 231)\",\"rgb(179, 179, 179)\",\"rgb(102, 197, 204)\",\"rgb(246, 207, 113)\",\"rgb(158, 185, 243)\",\"rgb(248, 156, 116)\",\"rgb(220, 176, 242)\",\"rgb(135, 197, 95)\",\"rgb(248, 156, 116)\",\"rgb(246, 207, 113)\",\"rgb(135, 197, 95)\",\"rgb(220, 176, 242)\",\"rgb(102, 197, 204)\",\"rgb(158, 185, 243)\",\"rgb(201, 219, 116)\",\"rgb(254, 136, 177)\",\"rgb(254, 136, 177)\",\"rgb(248, 156, 116)\",\"rgb(254, 136, 177)\",\"rgb(201, 219, 116)\",\"rgb(139, 224, 164)\",\"rgb(246, 207, 113)\",\"rgb(180, 151, 231)\",\"rgb(180, 151, 231)\",\"rgb(179, 179, 179)\",\"rgb(102, 197, 204)\",\"rgb(246, 207, 113)\",\"rgb(179, 179, 179)\",\"rgb(135, 197, 95)\",\"rgb(201, 219, 116)\",\"rgb(102, 197, 204)\",\"rgb(201, 219, 116)\",\"rgb(139, 224, 164)\",\"rgb(220, 176, 242)\",\"rgb(135, 197, 95)\",\"rgb(248, 156, 116)\",\"rgb(102, 197, 204)\",\"rgb(246, 207, 113)\",\"rgb(248, 156, 116)\",\"rgb(135, 197, 95)\",\"rgb(139, 224, 164)\",\"rgb(246, 207, 113)\",\"rgb(201, 219, 116)\",\"rgb(179, 179, 179)\",\"rgb(201, 219, 116)\",\"rgb(139, 224, 164)\",\"rgb(246, 207, 113)\",\"rgb(180, 151, 231)\",\"rgb(201, 219, 116)\",\"rgb(248, 156, 116)\",\"rgb(220, 176, 242)\",\"rgb(246, 207, 113)\",\"rgb(220, 176, 242)\",\"rgb(135, 197, 95)\",\"rgb(158, 185, 243)\",\"rgb(254, 136, 177)\"]},\"name\":\"\",\"parents\":[\"\\u002fPCF\",\"\",\"\\u002fCQT\",\"\\u002fCQT\",\"\\u002fPCF\",\"\\u002fCQT\",\"\\u002fCQT\",\"\\u002fPCF\",\"\\u002fBCN\",\"\\u002fCAT\",\"\\u002fPCF\",\"\\u002fCAT\",\"\\u002fPCF\",\"\\u002fCAT\",\"\\u002fCQT\",\"\\u002fPCF\",\"\\u002fBOG\",\"\\u002fBCN\",\"\\u002fBOG\",\"\\u002fCAT\",\"\",\"\\u002fCQT\",\"\\u002fCAT\",\"\\u002fSDC\",\"\\u002fBOG\",\"\\u002fCAT\",\"\\u002fPCF\",\"\\u002fSDC\",\"\\u002fBCN\",\"\\u002fBCN\",\"\\u002fCAT\",\"\\u002fPCF\",\"\",\"\\u002fCQT\",\"\\u002fBCN\",\"\\u002fBOG\",\"\\u002fBCN\",\"\",\"\\u002fCQT\",\"\\u002fBCN\",\"\\u002fSDC\",\"\\u002fBCN\",\"\\u002fPCF\",\"\\u002fCQT\",\"\\u002fBCN\",\"\\u002fCAT\",\"\\u002fPCF\",\"\\u002fPCF\",\"\",\"\\u002fPCF\",\"\\u002fSDC\",\"\\u002fBOG\",\"\",\"\\u002fCQT\",\"\\u002fCAT\",\"\\u002fSDC\",\"\\u002fSDC\",\"\\u002fBOG\",\"\\u002fSDC\",\"\\u002fBCN\",\"\\u002fCQT\",\"\\u002fSDC\",\"\",\"\\u002fBCN\",\"\\u002fBOG\",\"\\u002fCQT\",\"\\u002fBCN\"],\"values\":[4,150,3,5,1,2,1,2,1,3,2,2,4,4,5,2,6,2,4,1,24,3,2,1,3,3,4,1,4,2,4,4,9,1,1,1,3,23,2,2,1,2,2,3,2,1,2,4,20,5,1,4,36,4,4,1,1,1,2,2,5,1,38,1,1,4,1],\"type\":\"treemap\",\"root\":{\"color\":\"lightgray\"},\"maxdepth\":6,\"hoverinfo\":\"current path\",\"textfont\":{\"size\":25}}],                        {\"template\":{\"data\":{\"histogram2dcontour\":[{\"type\":\"histogram2dcontour\",\"colorbar\":{\"outlinewidth\":0,\"ticks\":\"\"},\"colorscale\":[[0.0,\"#0d0887\"],[0.1111111111111111,\"#46039f\"],[0.2222222222222222,\"#7201a8\"],[0.3333333333333333,\"#9c179e\"],[0.4444444444444444,\"#bd3786\"],[0.5555555555555556,\"#d8576b\"],[0.6666666666666666,\"#ed7953\"],[0.7777777777777778,\"#fb9f3a\"],[0.8888888888888888,\"#fdca26\"],[1.0,\"#f0f921\"]]}],\"choropleth\":[{\"type\":\"choropleth\",\"colorbar\":{\"outlinewidth\":0,\"ticks\":\"\"}}],\"histogram2d\":[{\"type\":\"histogram2d\",\"colorbar\":{\"outlinewidth\":0,\"ticks\":\"\"},\"colorscale\":[[0.0,\"#0d0887\"],[0.1111111111111111,\"#46039f\"],[0.2222222222222222,\"#7201a8\"],[0.3333333333333333,\"#9c179e\"],[0.4444444444444444,\"#bd3786\"],[0.5555555555555556,\"#d8576b\"],[0.6666666666666666,\"#ed7953\"],[0.7777777777777778,\"#fb9f3a\"],[0.8888888888888888,\"#fdca26\"],[1.0,\"#f0f921\"]]}],\"heatmap\":[{\"type\":\"heatmap\",\"colorbar\":{\"outlinewidth\":0,\"ticks\":\"\"},\"colorscale\":[[0.0,\"#0d0887\"],[0.1111111111111111,\"#46039f\"],[0.2222222222222222,\"#7201a8\"],[0.3333333333333333,\"#9c179e\"],[0.4444444444444444,\"#bd3786\"],[0.5555555555555556,\"#d8576b\"],[0.6666666666666666,\"#ed7953\"],[0.7777777777777778,\"#fb9f3a\"],[0.8888888888888888,\"#fdca26\"],[1.0,\"#f0f921\"]]}],\"heatmapgl\":[{\"type\":\"heatmapgl\",\"colorbar\":{\"outlinewidth\":0,\"ticks\":\"\"},\"colorscale\":[[0.0,\"#0d0887\"],[0.1111111111111111,\"#46039f\"],[0.2222222222222222,\"#7201a8\"],[0.3333333333333333,\"#9c179e\"],[0.4444444444444444,\"#bd3786\"],[0.5555555555555556,\"#d8576b\"],[0.6666666666666666,\"#ed7953\"],[0.7777777777777778,\"#fb9f3a\"],[0.8888888888888888,\"#fdca26\"],[1.0,\"#f0f921\"]]}],\"contourcarpet\":[{\"type\":\"contourcarpet\",\"colorbar\":{\"outlinewidth\":0,\"ticks\":\"\"}}],\"contour\":[{\"type\":\"contour\",\"colorbar\":{\"outlinewidth\":0,\"ticks\":\"\"},\"colorscale\":[[0.0,\"#0d0887\"],[0.1111111111111111,\"#46039f\"],[0.2222222222222222,\"#7201a8\"],[0.3333333333333333,\"#9c179e\"],[0.4444444444444444,\"#bd3786\"],[0.5555555555555556,\"#d8576b\"],[0.6666666666666666,\"#ed7953\"],[0.7777777777777778,\"#fb9f3a\"],[0.8888888888888888,\"#fdca26\"],[1.0,\"#f0f921\"]]}],\"surface\":[{\"type\":\"surface\",\"colorbar\":{\"outlinewidth\":0,\"ticks\":\"\"},\"colorscale\":[[0.0,\"#0d0887\"],[0.1111111111111111,\"#46039f\"],[0.2222222222222222,\"#7201a8\"],[0.3333333333333333,\"#9c179e\"],[0.4444444444444444,\"#bd3786\"],[0.5555555555555556,\"#d8576b\"],[0.6666666666666666,\"#ed7953\"],[0.7777777777777778,\"#fb9f3a\"],[0.8888888888888888,\"#fdca26\"],[1.0,\"#f0f921\"]]}],\"mesh3d\":[{\"type\":\"mesh3d\",\"colorbar\":{\"outlinewidth\":0,\"ticks\":\"\"}}],\"scatter\":[{\"fillpattern\":{\"fillmode\":\"overlay\",\"size\":10,\"solidity\":0.2},\"type\":\"scatter\"}],\"parcoords\":[{\"type\":\"parcoords\",\"line\":{\"colorbar\":{\"outlinewidth\":0,\"ticks\":\"\"}}}],\"scatterpolargl\":[{\"type\":\"scatterpolargl\",\"marker\":{\"colorbar\":{\"outlinewidth\":0,\"ticks\":\"\"}}}],\"bar\":[{\"error_x\":{\"color\":\"#2a3f5f\"},\"error_y\":{\"color\":\"#2a3f5f\"},\"marker\":{\"line\":{\"color\":\"#E5ECF6\",\"width\":0.5},\"pattern\":{\"fillmode\":\"overlay\",\"size\":10,\"solidity\":0.2}},\"type\":\"bar\"}],\"scattergeo\":[{\"type\":\"scattergeo\",\"marker\":{\"colorbar\":{\"outlinewidth\":0,\"ticks\":\"\"}}}],\"scatterpolar\":[{\"type\":\"scatterpolar\",\"marker\":{\"colorbar\":{\"outlinewidth\":0,\"ticks\":\"\"}}}],\"histogram\":[{\"marker\":{\"pattern\":{\"fillmode\":\"overlay\",\"size\":10,\"solidity\":0.2}},\"type\":\"histogram\"}],\"scattergl\":[{\"type\":\"scattergl\",\"marker\":{\"colorbar\":{\"outlinewidth\":0,\"ticks\":\"\"}}}],\"scatter3d\":[{\"type\":\"scatter3d\",\"line\":{\"colorbar\":{\"outlinewidth\":0,\"ticks\":\"\"}},\"marker\":{\"colorbar\":{\"outlinewidth\":0,\"ticks\":\"\"}}}],\"scattermapbox\":[{\"type\":\"scattermapbox\",\"marker\":{\"colorbar\":{\"outlinewidth\":0,\"ticks\":\"\"}}}],\"scatterternary\":[{\"type\":\"scatterternary\",\"marker\":{\"colorbar\":{\"outlinewidth\":0,\"ticks\":\"\"}}}],\"scattercarpet\":[{\"type\":\"scattercarpet\",\"marker\":{\"colorbar\":{\"outlinewidth\":0,\"ticks\":\"\"}}}],\"carpet\":[{\"aaxis\":{\"endlinecolor\":\"#2a3f5f\",\"gridcolor\":\"white\",\"linecolor\":\"white\",\"minorgridcolor\":\"white\",\"startlinecolor\":\"#2a3f5f\"},\"baxis\":{\"endlinecolor\":\"#2a3f5f\",\"gridcolor\":\"white\",\"linecolor\":\"white\",\"minorgridcolor\":\"white\",\"startlinecolor\":\"#2a3f5f\"},\"type\":\"carpet\"}],\"table\":[{\"cells\":{\"fill\":{\"color\":\"#EBF0F8\"},\"line\":{\"color\":\"white\"}},\"header\":{\"fill\":{\"color\":\"#C8D4E3\"},\"line\":{\"color\":\"white\"}},\"type\":\"table\"}],\"barpolar\":[{\"marker\":{\"line\":{\"color\":\"#E5ECF6\",\"width\":0.5},\"pattern\":{\"fillmode\":\"overlay\",\"size\":10,\"solidity\":0.2}},\"type\":\"barpolar\"}],\"pie\":[{\"automargin\":true,\"type\":\"pie\"}]},\"layout\":{\"autotypenumbers\":\"strict\",\"colorway\":[\"#636efa\",\"#EF553B\",\"#00cc96\",\"#ab63fa\",\"#FFA15A\",\"#19d3f3\",\"#FF6692\",\"#B6E880\",\"#FF97FF\",\"#FECB52\"],\"font\":{\"color\":\"#2a3f5f\"},\"hovermode\":\"closest\",\"hoverlabel\":{\"align\":\"left\"},\"paper_bgcolor\":\"white\",\"plot_bgcolor\":\"#E5ECF6\",\"polar\":{\"bgcolor\":\"#E5ECF6\",\"angularaxis\":{\"gridcolor\":\"white\",\"linecolor\":\"white\",\"ticks\":\"\"},\"radialaxis\":{\"gridcolor\":\"white\",\"linecolor\":\"white\",\"ticks\":\"\"}},\"ternary\":{\"bgcolor\":\"#E5ECF6\",\"aaxis\":{\"gridcolor\":\"white\",\"linecolor\":\"white\",\"ticks\":\"\"},\"baxis\":{\"gridcolor\":\"white\",\"linecolor\":\"white\",\"ticks\":\"\"},\"caxis\":{\"gridcolor\":\"white\",\"linecolor\":\"white\",\"ticks\":\"\"}},\"coloraxis\":{\"colorbar\":{\"outlinewidth\":0,\"ticks\":\"\"}},\"colorscale\":{\"sequential\":[[0.0,\"#0d0887\"],[0.1111111111111111,\"#46039f\"],[0.2222222222222222,\"#7201a8\"],[0.3333333333333333,\"#9c179e\"],[0.4444444444444444,\"#bd3786\"],[0.5555555555555556,\"#d8576b\"],[0.6666666666666666,\"#ed7953\"],[0.7777777777777778,\"#fb9f3a\"],[0.8888888888888888,\"#fdca26\"],[1.0,\"#f0f921\"]],\"sequentialminus\":[[0.0,\"#0d0887\"],[0.1111111111111111,\"#46039f\"],[0.2222222222222222,\"#7201a8\"],[0.3333333333333333,\"#9c179e\"],[0.4444444444444444,\"#bd3786\"],[0.5555555555555556,\"#d8576b\"],[0.6666666666666666,\"#ed7953\"],[0.7777777777777778,\"#fb9f3a\"],[0.8888888888888888,\"#fdca26\"],[1.0,\"#f0f921\"]],\"diverging\":[[0,\"#8e0152\"],[0.1,\"#c51b7d\"],[0.2,\"#de77ae\"],[0.3,\"#f1b6da\"],[0.4,\"#fde0ef\"],[0.5,\"#f7f7f7\"],[0.6,\"#e6f5d0\"],[0.7,\"#b8e186\"],[0.8,\"#7fbc41\"],[0.9,\"#4d9221\"],[1,\"#276419\"]]},\"xaxis\":{\"gridcolor\":\"white\",\"linecolor\":\"white\",\"ticks\":\"\",\"title\":{\"standoff\":15},\"zerolinecolor\":\"white\",\"automargin\":true,\"zerolinewidth\":2},\"yaxis\":{\"gridcolor\":\"white\",\"linecolor\":\"white\",\"ticks\":\"\",\"title\":{\"standoff\":15},\"zerolinecolor\":\"white\",\"automargin\":true,\"zerolinewidth\":2},\"scene\":{\"xaxis\":{\"backgroundcolor\":\"#E5ECF6\",\"gridcolor\":\"white\",\"linecolor\":\"white\",\"showbackground\":true,\"ticks\":\"\",\"zerolinecolor\":\"white\",\"gridwidth\":2},\"yaxis\":{\"backgroundcolor\":\"#E5ECF6\",\"gridcolor\":\"white\",\"linecolor\":\"white\",\"showbackground\":true,\"ticks\":\"\",\"zerolinecolor\":\"white\",\"gridwidth\":2},\"zaxis\":{\"backgroundcolor\":\"#E5ECF6\",\"gridcolor\":\"white\",\"linecolor\":\"white\",\"showbackground\":true,\"ticks\":\"\",\"zerolinecolor\":\"white\",\"gridwidth\":2}},\"shapedefaults\":{\"line\":{\"color\":\"#2a3f5f\"}},\"annotationdefaults\":{\"arrowcolor\":\"#2a3f5f\",\"arrowhead\":0,\"arrowwidth\":1},\"geo\":{\"bgcolor\":\"white\",\"landcolor\":\"#E5ECF6\",\"subunitcolor\":\"white\",\"showland\":true,\"showlakes\":true,\"lakecolor\":\"white\"},\"title\":{\"x\":0.05},\"mapbox\":{\"style\":\"light\"}}},\"legend\":{\"tracegroupgap\":0},\"margin\":{\"t\":40,\"l\":25,\"r\":25,\"b\":25},\"treemapcolorway\":[\"rgb(102, 197, 204)\",\"rgb(246, 207, 113)\",\"rgb(248, 156, 116)\",\"rgb(220, 176, 242)\",\"rgb(135, 197, 95)\",\"rgb(158, 185, 243)\",\"rgb(254, 136, 177)\",\"rgb(201, 219, 116)\",\"rgb(139, 224, 164)\",\"rgb(180, 151, 231)\",\"rgb(179, 179, 179)\"],\"title\":{\"text\":\"INICIATIVAS INTEGRADORAS - ACTIVIDADES USAID\",\"font\":{\"color\":\"red\",\"family\":\"Arial\",\"size\":15}},\"width\":1100,\"height\":600},                        {\"responsive\": true}                    ).then(function(){\n",
              "                            \n",
              "var gd = document.getElementById('da766d20-486b-48fc-ac70-c565f911b4f1');\n",
              "var x = new MutationObserver(function (mutations, observer) {{\n",
              "        var display = window.getComputedStyle(gd).display;\n",
              "        if (!display || display === 'none') {{\n",
              "            console.log([gd, 'removed!']);\n",
              "            Plotly.purge(gd);\n",
              "            observer.disconnect();\n",
              "        }}\n",
              "}});\n",
              "\n",
              "// Listen for the removal of the full notebook cells\n",
              "var notebookContainer = gd.closest('#notebook-container');\n",
              "if (notebookContainer) {{\n",
              "    x.observe(notebookContainer, {childList: true});\n",
              "}}\n",
              "\n",
              "// Listen for the clearing of the current output cell\n",
              "var outputEl = gd.closest('.output');\n",
              "if (outputEl) {{\n",
              "    x.observe(outputEl, {childList: true});\n",
              "}}\n",
              "\n",
              "                        })                };                            </script>        </div>\n",
              "</body>\n",
              "</html>"
            ]
          },
          "metadata": {}
        }
      ]
    },
    {
      "cell_type": "markdown",
      "source": [
        "# **ALIADOS EN INICIATIVAS INTEGRADORAS**"
      ],
      "metadata": {
        "id": "dih2OAJAVz6L"
      }
    },
    {
      "cell_type": "code",
      "source": [
        "spreadsheet = gc.open('Tablas de Base de Datos RIS_1_07_2024')\n",
        "worksheet = spreadsheet.worksheet('INIC_ALIADOS')\n",
        "\n",
        "# Retrieve all values from the worksheet\n",
        "data_3 = worksheet.get_all_values()\n",
        "\n",
        "# Extract column titles from the first row\n",
        "column_titles_3 = data_3[0]\n",
        "\n",
        "# Extract data rows excluding the first row\n",
        "data_rows_3 = data_3[1:]\n",
        "\n",
        "# Create DataFrame with column titles\n",
        "data_frame_3 = spark.createDataFrame(data_rows_3, column_titles_3)\n",
        "\n",
        "data_frame_3.createOrReplaceTempView(\"ALIADOS\")\n",
        "\n",
        "# Show DataFrame\n",
        "data_frame_3.show()"
      ],
      "metadata": {
        "colab": {
          "base_uri": "https://localhost:8080/"
        },
        "id": "il5qTiMe8B7C",
        "outputId": "a69f77b7-3d10-4b63-8563-9deeb7a1ad4c"
      },
      "execution_count": null,
      "outputs": [
        {
          "output_type": "stream",
          "name": "stdout",
          "text": [
            "+-------------+--------------------+--------------+--------------------+\n",
            "|ID_INICIATIVA|        TIPO_ALIADOS|NUMERO_ALIADOS|      NOMBRE_ALIADOS|\n",
            "+-------------+--------------------+--------------+--------------------+\n",
            "|      BCN_IN1|   Gobierno nacional|             0|Agencia de Renova...|\n",
            "|      BCN_IN1|   Gobiernos Locales|             1|      Alcaldía Anorí|\n",
            "|      BCN_IN1|     Empresa privada|             3|COMFAMA, AGROSAVI...|\n",
            "|      BCN_IN1|     Empresa privada|             1|Corporación Gilbe...|\n",
            "|      BCN_IN1|Gobierno departam...|             1|Gobernación de An...|\n",
            "|      BCN_IN1|   Gobierno nacional|             0|                SENA|\n",
            "|      BCN_IN1|            Academia|             1|Universidad de An...|\n",
            "|      BCN_IN2|   Gobiernos Locales|             3|Alcaldías Valdivi...|\n",
            "|      BCN_IN2|   Gobierno nacional|             1|      Banco Agrario |\n",
            "|      BCN_IN2|     Empresa privada|             1|Cooperativa Finan...|\n",
            "|      BCN_IN3|   Gobiernos Locales|             6|Alcaldías de Bajo...|\n",
            "|      BCN_IN3|   Gobierno nacional|             1|                 ART|\n",
            "|      BCN_IN3|             Otro/as|             1|     Instituto Kroc |\n",
            "|      BCN_IN3|Espacios de parti...|             2|Redes de Consejer...|\n",
            "|      BCN_IN4|   Gobiernos Locales|             0|Alcaldías municip...|\n",
            "|      BCN_IN4|   Gobierno nacional|             0|                 ART|\n",
            "|      BCN_IN4|Gobierno departam...|             1|   Gerencia Indígena|\n",
            "|      BCN_IN4|Gobierno departam...|             1|Gobernación de An...|\n",
            "|      BCN_IN4|Autoridades Étnic...|             1|OIA Organización ...|\n",
            "|      BCN_IN4|            Academia|             1|        UNIREMINGTON|\n",
            "+-------------+--------------------+--------------+--------------------+\n",
            "only showing top 20 rows\n",
            "\n"
          ]
        }
      ]
    },
    {
      "cell_type": "code",
      "source": [
        "# Write and execute the SQL query to count occurrences of each unique value\n",
        "result = spark.sql(\"SELECT TIPO_ALIADOS, COUNT(*) AS count FROM ALIADOS GROUP BY TIPO_ALIADOS\")\n",
        "\n",
        "# Show the result\n",
        "result.show()\n"
      ],
      "metadata": {
        "colab": {
          "base_uri": "https://localhost:8080/"
        },
        "id": "lXSROhn3N5mY",
        "outputId": "ddbb31b2-7ac3-40c4-cd68-0369e1a3c647"
      },
      "execution_count": null,
      "outputs": [
        {
          "output_type": "stream",
          "name": "stdout",
          "text": [
            "+--------------------+-----+\n",
            "|        TIPO_ALIADOS|count|\n",
            "+--------------------+-----+\n",
            "|   Gobierno nacional|   27|\n",
            "|             Otro/as|    4|\n",
            "|Autoridades Étnic...|   12|\n",
            "|     Empresa privada|   19|\n",
            "|Esquema asociativ...|    4|\n",
            "|Organizaciones de...|    6|\n",
            "|Cooperación inter...|    8|\n",
            "|Organizaciones so...|   15|\n",
            "|            Academia|   14|\n",
            "|Espacios de parti...|    5|\n",
            "|   Gobiernos Locales|   41|\n",
            "|Gobierno departam...|   13|\n",
            "|  Ministerio Público|    6|\n",
            "+--------------------+-----+\n",
            "\n"
          ]
        }
      ]
    },
    {
      "cell_type": "code",
      "source": [
        "from pyspark.sql import SparkSession\n",
        "from pyspark.sql.functions import sum as spark_sum\n",
        "\n",
        "# Group by 'category' and sum the 'value' column\n",
        "grouped_sum_df = data_frame_3.groupBy(\"iD_INICIATIVA\").agg(spark_sum(\"NUMERO_ALIADOS\").alias(\"sum_aliados\"))\n",
        "\n",
        "# Show the result\n",
        "grouped_sum_df.show()"
      ],
      "metadata": {
        "colab": {
          "base_uri": "https://localhost:8080/"
        },
        "id": "bN5pRDsgOK8y",
        "outputId": "0aa370bf-2702-460c-dfc1-a265e9e878c7"
      },
      "execution_count": null,
      "outputs": [
        {
          "output_type": "stream",
          "name": "stdout",
          "text": [
            "+-------------+-----------+\n",
            "|iD_INICIATIVA|sum_aliados|\n",
            "+-------------+-----------+\n",
            "|      BCN_IN3|       10.0|\n",
            "|      CQT_IN4|        1.0|\n",
            "|      PCF_IN1|       27.0|\n",
            "|      CQT_IN5|        5.0|\n",
            "|      CQT_IN3|        6.0|\n",
            "|      CQT_IN7|        1.0|\n",
            "|      BOG_IN4|        0.0|\n",
            "|      CQT_IN1|        4.0|\n",
            "|      BCN_IN5|        6.0|\n",
            "|      CQT_IN9|        7.0|\n",
            "|      BCN_IN4|        4.0|\n",
            "|      CAT_IN4|       11.0|\n",
            "|      CAT_IN1|        6.0|\n",
            "|      BCN_IN2|        5.0|\n",
            "|      CQT_IN6|       32.0|\n",
            "|      BCN_IN1|        7.0|\n",
            "|      CQT_IN8|        1.0|\n",
            "|      BOG_IN2|        6.0|\n",
            "|      CAT_IN3|        5.0|\n",
            "|      CQT_IN2|        2.0|\n",
            "+-------------+-----------+\n",
            "only showing top 20 rows\n",
            "\n"
          ]
        }
      ]
    },
    {
      "cell_type": "code",
      "source": [],
      "metadata": {
        "id": "acW4-iCbPEzO"
      },
      "execution_count": null,
      "outputs": []
    },
    {
      "cell_type": "code",
      "source": [
        "from pyspark.sql import SparkSession\n",
        "from pyspark.sql.functions import sum as spark_sum\n",
        "\n",
        "# Group by 'category' and sum the 'value' column\n",
        "grouped_sum_df4 = data_frame_3.groupBy(\"TIPO_ALIADOS\").agg(spark_sum(\"NUMERO_ALIADOS\").alias(\"sum_tipo_aliados\"))\n",
        "\n",
        "# Show the result\n",
        "grouped_sum_df4.show()"
      ],
      "metadata": {
        "colab": {
          "base_uri": "https://localhost:8080/"
        },
        "id": "yBFKi6B1OhEj",
        "outputId": "1708e4f3-4e58-4234-e3ff-334774962971"
      },
      "execution_count": null,
      "outputs": [
        {
          "output_type": "stream",
          "name": "stdout",
          "text": [
            "+--------------------+----------------+\n",
            "|        TIPO_ALIADOS|sum_tipo_aliados|\n",
            "+--------------------+----------------+\n",
            "|   Gobierno nacional|            19.0|\n",
            "|             Otro/as|             3.0|\n",
            "|Autoridades Étnic...|            11.0|\n",
            "|     Empresa privada|            33.0|\n",
            "|Esquema asociativ...|             6.0|\n",
            "|Organizaciones de...|            14.0|\n",
            "|Cooperación inter...|             7.0|\n",
            "|Organizaciones so...|            24.0|\n",
            "|            Academia|            11.0|\n",
            "|Espacios de parti...|            21.0|\n",
            "|   Gobiernos Locales|           104.0|\n",
            "|Gobierno departam...|            10.0|\n",
            "|  Ministerio Público|            28.0|\n",
            "+--------------------+----------------+\n",
            "\n"
          ]
        }
      ]
    },
    {
      "cell_type": "code",
      "source": [
        "import pandas as pd\n",
        "from google.colab import files\n",
        "\n",
        "# Convert PySpark DataFrame to Pandas DataFrame\n",
        "grouped_sum_pd_df4 = grouped_sum_df4.toPandas()\n",
        "\n",
        "# Sort the DataFrame by 'UniqueID_INICIATIVAS' in descending order\n",
        "grouped_sum_pd_df4_sorted = grouped_sum_pd_df4.sort_values(by='sum_tipo_aliados', ascending=False)\n",
        "\n",
        "\n",
        "# Create the bar plot\n",
        "fig = px.bar(grouped_sum_pd_df4_sorted, x='TIPO_ALIADOS', y='sum_tipo_aliados', title='TIPO DE ALIADOS EN INICIATIVAS')\n",
        "\n",
        "# Customize the plot\n",
        "fig.update_layout(\n",
        "    xaxis_title='TIPO DE ALIADO',\n",
        "    yaxis_title='NÚMERO',\n",
        "    title={\n",
        "        'text': 'TIPO DE ALIADOS EN INICIATIVAS INTEGRADORAS',\n",
        "        'y':0.9,\n",
        "        'x':0.5,\n",
        "        'xanchor': 'center',\n",
        "        'yanchor': 'top'\n",
        "    },\n",
        "    font=dict(\n",
        "        family=\"Arial\",\n",
        "        size=15,\n",
        "        color=\"black\"\n",
        "    )\n",
        ")\n",
        "\n",
        "# Update the text position to be inside the bars\n",
        "fig.update_traces(texttemplate='%{y}', textposition='inside')\n",
        "\n",
        "# Show the plot\n",
        "fig.show()"
      ],
      "metadata": {
        "colab": {
          "base_uri": "https://localhost:8080/",
          "height": 542
        },
        "id": "yZtE9xvaPPHF",
        "outputId": "851a8aca-8127-471d-9373-92ac551179a5"
      },
      "execution_count": null,
      "outputs": [
        {
          "output_type": "display_data",
          "data": {
            "text/html": [
              "<html>\n",
              "<head><meta charset=\"utf-8\" /></head>\n",
              "<body>\n",
              "    <div>            <script src=\"https://cdnjs.cloudflare.com/ajax/libs/mathjax/2.7.5/MathJax.js?config=TeX-AMS-MML_SVG\"></script><script type=\"text/javascript\">if (window.MathJax && window.MathJax.Hub && window.MathJax.Hub.Config) {window.MathJax.Hub.Config({SVG: {font: \"STIX-Web\"}});}</script>                <script type=\"text/javascript\">window.PlotlyConfig = {MathJaxConfig: 'local'};</script>\n",
              "        <script charset=\"utf-8\" src=\"https://cdn.plot.ly/plotly-2.24.1.min.js\"></script>                <div id=\"acc30430-315b-4e3a-801b-93d2d43bb174\" class=\"plotly-graph-div\" style=\"height:525px; width:100%;\"></div>            <script type=\"text/javascript\">                                    window.PLOTLYENV=window.PLOTLYENV || {};                                    if (document.getElementById(\"acc30430-315b-4e3a-801b-93d2d43bb174\")) {                    Plotly.newPlot(                        \"acc30430-315b-4e3a-801b-93d2d43bb174\",                        [{\"alignmentgroup\":\"True\",\"hovertemplate\":\"TIPO_ALIADOS=%{x}\\u003cbr\\u003esum_tipo_aliados=%{y}\\u003cextra\\u003e\\u003c\\u002fextra\\u003e\",\"legendgroup\":\"\",\"marker\":{\"color\":\"#636efa\",\"pattern\":{\"shape\":\"\"}},\"name\":\"\",\"offsetgroup\":\"\",\"orientation\":\"v\",\"showlegend\":false,\"textposition\":\"inside\",\"x\":[\"Gobiernos Locales\",\"Empresa privada\",\"Ministerio P\\u00fablico\",\"Organizaciones sociales\",\"Espacios de participaci\\u00f3n comunitaria\",\"Gobierno nacional\",\"Organizaciones de productores\",\"Autoridades \\u00c9tnico Territoriales\",\"Academia\",\"Gobierno departamental\",\"Cooperaci\\u00f3n internacional\",\"Esquema asociativo territorial\",\"Otro\\u002fas\"],\"xaxis\":\"x\",\"y\":[104.0,33.0,28.0,24.0,21.0,19.0,14.0,11.0,11.0,10.0,7.0,6.0,3.0],\"yaxis\":\"y\",\"type\":\"bar\",\"texttemplate\":\"%{y}\"}],                        {\"template\":{\"data\":{\"histogram2dcontour\":[{\"type\":\"histogram2dcontour\",\"colorbar\":{\"outlinewidth\":0,\"ticks\":\"\"},\"colorscale\":[[0.0,\"#0d0887\"],[0.1111111111111111,\"#46039f\"],[0.2222222222222222,\"#7201a8\"],[0.3333333333333333,\"#9c179e\"],[0.4444444444444444,\"#bd3786\"],[0.5555555555555556,\"#d8576b\"],[0.6666666666666666,\"#ed7953\"],[0.7777777777777778,\"#fb9f3a\"],[0.8888888888888888,\"#fdca26\"],[1.0,\"#f0f921\"]]}],\"choropleth\":[{\"type\":\"choropleth\",\"colorbar\":{\"outlinewidth\":0,\"ticks\":\"\"}}],\"histogram2d\":[{\"type\":\"histogram2d\",\"colorbar\":{\"outlinewidth\":0,\"ticks\":\"\"},\"colorscale\":[[0.0,\"#0d0887\"],[0.1111111111111111,\"#46039f\"],[0.2222222222222222,\"#7201a8\"],[0.3333333333333333,\"#9c179e\"],[0.4444444444444444,\"#bd3786\"],[0.5555555555555556,\"#d8576b\"],[0.6666666666666666,\"#ed7953\"],[0.7777777777777778,\"#fb9f3a\"],[0.8888888888888888,\"#fdca26\"],[1.0,\"#f0f921\"]]}],\"heatmap\":[{\"type\":\"heatmap\",\"colorbar\":{\"outlinewidth\":0,\"ticks\":\"\"},\"colorscale\":[[0.0,\"#0d0887\"],[0.1111111111111111,\"#46039f\"],[0.2222222222222222,\"#7201a8\"],[0.3333333333333333,\"#9c179e\"],[0.4444444444444444,\"#bd3786\"],[0.5555555555555556,\"#d8576b\"],[0.6666666666666666,\"#ed7953\"],[0.7777777777777778,\"#fb9f3a\"],[0.8888888888888888,\"#fdca26\"],[1.0,\"#f0f921\"]]}],\"heatmapgl\":[{\"type\":\"heatmapgl\",\"colorbar\":{\"outlinewidth\":0,\"ticks\":\"\"},\"colorscale\":[[0.0,\"#0d0887\"],[0.1111111111111111,\"#46039f\"],[0.2222222222222222,\"#7201a8\"],[0.3333333333333333,\"#9c179e\"],[0.4444444444444444,\"#bd3786\"],[0.5555555555555556,\"#d8576b\"],[0.6666666666666666,\"#ed7953\"],[0.7777777777777778,\"#fb9f3a\"],[0.8888888888888888,\"#fdca26\"],[1.0,\"#f0f921\"]]}],\"contourcarpet\":[{\"type\":\"contourcarpet\",\"colorbar\":{\"outlinewidth\":0,\"ticks\":\"\"}}],\"contour\":[{\"type\":\"contour\",\"colorbar\":{\"outlinewidth\":0,\"ticks\":\"\"},\"colorscale\":[[0.0,\"#0d0887\"],[0.1111111111111111,\"#46039f\"],[0.2222222222222222,\"#7201a8\"],[0.3333333333333333,\"#9c179e\"],[0.4444444444444444,\"#bd3786\"],[0.5555555555555556,\"#d8576b\"],[0.6666666666666666,\"#ed7953\"],[0.7777777777777778,\"#fb9f3a\"],[0.8888888888888888,\"#fdca26\"],[1.0,\"#f0f921\"]]}],\"surface\":[{\"type\":\"surface\",\"colorbar\":{\"outlinewidth\":0,\"ticks\":\"\"},\"colorscale\":[[0.0,\"#0d0887\"],[0.1111111111111111,\"#46039f\"],[0.2222222222222222,\"#7201a8\"],[0.3333333333333333,\"#9c179e\"],[0.4444444444444444,\"#bd3786\"],[0.5555555555555556,\"#d8576b\"],[0.6666666666666666,\"#ed7953\"],[0.7777777777777778,\"#fb9f3a\"],[0.8888888888888888,\"#fdca26\"],[1.0,\"#f0f921\"]]}],\"mesh3d\":[{\"type\":\"mesh3d\",\"colorbar\":{\"outlinewidth\":0,\"ticks\":\"\"}}],\"scatter\":[{\"fillpattern\":{\"fillmode\":\"overlay\",\"size\":10,\"solidity\":0.2},\"type\":\"scatter\"}],\"parcoords\":[{\"type\":\"parcoords\",\"line\":{\"colorbar\":{\"outlinewidth\":0,\"ticks\":\"\"}}}],\"scatterpolargl\":[{\"type\":\"scatterpolargl\",\"marker\":{\"colorbar\":{\"outlinewidth\":0,\"ticks\":\"\"}}}],\"bar\":[{\"error_x\":{\"color\":\"#2a3f5f\"},\"error_y\":{\"color\":\"#2a3f5f\"},\"marker\":{\"line\":{\"color\":\"#E5ECF6\",\"width\":0.5},\"pattern\":{\"fillmode\":\"overlay\",\"size\":10,\"solidity\":0.2}},\"type\":\"bar\"}],\"scattergeo\":[{\"type\":\"scattergeo\",\"marker\":{\"colorbar\":{\"outlinewidth\":0,\"ticks\":\"\"}}}],\"scatterpolar\":[{\"type\":\"scatterpolar\",\"marker\":{\"colorbar\":{\"outlinewidth\":0,\"ticks\":\"\"}}}],\"histogram\":[{\"marker\":{\"pattern\":{\"fillmode\":\"overlay\",\"size\":10,\"solidity\":0.2}},\"type\":\"histogram\"}],\"scattergl\":[{\"type\":\"scattergl\",\"marker\":{\"colorbar\":{\"outlinewidth\":0,\"ticks\":\"\"}}}],\"scatter3d\":[{\"type\":\"scatter3d\",\"line\":{\"colorbar\":{\"outlinewidth\":0,\"ticks\":\"\"}},\"marker\":{\"colorbar\":{\"outlinewidth\":0,\"ticks\":\"\"}}}],\"scattermapbox\":[{\"type\":\"scattermapbox\",\"marker\":{\"colorbar\":{\"outlinewidth\":0,\"ticks\":\"\"}}}],\"scatterternary\":[{\"type\":\"scatterternary\",\"marker\":{\"colorbar\":{\"outlinewidth\":0,\"ticks\":\"\"}}}],\"scattercarpet\":[{\"type\":\"scattercarpet\",\"marker\":{\"colorbar\":{\"outlinewidth\":0,\"ticks\":\"\"}}}],\"carpet\":[{\"aaxis\":{\"endlinecolor\":\"#2a3f5f\",\"gridcolor\":\"white\",\"linecolor\":\"white\",\"minorgridcolor\":\"white\",\"startlinecolor\":\"#2a3f5f\"},\"baxis\":{\"endlinecolor\":\"#2a3f5f\",\"gridcolor\":\"white\",\"linecolor\":\"white\",\"minorgridcolor\":\"white\",\"startlinecolor\":\"#2a3f5f\"},\"type\":\"carpet\"}],\"table\":[{\"cells\":{\"fill\":{\"color\":\"#EBF0F8\"},\"line\":{\"color\":\"white\"}},\"header\":{\"fill\":{\"color\":\"#C8D4E3\"},\"line\":{\"color\":\"white\"}},\"type\":\"table\"}],\"barpolar\":[{\"marker\":{\"line\":{\"color\":\"#E5ECF6\",\"width\":0.5},\"pattern\":{\"fillmode\":\"overlay\",\"size\":10,\"solidity\":0.2}},\"type\":\"barpolar\"}],\"pie\":[{\"automargin\":true,\"type\":\"pie\"}]},\"layout\":{\"autotypenumbers\":\"strict\",\"colorway\":[\"#636efa\",\"#EF553B\",\"#00cc96\",\"#ab63fa\",\"#FFA15A\",\"#19d3f3\",\"#FF6692\",\"#B6E880\",\"#FF97FF\",\"#FECB52\"],\"font\":{\"color\":\"#2a3f5f\"},\"hovermode\":\"closest\",\"hoverlabel\":{\"align\":\"left\"},\"paper_bgcolor\":\"white\",\"plot_bgcolor\":\"#E5ECF6\",\"polar\":{\"bgcolor\":\"#E5ECF6\",\"angularaxis\":{\"gridcolor\":\"white\",\"linecolor\":\"white\",\"ticks\":\"\"},\"radialaxis\":{\"gridcolor\":\"white\",\"linecolor\":\"white\",\"ticks\":\"\"}},\"ternary\":{\"bgcolor\":\"#E5ECF6\",\"aaxis\":{\"gridcolor\":\"white\",\"linecolor\":\"white\",\"ticks\":\"\"},\"baxis\":{\"gridcolor\":\"white\",\"linecolor\":\"white\",\"ticks\":\"\"},\"caxis\":{\"gridcolor\":\"white\",\"linecolor\":\"white\",\"ticks\":\"\"}},\"coloraxis\":{\"colorbar\":{\"outlinewidth\":0,\"ticks\":\"\"}},\"colorscale\":{\"sequential\":[[0.0,\"#0d0887\"],[0.1111111111111111,\"#46039f\"],[0.2222222222222222,\"#7201a8\"],[0.3333333333333333,\"#9c179e\"],[0.4444444444444444,\"#bd3786\"],[0.5555555555555556,\"#d8576b\"],[0.6666666666666666,\"#ed7953\"],[0.7777777777777778,\"#fb9f3a\"],[0.8888888888888888,\"#fdca26\"],[1.0,\"#f0f921\"]],\"sequentialminus\":[[0.0,\"#0d0887\"],[0.1111111111111111,\"#46039f\"],[0.2222222222222222,\"#7201a8\"],[0.3333333333333333,\"#9c179e\"],[0.4444444444444444,\"#bd3786\"],[0.5555555555555556,\"#d8576b\"],[0.6666666666666666,\"#ed7953\"],[0.7777777777777778,\"#fb9f3a\"],[0.8888888888888888,\"#fdca26\"],[1.0,\"#f0f921\"]],\"diverging\":[[0,\"#8e0152\"],[0.1,\"#c51b7d\"],[0.2,\"#de77ae\"],[0.3,\"#f1b6da\"],[0.4,\"#fde0ef\"],[0.5,\"#f7f7f7\"],[0.6,\"#e6f5d0\"],[0.7,\"#b8e186\"],[0.8,\"#7fbc41\"],[0.9,\"#4d9221\"],[1,\"#276419\"]]},\"xaxis\":{\"gridcolor\":\"white\",\"linecolor\":\"white\",\"ticks\":\"\",\"title\":{\"standoff\":15},\"zerolinecolor\":\"white\",\"automargin\":true,\"zerolinewidth\":2},\"yaxis\":{\"gridcolor\":\"white\",\"linecolor\":\"white\",\"ticks\":\"\",\"title\":{\"standoff\":15},\"zerolinecolor\":\"white\",\"automargin\":true,\"zerolinewidth\":2},\"scene\":{\"xaxis\":{\"backgroundcolor\":\"#E5ECF6\",\"gridcolor\":\"white\",\"linecolor\":\"white\",\"showbackground\":true,\"ticks\":\"\",\"zerolinecolor\":\"white\",\"gridwidth\":2},\"yaxis\":{\"backgroundcolor\":\"#E5ECF6\",\"gridcolor\":\"white\",\"linecolor\":\"white\",\"showbackground\":true,\"ticks\":\"\",\"zerolinecolor\":\"white\",\"gridwidth\":2},\"zaxis\":{\"backgroundcolor\":\"#E5ECF6\",\"gridcolor\":\"white\",\"linecolor\":\"white\",\"showbackground\":true,\"ticks\":\"\",\"zerolinecolor\":\"white\",\"gridwidth\":2}},\"shapedefaults\":{\"line\":{\"color\":\"#2a3f5f\"}},\"annotationdefaults\":{\"arrowcolor\":\"#2a3f5f\",\"arrowhead\":0,\"arrowwidth\":1},\"geo\":{\"bgcolor\":\"white\",\"landcolor\":\"#E5ECF6\",\"subunitcolor\":\"white\",\"showland\":true,\"showlakes\":true,\"lakecolor\":\"white\"},\"title\":{\"x\":0.05},\"mapbox\":{\"style\":\"light\"}}},\"xaxis\":{\"anchor\":\"y\",\"domain\":[0.0,1.0],\"title\":{\"text\":\"TIPO DE ALIADO\"}},\"yaxis\":{\"anchor\":\"x\",\"domain\":[0.0,1.0],\"title\":{\"text\":\"N\\u00daMERO\"}},\"legend\":{\"tracegroupgap\":0},\"title\":{\"text\":\"TIPO DE ALIADOS EN INICIATIVAS INTEGRADORAS\",\"y\":0.9,\"x\":0.5,\"xanchor\":\"center\",\"yanchor\":\"top\"},\"barmode\":\"relative\",\"font\":{\"family\":\"Arial\",\"size\":15,\"color\":\"black\"}},                        {\"responsive\": true}                    ).then(function(){\n",
              "                            \n",
              "var gd = document.getElementById('acc30430-315b-4e3a-801b-93d2d43bb174');\n",
              "var x = new MutationObserver(function (mutations, observer) {{\n",
              "        var display = window.getComputedStyle(gd).display;\n",
              "        if (!display || display === 'none') {{\n",
              "            console.log([gd, 'removed!']);\n",
              "            Plotly.purge(gd);\n",
              "            observer.disconnect();\n",
              "        }}\n",
              "}});\n",
              "\n",
              "// Listen for the removal of the full notebook cells\n",
              "var notebookContainer = gd.closest('#notebook-container');\n",
              "if (notebookContainer) {{\n",
              "    x.observe(notebookContainer, {childList: true});\n",
              "}}\n",
              "\n",
              "// Listen for the clearing of the current output cell\n",
              "var outputEl = gd.closest('.output');\n",
              "if (outputEl) {{\n",
              "    x.observe(outputEl, {childList: true});\n",
              "}}\n",
              "\n",
              "                        })                };                            </script>        </div>\n",
              "</body>\n",
              "</html>"
            ]
          },
          "metadata": {}
        }
      ]
    },
    {
      "cell_type": "markdown",
      "source": [
        "# **POBLACIÓN OBJETIVO EN INICIATIVAS INTEGRADORAS**"
      ],
      "metadata": {
        "id": "CTiMuSXDV4xA"
      }
    },
    {
      "cell_type": "code",
      "source": [
        "spreadsheet = gc.open('Tablas de Base de Datos RIS_1_07_2024')\n",
        "worksheet = spreadsheet.worksheet('INIC_POBL_OBJ')\n",
        "\n",
        "# Retrieve all values from the worksheet\n",
        "data_4 = worksheet.get_all_values()\n",
        "\n",
        "# Extract column titles from the first row\n",
        "column_titles_4 = data_4[0]\n",
        "\n",
        "# Extract data rows excluding the first row\n",
        "data_rows_4 = data_4[1:]\n",
        "\n",
        "# Create DataFrame with column titles\n",
        "data_frame_4 = spark.createDataFrame(data_rows_4, column_titles_4)\n",
        "\n",
        "data_frame_4.createOrReplaceTempView(\"POB_OBJ\")\n",
        "\n",
        "# Show DataFrame\n",
        "data_frame_4.show()"
      ],
      "metadata": {
        "colab": {
          "base_uri": "https://localhost:8080/"
        },
        "id": "4l-Fza058c1-",
        "outputId": "fb854b4a-70f7-4bf6-96af-dff098d06e55"
      },
      "execution_count": null,
      "outputs": [
        {
          "output_type": "stream",
          "name": "stdout",
          "text": [
            "+-------------+--------------------+-------------+--------------------+\n",
            "|ID_INICIATIVA|      TIPO_POBLACION|NUM_POBLACION|    NOMBRE_POBLACION|\n",
            "+-------------+--------------------+-------------+--------------------+\n",
            "|      BCN_IN1|Funcionario/as pú...|             |   Alcaldía de Anorí|\n",
            "|      BCN_IN1|             Jóvenes|             |Jóvenes Instituci...|\n",
            "|      BCN_IN1|        Campesino/as|             |Juntas de acción ...|\n",
            "|      BCN_IN1|             Mujeres|             |Mujeres vinculada...|\n",
            "|      BCN_IN1|Organizaciones de...|             |Organizaciones de...|\n",
            "|      BCN_IN2|        Campesino/as|          376|Familias caficult...|\n",
            "|      BCN_IN2|        Campesino/as|           77|Familias particip...|\n",
            "|      BCN_IN2|             Mujeres|          200|mujeres participa...|\n",
            "|      BCN_IN3|             General|             |  Comunidad general |\n",
            "|      BCN_IN3| Lideres/as sociales|           60|Redes de Consejer...|\n",
            "|      BCN_IN4|           Indígenas|           40|Las comunidades é...|\n",
            "|      BCN_IN5|             Jóvenes|          700|Jóvenes en total,...|\n",
            "|      BOG_IN2|             Otro/as|             |Comunidades de ac...|\n",
            "|      BOG_IN2|             Jóvenes|             |             Jóvenes|\n",
            "|      BOG_IN2|             Mujeres|             |             Mujeres|\n",
            "|      BOG_IN2|Organizaciones so...|             |Organizaciones de...|\n",
            "|      BOG_IN2|Organizaciones so...|             |Organizaciones no...|\n",
            "|      BOG_IN2|           Migrantes|             |  Población migrante|\n",
            "|      BOG_IN2|             Otro/as|             | Población retornada|\n",
            "|      BOG_IN2|Víctimas del conf...|             |Población víctima...|\n",
            "+-------------+--------------------+-------------+--------------------+\n",
            "only showing top 20 rows\n",
            "\n"
          ]
        }
      ]
    },
    {
      "cell_type": "code",
      "source": [
        "from pyspark.sql import SparkSession\n",
        "from pyspark.sql.functions import sum as spark_sum\n",
        "\n",
        "# Group by 'category' and sum the 'value' column\n",
        "grouped_sum_df2 = data_frame_4.groupBy(\"iD_INICIATIVA\").agg(spark_sum(\"NUM_POBLACION\").alias(\"sum_poblacion\"))\n",
        "\n",
        "# Show the result\n",
        "grouped_sum_df2.show()\n"
      ],
      "metadata": {
        "colab": {
          "base_uri": "https://localhost:8080/"
        },
        "id": "_aca5a2lPrHh",
        "outputId": "8d42500c-1e86-4801-fc0a-451925ce114a"
      },
      "execution_count": null,
      "outputs": [
        {
          "output_type": "stream",
          "name": "stdout",
          "text": [
            "+-------------+-------------+\n",
            "|iD_INICIATIVA|sum_poblacion|\n",
            "+-------------+-------------+\n",
            "|      BCN_IN3|         60.0|\n",
            "|      CQT_IN4|         18.0|\n",
            "|      CQT_IN5|        240.0|\n",
            "|      CQT_IN3|         71.0|\n",
            "|      CQT_IN1|         83.0|\n",
            "|      BCN_IN5|        700.0|\n",
            "|      BCN_IN4|         40.0|\n",
            "|      CAT_IN4|          9.0|\n",
            "|      CAT_IN1|       1369.0|\n",
            "|      BCN_IN2|        653.0|\n",
            "|      BCN_IN1|         NULL|\n",
            "|      BOG_IN2|         NULL|\n",
            "|      CAT_IN3|          8.0|\n",
            "|      CQT_IN2|         40.0|\n",
            "|      CAT_IN2|         25.0|\n",
            "|      SDC_IN2|         NULL|\n",
            "|      PCF_IN1|       1296.0|\n",
            "|      PCF_IN7|       1430.0|\n",
            "|      PCF_IN5|         45.0|\n",
            "|      CQT_IN7|         10.0|\n",
            "+-------------+-------------+\n",
            "only showing top 20 rows\n",
            "\n"
          ]
        }
      ]
    },
    {
      "cell_type": "code",
      "source": [
        "from pyspark.sql import SparkSession\n",
        "from pyspark.sql.functions import sum as spark_sum\n",
        "\n",
        "# Group by 'category' and sum the 'value' column\n",
        "grouped_sum_df3 = data_frame_4.groupBy(\"TIPO_POBLACION\").agg(spark_sum(\"NUM_POBLACION\").alias(\"sum_tipo_pobl\"))\n",
        "\n",
        "# Show the result\n",
        "grouped_sum_df3.show()"
      ],
      "metadata": {
        "colab": {
          "base_uri": "https://localhost:8080/"
        },
        "id": "I9Bdp6T8PyRJ",
        "outputId": "19327720-bc26-453d-90d2-3ea0212bcb3f"
      },
      "execution_count": null,
      "outputs": [
        {
          "output_type": "stream",
          "name": "stdout",
          "text": [
            "+--------------------+-------------+\n",
            "|      TIPO_POBLACION|sum_tipo_pobl|\n",
            "+--------------------+-------------+\n",
            "|           Indígenas|        669.0|\n",
            "|Víctimas del conf...|         NULL|\n",
            "|             Otro/as|         51.0|\n",
            "| Lideres/as sociales|        460.0|\n",
            "|             General|         90.0|\n",
            "|Esquema asociativ...|          5.0|\n",
            "|             Mujeres|       1040.0|\n",
            "|Organizaciones de...|         10.0|\n",
            "|Organizaciones so...|         33.0|\n",
            "|        Campesino/as|       5044.0|\n",
            "|Funcionario/as pú...|        418.0|\n",
            "|             Jóvenes|       2264.0|\n",
            "|           Migrantes|         NULL|\n",
            "|   Gobiernos Locales|         35.0|\n",
            "|Unidades Productivas|         30.0|\n",
            "|   Afrocolombiano/as|       1000.0|\n",
            "+--------------------+-------------+\n",
            "\n"
          ]
        }
      ]
    },
    {
      "cell_type": "code",
      "source": [
        "import pandas as pd\n",
        "from google.colab import files\n",
        "\n",
        "# Convert PySpark DataFrame to Pandas DataFrame\n",
        "grouped_sum_pd_df3 = grouped_sum_df3.toPandas()"
      ],
      "metadata": {
        "id": "TTYSrZluP-pp"
      },
      "execution_count": null,
      "outputs": []
    },
    {
      "cell_type": "code",
      "source": [
        "# Sort the DataFrame by 'UniqueID_INICIATIVAS' in descending order\n",
        "grouped_sum_pd_df3_sorted = grouped_sum_pd_df3.sort_values(by='sum_tipo_pobl', ascending=False)\n",
        "\n",
        "\n",
        "# Create the bar plot\n",
        "fig = px.bar(grouped_sum_pd_df3_sorted, x='TIPO_POBLACION', y='sum_tipo_pobl', title='TIPO DE POBLACIÓN EN INICIATIVAS')\n",
        "\n",
        "# Customize the plot\n",
        "fig.update_layout(\n",
        "    xaxis_title='TIPO DE POBLACIÓN',\n",
        "    yaxis_title='NÚMERO',\n",
        "    title={\n",
        "        'text': 'TIPO DE POBLACIÓN EN INICIATIVAS INTEGRADORAS',\n",
        "        'y':0.9,\n",
        "        'x':0.5,\n",
        "        'xanchor': 'center',\n",
        "        'yanchor': 'top'\n",
        "    },\n",
        "    font=dict(\n",
        "        family=\"Arial\",\n",
        "        size=15,\n",
        "        color=\"black\"\n",
        "    )\n",
        ")\n",
        "\n",
        "# Update the text position to be inside the bars\n",
        "fig.update_traces(texttemplate='%{y}', textposition='inside')\n",
        "\n",
        "# Show the plot\n",
        "fig.show()"
      ],
      "metadata": {
        "colab": {
          "base_uri": "https://localhost:8080/",
          "height": 542
        },
        "id": "rulGwpa8QVnD",
        "outputId": "9792f384-0a4f-47c5-9753-504eb617784d"
      },
      "execution_count": null,
      "outputs": [
        {
          "output_type": "display_data",
          "data": {
            "text/html": [
              "<html>\n",
              "<head><meta charset=\"utf-8\" /></head>\n",
              "<body>\n",
              "    <div>            <script src=\"https://cdnjs.cloudflare.com/ajax/libs/mathjax/2.7.5/MathJax.js?config=TeX-AMS-MML_SVG\"></script><script type=\"text/javascript\">if (window.MathJax && window.MathJax.Hub && window.MathJax.Hub.Config) {window.MathJax.Hub.Config({SVG: {font: \"STIX-Web\"}});}</script>                <script type=\"text/javascript\">window.PlotlyConfig = {MathJaxConfig: 'local'};</script>\n",
              "        <script charset=\"utf-8\" src=\"https://cdn.plot.ly/plotly-2.24.1.min.js\"></script>                <div id=\"2f039497-efee-4794-b5f2-1849038bd241\" class=\"plotly-graph-div\" style=\"height:525px; width:100%;\"></div>            <script type=\"text/javascript\">                                    window.PLOTLYENV=window.PLOTLYENV || {};                                    if (document.getElementById(\"2f039497-efee-4794-b5f2-1849038bd241\")) {                    Plotly.newPlot(                        \"2f039497-efee-4794-b5f2-1849038bd241\",                        [{\"alignmentgroup\":\"True\",\"hovertemplate\":\"TIPO_POBLACION=%{x}\\u003cbr\\u003esum_tipo_pobl=%{y}\\u003cextra\\u003e\\u003c\\u002fextra\\u003e\",\"legendgroup\":\"\",\"marker\":{\"color\":\"#636efa\",\"pattern\":{\"shape\":\"\"}},\"name\":\"\",\"offsetgroup\":\"\",\"orientation\":\"v\",\"showlegend\":false,\"textposition\":\"inside\",\"x\":[\"Campesino\\u002fas\",\"J\\u00f3venes\",\"Mujeres\",\"Afrocolombiano\\u002fas\",\"Ind\\u00edgenas\",\"Lideres\\u002fas sociales\",\"Funcionario\\u002fas p\\u00fablico\\u002fas\",\"General\",\"Otro\\u002fas\",\"Gobiernos Locales\",\"Organizaciones sociales\",\"Unidades Productivas\",\"Organizaciones de productores\",\"Esquema asociativo territorial\",\"V\\u00edctimas del conflicto armado\",\"Migrantes\"],\"xaxis\":\"x\",\"y\":[5044.0,2264.0,1040.0,1000.0,669.0,460.0,418.0,90.0,51.0,35.0,33.0,30.0,10.0,5.0,null,null],\"yaxis\":\"y\",\"type\":\"bar\",\"texttemplate\":\"%{y}\"}],                        {\"template\":{\"data\":{\"histogram2dcontour\":[{\"type\":\"histogram2dcontour\",\"colorbar\":{\"outlinewidth\":0,\"ticks\":\"\"},\"colorscale\":[[0.0,\"#0d0887\"],[0.1111111111111111,\"#46039f\"],[0.2222222222222222,\"#7201a8\"],[0.3333333333333333,\"#9c179e\"],[0.4444444444444444,\"#bd3786\"],[0.5555555555555556,\"#d8576b\"],[0.6666666666666666,\"#ed7953\"],[0.7777777777777778,\"#fb9f3a\"],[0.8888888888888888,\"#fdca26\"],[1.0,\"#f0f921\"]]}],\"choropleth\":[{\"type\":\"choropleth\",\"colorbar\":{\"outlinewidth\":0,\"ticks\":\"\"}}],\"histogram2d\":[{\"type\":\"histogram2d\",\"colorbar\":{\"outlinewidth\":0,\"ticks\":\"\"},\"colorscale\":[[0.0,\"#0d0887\"],[0.1111111111111111,\"#46039f\"],[0.2222222222222222,\"#7201a8\"],[0.3333333333333333,\"#9c179e\"],[0.4444444444444444,\"#bd3786\"],[0.5555555555555556,\"#d8576b\"],[0.6666666666666666,\"#ed7953\"],[0.7777777777777778,\"#fb9f3a\"],[0.8888888888888888,\"#fdca26\"],[1.0,\"#f0f921\"]]}],\"heatmap\":[{\"type\":\"heatmap\",\"colorbar\":{\"outlinewidth\":0,\"ticks\":\"\"},\"colorscale\":[[0.0,\"#0d0887\"],[0.1111111111111111,\"#46039f\"],[0.2222222222222222,\"#7201a8\"],[0.3333333333333333,\"#9c179e\"],[0.4444444444444444,\"#bd3786\"],[0.5555555555555556,\"#d8576b\"],[0.6666666666666666,\"#ed7953\"],[0.7777777777777778,\"#fb9f3a\"],[0.8888888888888888,\"#fdca26\"],[1.0,\"#f0f921\"]]}],\"heatmapgl\":[{\"type\":\"heatmapgl\",\"colorbar\":{\"outlinewidth\":0,\"ticks\":\"\"},\"colorscale\":[[0.0,\"#0d0887\"],[0.1111111111111111,\"#46039f\"],[0.2222222222222222,\"#7201a8\"],[0.3333333333333333,\"#9c179e\"],[0.4444444444444444,\"#bd3786\"],[0.5555555555555556,\"#d8576b\"],[0.6666666666666666,\"#ed7953\"],[0.7777777777777778,\"#fb9f3a\"],[0.8888888888888888,\"#fdca26\"],[1.0,\"#f0f921\"]]}],\"contourcarpet\":[{\"type\":\"contourcarpet\",\"colorbar\":{\"outlinewidth\":0,\"ticks\":\"\"}}],\"contour\":[{\"type\":\"contour\",\"colorbar\":{\"outlinewidth\":0,\"ticks\":\"\"},\"colorscale\":[[0.0,\"#0d0887\"],[0.1111111111111111,\"#46039f\"],[0.2222222222222222,\"#7201a8\"],[0.3333333333333333,\"#9c179e\"],[0.4444444444444444,\"#bd3786\"],[0.5555555555555556,\"#d8576b\"],[0.6666666666666666,\"#ed7953\"],[0.7777777777777778,\"#fb9f3a\"],[0.8888888888888888,\"#fdca26\"],[1.0,\"#f0f921\"]]}],\"surface\":[{\"type\":\"surface\",\"colorbar\":{\"outlinewidth\":0,\"ticks\":\"\"},\"colorscale\":[[0.0,\"#0d0887\"],[0.1111111111111111,\"#46039f\"],[0.2222222222222222,\"#7201a8\"],[0.3333333333333333,\"#9c179e\"],[0.4444444444444444,\"#bd3786\"],[0.5555555555555556,\"#d8576b\"],[0.6666666666666666,\"#ed7953\"],[0.7777777777777778,\"#fb9f3a\"],[0.8888888888888888,\"#fdca26\"],[1.0,\"#f0f921\"]]}],\"mesh3d\":[{\"type\":\"mesh3d\",\"colorbar\":{\"outlinewidth\":0,\"ticks\":\"\"}}],\"scatter\":[{\"fillpattern\":{\"fillmode\":\"overlay\",\"size\":10,\"solidity\":0.2},\"type\":\"scatter\"}],\"parcoords\":[{\"type\":\"parcoords\",\"line\":{\"colorbar\":{\"outlinewidth\":0,\"ticks\":\"\"}}}],\"scatterpolargl\":[{\"type\":\"scatterpolargl\",\"marker\":{\"colorbar\":{\"outlinewidth\":0,\"ticks\":\"\"}}}],\"bar\":[{\"error_x\":{\"color\":\"#2a3f5f\"},\"error_y\":{\"color\":\"#2a3f5f\"},\"marker\":{\"line\":{\"color\":\"#E5ECF6\",\"width\":0.5},\"pattern\":{\"fillmode\":\"overlay\",\"size\":10,\"solidity\":0.2}},\"type\":\"bar\"}],\"scattergeo\":[{\"type\":\"scattergeo\",\"marker\":{\"colorbar\":{\"outlinewidth\":0,\"ticks\":\"\"}}}],\"scatterpolar\":[{\"type\":\"scatterpolar\",\"marker\":{\"colorbar\":{\"outlinewidth\":0,\"ticks\":\"\"}}}],\"histogram\":[{\"marker\":{\"pattern\":{\"fillmode\":\"overlay\",\"size\":10,\"solidity\":0.2}},\"type\":\"histogram\"}],\"scattergl\":[{\"type\":\"scattergl\",\"marker\":{\"colorbar\":{\"outlinewidth\":0,\"ticks\":\"\"}}}],\"scatter3d\":[{\"type\":\"scatter3d\",\"line\":{\"colorbar\":{\"outlinewidth\":0,\"ticks\":\"\"}},\"marker\":{\"colorbar\":{\"outlinewidth\":0,\"ticks\":\"\"}}}],\"scattermapbox\":[{\"type\":\"scattermapbox\",\"marker\":{\"colorbar\":{\"outlinewidth\":0,\"ticks\":\"\"}}}],\"scatterternary\":[{\"type\":\"scatterternary\",\"marker\":{\"colorbar\":{\"outlinewidth\":0,\"ticks\":\"\"}}}],\"scattercarpet\":[{\"type\":\"scattercarpet\",\"marker\":{\"colorbar\":{\"outlinewidth\":0,\"ticks\":\"\"}}}],\"carpet\":[{\"aaxis\":{\"endlinecolor\":\"#2a3f5f\",\"gridcolor\":\"white\",\"linecolor\":\"white\",\"minorgridcolor\":\"white\",\"startlinecolor\":\"#2a3f5f\"},\"baxis\":{\"endlinecolor\":\"#2a3f5f\",\"gridcolor\":\"white\",\"linecolor\":\"white\",\"minorgridcolor\":\"white\",\"startlinecolor\":\"#2a3f5f\"},\"type\":\"carpet\"}],\"table\":[{\"cells\":{\"fill\":{\"color\":\"#EBF0F8\"},\"line\":{\"color\":\"white\"}},\"header\":{\"fill\":{\"color\":\"#C8D4E3\"},\"line\":{\"color\":\"white\"}},\"type\":\"table\"}],\"barpolar\":[{\"marker\":{\"line\":{\"color\":\"#E5ECF6\",\"width\":0.5},\"pattern\":{\"fillmode\":\"overlay\",\"size\":10,\"solidity\":0.2}},\"type\":\"barpolar\"}],\"pie\":[{\"automargin\":true,\"type\":\"pie\"}]},\"layout\":{\"autotypenumbers\":\"strict\",\"colorway\":[\"#636efa\",\"#EF553B\",\"#00cc96\",\"#ab63fa\",\"#FFA15A\",\"#19d3f3\",\"#FF6692\",\"#B6E880\",\"#FF97FF\",\"#FECB52\"],\"font\":{\"color\":\"#2a3f5f\"},\"hovermode\":\"closest\",\"hoverlabel\":{\"align\":\"left\"},\"paper_bgcolor\":\"white\",\"plot_bgcolor\":\"#E5ECF6\",\"polar\":{\"bgcolor\":\"#E5ECF6\",\"angularaxis\":{\"gridcolor\":\"white\",\"linecolor\":\"white\",\"ticks\":\"\"},\"radialaxis\":{\"gridcolor\":\"white\",\"linecolor\":\"white\",\"ticks\":\"\"}},\"ternary\":{\"bgcolor\":\"#E5ECF6\",\"aaxis\":{\"gridcolor\":\"white\",\"linecolor\":\"white\",\"ticks\":\"\"},\"baxis\":{\"gridcolor\":\"white\",\"linecolor\":\"white\",\"ticks\":\"\"},\"caxis\":{\"gridcolor\":\"white\",\"linecolor\":\"white\",\"ticks\":\"\"}},\"coloraxis\":{\"colorbar\":{\"outlinewidth\":0,\"ticks\":\"\"}},\"colorscale\":{\"sequential\":[[0.0,\"#0d0887\"],[0.1111111111111111,\"#46039f\"],[0.2222222222222222,\"#7201a8\"],[0.3333333333333333,\"#9c179e\"],[0.4444444444444444,\"#bd3786\"],[0.5555555555555556,\"#d8576b\"],[0.6666666666666666,\"#ed7953\"],[0.7777777777777778,\"#fb9f3a\"],[0.8888888888888888,\"#fdca26\"],[1.0,\"#f0f921\"]],\"sequentialminus\":[[0.0,\"#0d0887\"],[0.1111111111111111,\"#46039f\"],[0.2222222222222222,\"#7201a8\"],[0.3333333333333333,\"#9c179e\"],[0.4444444444444444,\"#bd3786\"],[0.5555555555555556,\"#d8576b\"],[0.6666666666666666,\"#ed7953\"],[0.7777777777777778,\"#fb9f3a\"],[0.8888888888888888,\"#fdca26\"],[1.0,\"#f0f921\"]],\"diverging\":[[0,\"#8e0152\"],[0.1,\"#c51b7d\"],[0.2,\"#de77ae\"],[0.3,\"#f1b6da\"],[0.4,\"#fde0ef\"],[0.5,\"#f7f7f7\"],[0.6,\"#e6f5d0\"],[0.7,\"#b8e186\"],[0.8,\"#7fbc41\"],[0.9,\"#4d9221\"],[1,\"#276419\"]]},\"xaxis\":{\"gridcolor\":\"white\",\"linecolor\":\"white\",\"ticks\":\"\",\"title\":{\"standoff\":15},\"zerolinecolor\":\"white\",\"automargin\":true,\"zerolinewidth\":2},\"yaxis\":{\"gridcolor\":\"white\",\"linecolor\":\"white\",\"ticks\":\"\",\"title\":{\"standoff\":15},\"zerolinecolor\":\"white\",\"automargin\":true,\"zerolinewidth\":2},\"scene\":{\"xaxis\":{\"backgroundcolor\":\"#E5ECF6\",\"gridcolor\":\"white\",\"linecolor\":\"white\",\"showbackground\":true,\"ticks\":\"\",\"zerolinecolor\":\"white\",\"gridwidth\":2},\"yaxis\":{\"backgroundcolor\":\"#E5ECF6\",\"gridcolor\":\"white\",\"linecolor\":\"white\",\"showbackground\":true,\"ticks\":\"\",\"zerolinecolor\":\"white\",\"gridwidth\":2},\"zaxis\":{\"backgroundcolor\":\"#E5ECF6\",\"gridcolor\":\"white\",\"linecolor\":\"white\",\"showbackground\":true,\"ticks\":\"\",\"zerolinecolor\":\"white\",\"gridwidth\":2}},\"shapedefaults\":{\"line\":{\"color\":\"#2a3f5f\"}},\"annotationdefaults\":{\"arrowcolor\":\"#2a3f5f\",\"arrowhead\":0,\"arrowwidth\":1},\"geo\":{\"bgcolor\":\"white\",\"landcolor\":\"#E5ECF6\",\"subunitcolor\":\"white\",\"showland\":true,\"showlakes\":true,\"lakecolor\":\"white\"},\"title\":{\"x\":0.05},\"mapbox\":{\"style\":\"light\"}}},\"xaxis\":{\"anchor\":\"y\",\"domain\":[0.0,1.0],\"title\":{\"text\":\"TIPO DE POBLACI\\u00d3N\"}},\"yaxis\":{\"anchor\":\"x\",\"domain\":[0.0,1.0],\"title\":{\"text\":\"N\\u00daMERO\"}},\"legend\":{\"tracegroupgap\":0},\"title\":{\"text\":\"TIPO DE POBLACI\\u00d3N EN INICIATIVAS INTEGRADORAS\",\"y\":0.9,\"x\":0.5,\"xanchor\":\"center\",\"yanchor\":\"top\"},\"barmode\":\"relative\",\"font\":{\"family\":\"Arial\",\"size\":15,\"color\":\"black\"}},                        {\"responsive\": true}                    ).then(function(){\n",
              "                            \n",
              "var gd = document.getElementById('2f039497-efee-4794-b5f2-1849038bd241');\n",
              "var x = new MutationObserver(function (mutations, observer) {{\n",
              "        var display = window.getComputedStyle(gd).display;\n",
              "        if (!display || display === 'none') {{\n",
              "            console.log([gd, 'removed!']);\n",
              "            Plotly.purge(gd);\n",
              "            observer.disconnect();\n",
              "        }}\n",
              "}});\n",
              "\n",
              "// Listen for the removal of the full notebook cells\n",
              "var notebookContainer = gd.closest('#notebook-container');\n",
              "if (notebookContainer) {{\n",
              "    x.observe(notebookContainer, {childList: true});\n",
              "}}\n",
              "\n",
              "// Listen for the clearing of the current output cell\n",
              "var outputEl = gd.closest('.output');\n",
              "if (outputEl) {{\n",
              "    x.observe(outputEl, {childList: true});\n",
              "}}\n",
              "\n",
              "                        })                };                            </script>        </div>\n",
              "</body>\n",
              "</html>"
            ]
          },
          "metadata": {}
        }
      ]
    },
    {
      "cell_type": "code",
      "source": [
        "# List of columns to count unique values for\n",
        "columns_to_count = [\"ID_REGION\", \"INICIATIVA_PDET\", \"ASOCIADA_CAP_ETNICO\", \"ASOCIADA_PDD\"  ]\n",
        "\n",
        "# Loop through each column and execute the SQL query\n",
        "for col in columns_to_count:\n",
        "    query = f\"SELECT {col}, COUNT(*) AS count FROM IE_RIS GROUP BY {col}\"\n",
        "    result = spark.sql(query)\n",
        "    print(f\"Unique values and their counts for column '{col}':\")\n",
        "    result.show()"
      ],
      "metadata": {
        "colab": {
          "base_uri": "https://localhost:8080/"
        },
        "id": "plMFENgyX-VL",
        "outputId": "97ab9e5a-a3c6-4a6a-e7d2-bfb9c0b846e6"
      },
      "execution_count": null,
      "outputs": [
        {
          "output_type": "stream",
          "name": "stdout",
          "text": [
            "Unique values and their counts for column 'ID_REGION':\n",
            "+---------+-----+\n",
            "|ID_REGION|count|\n",
            "+---------+-----+\n",
            "|      SDC|    2|\n",
            "|      BCN|    5|\n",
            "|      PCF|    8|\n",
            "|      CAT|    4|\n",
            "|      CQT|    9|\n",
            "|      BOG|    6|\n",
            "+---------+-----+\n",
            "\n",
            "Unique values and their counts for column 'INICIATIVA_PDET':\n",
            "+---------------+-----+\n",
            "|INICIATIVA_PDET|count|\n",
            "+---------------+-----+\n",
            "|             SÍ|   19|\n",
            "|             NO|   15|\n",
            "+---------------+-----+\n",
            "\n",
            "Unique values and their counts for column 'ASOCIADA_CAP_ETNICO':\n",
            "+-------------------+-----+\n",
            "|ASOCIADA_CAP_ETNICO|count|\n",
            "+-------------------+-----+\n",
            "|                   |   21|\n",
            "|                 NO|   13|\n",
            "+-------------------+-----+\n",
            "\n",
            "Unique values and their counts for column 'ASOCIADA_PDD':\n",
            "+------------+-----+\n",
            "|ASOCIADA_PDD|count|\n",
            "+------------+-----+\n",
            "|          SÍ|   34|\n",
            "+------------+-----+\n",
            "\n"
          ]
        }
      ]
    }
  ]
}